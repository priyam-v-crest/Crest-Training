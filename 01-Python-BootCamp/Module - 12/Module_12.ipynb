{
 "cells": [
  {
   "cell_type": "code",
   "execution_count": null,
   "id": "45ec5c69",
   "metadata": {},
   "outputs": [],
   "source": []
  },
  {
   "cell_type": "code",
   "execution_count": 1,
   "id": "49a764f2",
   "metadata": {},
   "outputs": [],
   "source": [
    "def new_decorator(original_function):\n",
    "    def wrap_func():\n",
    "        \n",
    "        print('Before Original Function')\n",
    "        original_function()\n",
    "        print('After Original Function')\n",
    "\n",
    "    return wrap_func\n"
   ]
  },
  {
   "cell_type": "code",
   "execution_count": null,
   "id": "31f6ece5",
   "metadata": {},
   "outputs": [],
   "source": [
    "\n",
    "def func_needs_decorator():\n",
    "    print('I want decorator')"
   ]
  },
  {
   "cell_type": "code",
   "execution_count": 3,
   "id": "89002609",
   "metadata": {},
   "outputs": [
    {
     "name": "stdout",
     "output_type": "stream",
     "text": [
      "Before Original Function\n",
      "I want decorator\n",
      "After Original Function\n"
     ]
    }
   ],
   "source": [
    "decorated_func = new_decorator(func_needs_decorator)\n",
    "decorated_func()"
   ]
  },
  {
   "cell_type": "code",
   "execution_count": 7,
   "id": "01e6bb9c",
   "metadata": {},
   "outputs": [],
   "source": [
    "\n",
    "# @new_decorator\n",
    "def func_needs_decorator():\n",
    "    print('I want decorator')"
   ]
  },
  {
   "cell_type": "code",
   "execution_count": 8,
   "id": "0605e533",
   "metadata": {},
   "outputs": [
    {
     "name": "stdout",
     "output_type": "stream",
     "text": [
      "I want decorator\n"
     ]
    }
   ],
   "source": [
    "func_needs_decorator()"
   ]
  },
  {
   "cell_type": "code",
   "execution_count": null,
   "id": "1f1cb611",
   "metadata": {},
   "outputs": [],
   "source": []
  }
 ],
 "metadata": {
  "kernelspec": {
   "display_name": "base",
   "language": "python",
   "name": "python3"
  },
  "language_info": {
   "codemirror_mode": {
    "name": "ipython",
    "version": 3
   },
   "file_extension": ".py",
   "mimetype": "text/x-python",
   "name": "python",
   "nbconvert_exporter": "python",
   "pygments_lexer": "ipython3",
   "version": "3.13.5"
  }
 },
 "nbformat": 4,
 "nbformat_minor": 5
}
