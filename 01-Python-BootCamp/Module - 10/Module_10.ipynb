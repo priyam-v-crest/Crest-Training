{
 "cells": [
  {
   "cell_type": "code",
   "execution_count": 1,
   "id": "d65e21fe",
   "metadata": {},
   "outputs": [
    {
     "name": "stdout",
     "output_type": "stream",
     "text": [
      "I'm running Lil bro\n"
     ]
    }
   ],
   "source": [
    "try:\n",
    "    f = open('testfile','w')\n",
    "    f.write(\"Test Line\")\n",
    "except TypeError:\n",
    "    print(\"Type Error Found!\")\n",
    "except OSError:\n",
    "    print(\"OS Error Found!\")\n",
    "finally:\n",
    "    print(\"I'm running Lil bro\")"
   ]
  },
  {
   "cell_type": "code",
   "execution_count": null,
   "id": "a78f8492",
   "metadata": {},
   "outputs": [
    {
     "name": "stdout",
     "output_type": "stream",
     "text": [
      "OS Error Found!\n",
      "I'm running Lil bro\n"
     ]
    }
   ],
   "source": [
    "try:\n",
    "    f = open('testfile','r')\n",
    "    f.write(\"Test Line\")\n",
    "except TypeError:\n",
    "    print(\"Type Error Found!\")\n",
    "except OSError:\n",
    "    print(\"OS Error Found!\")\n",
    "finally:\n",
    "    print(\"I'm running Lil bro\")"
   ]
  },
  {
   "cell_type": "code",
   "execution_count": 1,
   "id": "fc7fe1e2",
   "metadata": {},
   "outputs": [],
   "source": [
    "def ask_for_int():\n",
    "    while True:\n",
    "        try:\n",
    "            result = int(input(\"Enter a number: \"))\n",
    "        except:\n",
    "            print(\"It Ain't a number lil bro!\")\n",
    "            continue\n",
    "        else:\n",
    "            print(\"Thanks for the digits\")\n",
    "            break\n",
    "        finally:\n",
    "            print(\"End of Block.\")"
   ]
  },
  {
   "cell_type": "code",
   "execution_count": 2,
   "id": "89559439",
   "metadata": {},
   "outputs": [
    {
     "name": "stdout",
     "output_type": "stream",
     "text": [
      "It Ain't a number lil bro!\n",
      "End of Block.\n",
      "Thanks for the digits\n",
      "End of Block.\n"
     ]
    }
   ],
   "source": [
    "ask_for_int()"
   ]
  },
  {
   "cell_type": "code",
   "execution_count": null,
   "id": "edd67c5f",
   "metadata": {},
   "outputs": [],
   "source": []
  }
 ],
 "metadata": {
  "kernelspec": {
   "display_name": "base",
   "language": "python",
   "name": "python3"
  },
  "language_info": {
   "codemirror_mode": {
    "name": "ipython",
    "version": 3
   },
   "file_extension": ".py",
   "mimetype": "text/x-python",
   "name": "python",
   "nbconvert_exporter": "python",
   "pygments_lexer": "ipython3",
   "version": "3.13.5"
  }
 },
 "nbformat": 4,
 "nbformat_minor": 5
}
