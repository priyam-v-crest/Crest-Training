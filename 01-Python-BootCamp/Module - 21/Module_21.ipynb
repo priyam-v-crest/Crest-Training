{
 "cells": [
  {
   "cell_type": "code",
   "execution_count": 1,
   "id": "98b131f7",
   "metadata": {},
   "outputs": [],
   "source": [
    "from ipywidgets import interact, interactive\n",
    "import ipywidgets as widgets"
   ]
  },
  {
   "cell_type": "code",
   "execution_count": 3,
   "id": "5a0632fd",
   "metadata": {},
   "outputs": [],
   "source": [
    "def func(x):\n",
    "    return x"
   ]
  },
  {
   "cell_type": "code",
   "execution_count": 4,
   "id": "cf11a2ac",
   "metadata": {},
   "outputs": [
    {
     "data": {
      "application/vnd.jupyter.widget-view+json": {
       "model_id": "11701b3d84ef435da67fc65953aebe8c",
       "version_major": 2,
       "version_minor": 0
      },
      "text/plain": [
       "interactive(children=(Text(value='', description='x'), Output()), _dom_classes=('widget-interact',))"
      ]
     },
     "metadata": {},
     "output_type": "display_data"
    },
    {
     "data": {
      "text/plain": [
       "<function __main__.func(x)>"
      ]
     },
     "execution_count": 4,
     "metadata": {},
     "output_type": "execute_result"
    }
   ],
   "source": [
    "interact(func, x = '')"
   ]
  },
  {
   "cell_type": "code",
   "execution_count": 5,
   "id": "3d0a822f",
   "metadata": {},
   "outputs": [
    {
     "data": {
      "application/vnd.jupyter.widget-view+json": {
       "model_id": "ca4f13292167457c801c18a47a834a0d",
       "version_major": 2,
       "version_minor": 0
      },
      "text/plain": [
       "interactive(children=(Checkbox(value=True, description='x'), IntSlider(value=1, description='y', max=3, min=-1…"
      ]
     },
     "metadata": {},
     "output_type": "display_data"
    }
   ],
   "source": [
    "@interact(x=True, y=1)\n",
    "def g(x,y):\n",
    "    return (x,y)"
   ]
  },
  {
   "cell_type": "code",
   "execution_count": 6,
   "id": "d20bf07d",
   "metadata": {},
   "outputs": [
    {
     "data": {
      "application/vnd.jupyter.widget-view+json": {
       "model_id": "5a3ba2698f5448348589ccc31f7c4a99",
       "version_major": 2,
       "version_minor": 0
      },
      "text/plain": [
       "interactive(children=(IntSlider(value=0, description='x', min=-100), Output()), _dom_classes=('widget-interact…"
      ]
     },
     "metadata": {},
     "output_type": "display_data"
    },
    {
     "data": {
      "text/plain": [
       "<function __main__.func(x)>"
      ]
     },
     "execution_count": 6,
     "metadata": {},
     "output_type": "execute_result"
    }
   ],
   "source": [
    "interact(func, x = widgets.IntSlider(min=-100, max=100, step=1, value=0))"
   ]
  },
  {
   "cell_type": "code",
   "execution_count": 7,
   "id": "0997e241",
   "metadata": {},
   "outputs": [
    {
     "data": {
      "application/vnd.jupyter.widget-view+json": {
       "model_id": "f30a23c0e8d94680969d4f532f0b4dcc",
       "version_major": 2,
       "version_minor": 0
      },
      "text/plain": [
       "interactive(children=(FloatSlider(value=0.0, description='x', max=10.0, min=-10.0), Output()), _dom_classes=('…"
      ]
     },
     "metadata": {},
     "output_type": "display_data"
    },
    {
     "data": {
      "text/plain": [
       "<function __main__.func(x)>"
      ]
     },
     "execution_count": 7,
     "metadata": {},
     "output_type": "execute_result"
    }
   ],
   "source": [
    "interact(func, x=(-10.0, 10.0, .1))"
   ]
  },
  {
   "cell_type": "code",
   "execution_count": 8,
   "id": "f63b7183",
   "metadata": {},
   "outputs": [
    {
     "data": {
      "application/vnd.jupyter.widget-view+json": {
       "model_id": "400c1330c7494b4da5caeb2deee11562",
       "version_major": 2,
       "version_minor": 0
      },
      "text/plain": [
       "interactive(children=(FloatSlider(value=5.0, description='x', max=20.0, step=0.5), Output()), _dom_classes=('w…"
      ]
     },
     "metadata": {},
     "output_type": "display_data"
    }
   ],
   "source": [
    "@interact(x = (0.0, 20.0, 0.5))\n",
    "def h(x=5.0):\n",
    "    return x"
   ]
  },
  {
   "cell_type": "code",
   "execution_count": 9,
   "id": "850e74f2",
   "metadata": {},
   "outputs": [
    {
     "data": {
      "application/vnd.jupyter.widget-view+json": {
       "model_id": "ed0deac731da4a75a701306e9c19f5f4",
       "version_major": 2,
       "version_minor": 0
      },
      "text/plain": [
       "interactive(children=(Dropdown(description='x', options=('1', '2', '3'), value='1'), Output()), _dom_classes=(…"
      ]
     },
     "metadata": {},
     "output_type": "display_data"
    },
    {
     "data": {
      "text/plain": [
       "<function __main__.func(x)>"
      ]
     },
     "execution_count": 9,
     "metadata": {},
     "output_type": "execute_result"
    }
   ],
   "source": [
    "interact(func,x=['1','2','3'])"
   ]
  },
  {
   "cell_type": "code",
   "execution_count": 10,
   "id": "40223236",
   "metadata": {},
   "outputs": [
    {
     "data": {
      "application/vnd.jupyter.widget-view+json": {
       "model_id": "f07fb7596782462a8955f9f31a5af345",
       "version_major": 2,
       "version_minor": 0
      },
      "text/plain": [
       "interactive(children=(Dropdown(description='x', options={'one': 1, 'two': 2}, value=1), Output()), _dom_classe…"
      ]
     },
     "metadata": {},
     "output_type": "display_data"
    },
    {
     "data": {
      "text/plain": [
       "<function __main__.func(x)>"
      ]
     },
     "execution_count": 10,
     "metadata": {},
     "output_type": "execute_result"
    }
   ],
   "source": [
    "interact(func, x={'one':1,'two':2})"
   ]
  },
  {
   "cell_type": "code",
   "execution_count": 11,
   "id": "106e6f88",
   "metadata": {},
   "outputs": [],
   "source": [
    "from IPython.display import display\n",
    "\n",
    "def f(a,b):\n",
    "    display(a+b)\n",
    "    return a+b"
   ]
  },
  {
   "cell_type": "code",
   "execution_count": 12,
   "id": "8d004289",
   "metadata": {},
   "outputs": [],
   "source": [
    "w = interactive(f, a=10, b=20)"
   ]
  },
  {
   "cell_type": "code",
   "execution_count": 13,
   "id": "869720bf",
   "metadata": {},
   "outputs": [
    {
     "data": {
      "text/plain": [
       "ipywidgets.widgets.interaction.interactive"
      ]
     },
     "execution_count": 13,
     "metadata": {},
     "output_type": "execute_result"
    }
   ],
   "source": [
    "type(w)"
   ]
  },
  {
   "cell_type": "code",
   "execution_count": 14,
   "id": "641e0fc6",
   "metadata": {},
   "outputs": [
    {
     "data": {
      "text/plain": [
       "(IntSlider(value=10, description='a', max=30, min=-10),\n",
       " IntSlider(value=20, description='b', max=60, min=-20),\n",
       " Output())"
      ]
     },
     "execution_count": 14,
     "metadata": {},
     "output_type": "execute_result"
    }
   ],
   "source": [
    "w.children"
   ]
  },
  {
   "cell_type": "code",
   "execution_count": 15,
   "id": "d8a1af96",
   "metadata": {},
   "outputs": [
    {
     "data": {
      "application/vnd.jupyter.widget-view+json": {
       "model_id": "e61d241354dd4ffc814e3964a35c237d",
       "version_major": 2,
       "version_minor": 0
      },
      "text/plain": [
       "interactive(children=(IntSlider(value=10, description='a', max=30, min=-10), IntSlider(value=20, description='…"
      ]
     },
     "metadata": {},
     "output_type": "display_data"
    }
   ],
   "source": [
    "display(w)"
   ]
  },
  {
   "cell_type": "code",
   "execution_count": 16,
   "id": "d9d00db1",
   "metadata": {},
   "outputs": [],
   "source": [
    "w = widgets.IntSlider()"
   ]
  },
  {
   "cell_type": "code",
   "execution_count": 17,
   "id": "2f26edad",
   "metadata": {},
   "outputs": [
    {
     "data": {
      "application/vnd.jupyter.widget-view+json": {
       "model_id": "1765f1cb639c4ef3b3698360af563794",
       "version_major": 2,
       "version_minor": 0
      },
      "text/plain": [
       "IntSlider(value=0)"
      ]
     },
     "metadata": {},
     "output_type": "display_data"
    }
   ],
   "source": [
    "display(w)"
   ]
  },
  {
   "cell_type": "code",
   "execution_count": 19,
   "id": "10b3800a",
   "metadata": {},
   "outputs": [
    {
     "data": {
      "application/vnd.jupyter.widget-view+json": {
       "model_id": "1765f1cb639c4ef3b3698360af563794",
       "version_major": 2,
       "version_minor": 0
      },
      "text/plain": [
       "IntSlider(value=51)"
      ]
     },
     "metadata": {},
     "output_type": "display_data"
    }
   ],
   "source": [
    "display(w)"
   ]
  },
  {
   "cell_type": "code",
   "execution_count": 20,
   "id": "43f4e88c",
   "metadata": {},
   "outputs": [],
   "source": [
    "w.close()"
   ]
  },
  {
   "cell_type": "code",
   "execution_count": 23,
   "id": "0e706b69",
   "metadata": {},
   "outputs": [
    {
     "data": {
      "application/vnd.jupyter.widget-view+json": {
       "model_id": "9e68980a8a5c4570a9a918b07017ddce",
       "version_major": 2,
       "version_minor": 0
      },
      "text/plain": [
       "IntSlider(value=0)"
      ]
     },
     "metadata": {},
     "output_type": "display_data"
    }
   ],
   "source": [
    "w = widgets.IntSlider()\n",
    "display(w)"
   ]
  },
  {
   "cell_type": "code",
   "execution_count": 26,
   "id": "99a24e10",
   "metadata": {},
   "outputs": [],
   "source": [
    "w.value = 50"
   ]
  },
  {
   "cell_type": "code",
   "execution_count": 27,
   "id": "b29e1dfe",
   "metadata": {},
   "outputs": [
    {
     "data": {
      "text/plain": [
       "['_dom_classes',\n",
       " '_model_module',\n",
       " '_model_module_version',\n",
       " '_model_name',\n",
       " '_view_count',\n",
       " '_view_module',\n",
       " '_view_module_version',\n",
       " '_view_name',\n",
       " 'behavior',\n",
       " 'continuous_update',\n",
       " 'description',\n",
       " 'description_allow_html',\n",
       " 'disabled',\n",
       " 'layout',\n",
       " 'max',\n",
       " 'min',\n",
       " 'orientation',\n",
       " 'readout',\n",
       " 'readout_format',\n",
       " 'step',\n",
       " 'style',\n",
       " 'tabbable',\n",
       " 'tooltip',\n",
       " 'value']"
      ]
     },
     "execution_count": 27,
     "metadata": {},
     "output_type": "execute_result"
    }
   ],
   "source": [
    "w.keys"
   ]
  },
  {
   "cell_type": "code",
   "execution_count": 28,
   "id": "b17840bb",
   "metadata": {},
   "outputs": [],
   "source": [
    "w.max = 2000"
   ]
  },
  {
   "cell_type": "code",
   "execution_count": 35,
   "id": "d962dbf2",
   "metadata": {},
   "outputs": [
    {
     "data": {
      "application/vnd.jupyter.widget-view+json": {
       "model_id": "9d2e144edb74451ead901fd8ff269313",
       "version_major": 2,
       "version_minor": 0
      },
      "text/plain": [
       "FloatText(value=0.0)"
      ]
     },
     "metadata": {},
     "output_type": "display_data"
    },
    {
     "data": {
      "application/vnd.jupyter.widget-view+json": {
       "model_id": "6df490156bcc456ea9a52400488dd08d",
       "version_major": 2,
       "version_minor": 0
      },
      "text/plain": [
       "FloatSlider(value=0.0)"
      ]
     },
     "metadata": {},
     "output_type": "display_data"
    }
   ],
   "source": [
    "a = widgets.FloatText()\n",
    "b = widgets.FloatSlider()\n",
    "\n",
    "display(a,b)\n",
    "\n",
    "mylink = widgets.jslink((a,'value'),(b,'value'))"
   ]
  },
  {
   "cell_type": "code",
   "execution_count": 33,
   "id": "ce2b7b55",
   "metadata": {},
   "outputs": [],
   "source": [
    "mylink.unlink()"
   ]
  },
  {
   "cell_type": "code",
   "execution_count": 2,
   "id": "d986469b",
   "metadata": {},
   "outputs": [
    {
     "name": "stdout",
     "output_type": "stream",
     "text": [
      "('@jupyter-widgets/base', '2.0.0', 'LayoutModel', '@jupyter-widgets/base', '2.0.0', 'LayoutView')\n",
      "('@jupyter-widgets/controls', '2.0.0', 'AccordionModel', '@jupyter-widgets/controls', '2.0.0', 'AccordionView')\n",
      "('@jupyter-widgets/controls', '2.0.0', 'AudioModel', '@jupyter-widgets/controls', '2.0.0', 'AudioView')\n",
      "('@jupyter-widgets/controls', '2.0.0', 'BoundedFloatTextModel', '@jupyter-widgets/controls', '2.0.0', 'FloatTextView')\n",
      "('@jupyter-widgets/controls', '2.0.0', 'BoundedIntTextModel', '@jupyter-widgets/controls', '2.0.0', 'IntTextView')\n",
      "('@jupyter-widgets/controls', '2.0.0', 'BoxModel', '@jupyter-widgets/controls', '2.0.0', 'BoxView')\n",
      "('@jupyter-widgets/controls', '2.0.0', 'ButtonModel', '@jupyter-widgets/controls', '2.0.0', 'ButtonView')\n",
      "('@jupyter-widgets/controls', '2.0.0', 'ButtonStyleModel', '@jupyter-widgets/base', '2.0.0', 'StyleView')\n",
      "('@jupyter-widgets/controls', '2.0.0', 'CheckboxModel', '@jupyter-widgets/controls', '2.0.0', 'CheckboxView')\n",
      "('@jupyter-widgets/controls', '2.0.0', 'CheckboxStyleModel', '@jupyter-widgets/base', '2.0.0', 'StyleView')\n",
      "('@jupyter-widgets/controls', '2.0.0', 'ColorPickerModel', '@jupyter-widgets/controls', '2.0.0', 'ColorPickerView')\n",
      "('@jupyter-widgets/controls', '2.0.0', 'ColorsInputModel', '@jupyter-widgets/controls', '2.0.0', 'ColorsInputView')\n",
      "('@jupyter-widgets/controls', '2.0.0', 'ComboboxModel', '@jupyter-widgets/controls', '2.0.0', 'ComboboxView')\n",
      "('@jupyter-widgets/controls', '2.0.0', 'ControllerAxisModel', '@jupyter-widgets/controls', '2.0.0', 'ControllerAxisView')\n",
      "('@jupyter-widgets/controls', '2.0.0', 'ControllerButtonModel', '@jupyter-widgets/controls', '2.0.0', 'ControllerButtonView')\n",
      "('@jupyter-widgets/controls', '2.0.0', 'ControllerModel', '@jupyter-widgets/controls', '2.0.0', 'ControllerView')\n",
      "('@jupyter-widgets/controls', '2.0.0', 'DOMWidgetModel', '@jupyter-widgets/controls', '2.0.0', None)\n",
      "('@jupyter-widgets/controls', '2.0.0', 'DatePickerModel', '@jupyter-widgets/controls', '2.0.0', 'DatePickerView')\n",
      "('@jupyter-widgets/controls', '2.0.0', 'DatetimeModel', '@jupyter-widgets/controls', '2.0.0', 'DatetimeView')\n",
      "('@jupyter-widgets/controls', '2.0.0', 'DescriptionStyleModel', '@jupyter-widgets/base', '2.0.0', 'StyleView')\n",
      "('@jupyter-widgets/controls', '2.0.0', 'DirectionalLinkModel', '@jupyter-widgets/controls', '2.0.0', None)\n",
      "('@jupyter-widgets/controls', '2.0.0', 'DropdownModel', '@jupyter-widgets/controls', '2.0.0', 'DropdownView')\n",
      "('@jupyter-widgets/controls', '2.0.0', 'FileUploadModel', '@jupyter-widgets/controls', '2.0.0', 'FileUploadView')\n",
      "('@jupyter-widgets/controls', '2.0.0', 'FloatLogSliderModel', '@jupyter-widgets/controls', '2.0.0', 'FloatLogSliderView')\n",
      "('@jupyter-widgets/controls', '2.0.0', 'FloatProgressModel', '@jupyter-widgets/controls', '2.0.0', 'ProgressView')\n",
      "('@jupyter-widgets/controls', '2.0.0', 'FloatRangeSliderModel', '@jupyter-widgets/controls', '2.0.0', 'FloatRangeSliderView')\n",
      "('@jupyter-widgets/controls', '2.0.0', 'FloatSliderModel', '@jupyter-widgets/controls', '2.0.0', 'FloatSliderView')\n",
      "('@jupyter-widgets/controls', '2.0.0', 'FloatTextModel', '@jupyter-widgets/controls', '2.0.0', 'FloatTextView')\n",
      "('@jupyter-widgets/controls', '2.0.0', 'FloatsInputModel', '@jupyter-widgets/controls', '2.0.0', 'FloatsInputView')\n",
      "('@jupyter-widgets/controls', '2.0.0', 'GridBoxModel', '@jupyter-widgets/controls', '2.0.0', 'GridBoxView')\n",
      "('@jupyter-widgets/controls', '2.0.0', 'HBoxModel', '@jupyter-widgets/controls', '2.0.0', 'HBoxView')\n",
      "('@jupyter-widgets/controls', '2.0.0', 'HTMLMathModel', '@jupyter-widgets/controls', '2.0.0', 'HTMLMathView')\n",
      "('@jupyter-widgets/controls', '2.0.0', 'HTMLMathStyleModel', '@jupyter-widgets/base', '2.0.0', 'StyleView')\n",
      "('@jupyter-widgets/controls', '2.0.0', 'HTMLModel', '@jupyter-widgets/controls', '2.0.0', 'HTMLView')\n",
      "('@jupyter-widgets/controls', '2.0.0', 'HTMLStyleModel', '@jupyter-widgets/base', '2.0.0', 'StyleView')\n",
      "('@jupyter-widgets/controls', '2.0.0', 'ImageModel', '@jupyter-widgets/controls', '2.0.0', 'ImageView')\n",
      "('@jupyter-widgets/controls', '2.0.0', 'IntProgressModel', '@jupyter-widgets/controls', '2.0.0', 'ProgressView')\n",
      "('@jupyter-widgets/controls', '2.0.0', 'IntRangeSliderModel', '@jupyter-widgets/controls', '2.0.0', 'IntRangeSliderView')\n",
      "('@jupyter-widgets/controls', '2.0.0', 'IntSliderModel', '@jupyter-widgets/controls', '2.0.0', 'IntSliderView')\n",
      "('@jupyter-widgets/controls', '2.0.0', 'IntTextModel', '@jupyter-widgets/controls', '2.0.0', 'IntTextView')\n",
      "('@jupyter-widgets/controls', '2.0.0', 'IntsInputModel', '@jupyter-widgets/controls', '2.0.0', 'IntsInputView')\n",
      "('@jupyter-widgets/controls', '2.0.0', 'LabelModel', '@jupyter-widgets/controls', '2.0.0', 'LabelView')\n",
      "('@jupyter-widgets/controls', '2.0.0', 'LabelStyleModel', '@jupyter-widgets/base', '2.0.0', 'StyleView')\n",
      "('@jupyter-widgets/controls', '2.0.0', 'LinkModel', '@jupyter-widgets/controls', '2.0.0', None)\n",
      "('@jupyter-widgets/controls', '2.0.0', 'NaiveDatetimeModel', '@jupyter-widgets/controls', '2.0.0', 'DatetimeView')\n",
      "('@jupyter-widgets/controls', '2.0.0', 'PasswordModel', '@jupyter-widgets/controls', '2.0.0', 'PasswordView')\n",
      "('@jupyter-widgets/controls', '2.0.0', 'PlayModel', '@jupyter-widgets/controls', '2.0.0', 'PlayView')\n",
      "('@jupyter-widgets/controls', '2.0.0', 'ProgressStyleModel', '@jupyter-widgets/base', '2.0.0', 'StyleView')\n",
      "('@jupyter-widgets/controls', '2.0.0', 'RadioButtonsModel', '@jupyter-widgets/controls', '2.0.0', 'RadioButtonsView')\n",
      "('@jupyter-widgets/controls', '2.0.0', 'SelectModel', '@jupyter-widgets/controls', '2.0.0', 'SelectView')\n",
      "('@jupyter-widgets/controls', '2.0.0', 'SelectMultipleModel', '@jupyter-widgets/controls', '2.0.0', 'SelectMultipleView')\n",
      "('@jupyter-widgets/controls', '2.0.0', 'SelectionRangeSliderModel', '@jupyter-widgets/controls', '2.0.0', 'SelectionRangeSliderView')\n",
      "('@jupyter-widgets/controls', '2.0.0', 'SelectionSliderModel', '@jupyter-widgets/controls', '2.0.0', 'SelectionSliderView')\n",
      "('@jupyter-widgets/controls', '2.0.0', 'SliderStyleModel', '@jupyter-widgets/base', '2.0.0', 'StyleView')\n",
      "('@jupyter-widgets/controls', '2.0.0', 'StackModel', '@jupyter-widgets/controls', '2.0.0', 'StackView')\n",
      "('@jupyter-widgets/controls', '2.0.0', 'TabModel', '@jupyter-widgets/controls', '2.0.0', 'TabView')\n",
      "('@jupyter-widgets/controls', '2.0.0', 'TagsInputModel', '@jupyter-widgets/controls', '2.0.0', 'TagsInputView')\n",
      "('@jupyter-widgets/controls', '2.0.0', 'TextModel', '@jupyter-widgets/controls', '2.0.0', 'TextView')\n",
      "('@jupyter-widgets/controls', '2.0.0', 'TextStyleModel', '@jupyter-widgets/base', '2.0.0', 'StyleView')\n",
      "('@jupyter-widgets/controls', '2.0.0', 'TextareaModel', '@jupyter-widgets/controls', '2.0.0', 'TextareaView')\n",
      "('@jupyter-widgets/controls', '2.0.0', 'TimeModel', '@jupyter-widgets/controls', '2.0.0', 'TimeView')\n",
      "('@jupyter-widgets/controls', '2.0.0', 'ToggleButtonModel', '@jupyter-widgets/controls', '2.0.0', 'ToggleButtonView')\n",
      "('@jupyter-widgets/controls', '2.0.0', 'ToggleButtonStyleModel', '@jupyter-widgets/base', '2.0.0', 'StyleView')\n",
      "('@jupyter-widgets/controls', '2.0.0', 'ToggleButtonsModel', '@jupyter-widgets/controls', '2.0.0', 'ToggleButtonsView')\n",
      "('@jupyter-widgets/controls', '2.0.0', 'ToggleButtonsStyleModel', '@jupyter-widgets/base', '2.0.0', 'StyleView')\n",
      "('@jupyter-widgets/controls', '2.0.0', 'VBoxModel', '@jupyter-widgets/controls', '2.0.0', 'VBoxView')\n",
      "('@jupyter-widgets/controls', '2.0.0', 'ValidModel', '@jupyter-widgets/controls', '2.0.0', 'ValidView')\n",
      "('@jupyter-widgets/controls', '2.0.0', 'VideoModel', '@jupyter-widgets/controls', '2.0.0', 'VideoView')\n",
      "('@jupyter-widgets/output', '1.0.0', 'OutputModel', '@jupyter-widgets/output', '1.0.0', 'OutputView')\n"
     ]
    },
    {
     "name": "stderr",
     "output_type": "stream",
     "text": [
      "C:\\Users\\PrivamVyas\\AppData\\Local\\Temp\\ipykernel_13724\\3400240862.py:1: DeprecationWarning: Widget.widget_types is deprecated.\n",
      "  for i in widgets.Widget.widget_types.items():\n"
     ]
    }
   ],
   "source": [
    "for i in widgets.Widget.widget_types.items():\n",
    "    print(i[0])"
   ]
  },
  {
   "cell_type": "code",
   "execution_count": null,
   "id": "5427e4cc",
   "metadata": {},
   "outputs": [],
   "source": []
  }
 ],
 "metadata": {
  "kernelspec": {
   "display_name": "base",
   "language": "python",
   "name": "python3"
  },
  "language_info": {
   "codemirror_mode": {
    "name": "ipython",
    "version": 3
   },
   "file_extension": ".py",
   "mimetype": "text/x-python",
   "name": "python",
   "nbconvert_exporter": "python",
   "pygments_lexer": "ipython3",
   "version": "3.13.5"
  }
 },
 "nbformat": 4,
 "nbformat_minor": 5
}
