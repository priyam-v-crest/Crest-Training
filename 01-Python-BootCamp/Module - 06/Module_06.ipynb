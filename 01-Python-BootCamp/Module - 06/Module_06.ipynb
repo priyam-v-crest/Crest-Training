{
 "cells": [
  {
   "cell_type": "code",
   "execution_count": 1,
   "id": "c53a80f2-45a7-45f8-a864-0378b48aa028",
   "metadata": {},
   "outputs": [],
   "source": [
    "work_hours = [('Abby',100),('Billy',400),('Cassie',800)]"
   ]
  },
  {
   "cell_type": "code",
   "execution_count": 2,
   "id": "cdb0aaae-e8b6-4034-93d4-d49f6db49a8f",
   "metadata": {},
   "outputs": [],
   "source": [
    "def employee_check(work_hours):\n",
    "    current_max = 0\n",
    "    employee_of_month = ''\n",
    "    for employee,hours in work_hours:\n",
    "        if hours > current_max:\n",
    "            current_max = hours\n",
    "            employee_of_month = employee\n",
    "        else:\n",
    "            pass\n",
    "    return (employee_of_month,current_max)"
   ]
  },
  {
   "cell_type": "code",
   "execution_count": 3,
   "id": "146e2a0a-86bb-4ddc-af82-a72db4299a54",
   "metadata": {},
   "outputs": [
    {
     "data": {
      "text/plain": [
       "('Cassie', 800)"
      ]
     },
     "execution_count": 3,
     "metadata": {},
     "output_type": "execute_result"
    }
   ],
   "source": [
    "employee_check(work_hours)"
   ]
  },
  {
   "cell_type": "markdown",
   "id": "5b555ad1-6b88-47f8-ad2b-c8dad2001000",
   "metadata": {},
   "source": [
    "## Shuffle Game"
   ]
  },
  {
   "cell_type": "code",
   "execution_count": 8,
   "id": "3731dca2-f9db-498d-b241-2a3006c44376",
   "metadata": {},
   "outputs": [],
   "source": [
    "from random import shuffle"
   ]
  },
  {
   "cell_type": "code",
   "execution_count": 9,
   "id": "cac09114-9bdf-40b0-bf6a-01706fdb6fce",
   "metadata": {},
   "outputs": [],
   "source": [
    "def shuffle_list(mylist):\n",
    "    shuffle(mylist)\n",
    "    return mylist"
   ]
  },
  {
   "cell_type": "code",
   "execution_count": 10,
   "id": "af34205a-0814-425e-9fed-aaf53983e94c",
   "metadata": {},
   "outputs": [],
   "source": [
    "def player_guess():\n",
    "    \n",
    "    guess = ''\n",
    "    \n",
    "    while guess not in ['0','1','2']:\n",
    "        \n",
    "        guess = input(\"Pick a number: 0, 1, or 2:  \")\n",
    "    \n",
    "    return int(guess)  "
   ]
  },
  {
   "cell_type": "code",
   "execution_count": 11,
   "id": "b1164eb8-f4bb-4b1e-86cc-17be23483d63",
   "metadata": {},
   "outputs": [],
   "source": [
    "def check_guess(mylist,guess):\n",
    "    if mylist[guess] == 'O':\n",
    "        print('Correct Guess!')\n",
    "    else:\n",
    "        print('Wrong! Better luck next time')\n",
    "        print(mylist)"
   ]
  },
  {
   "cell_type": "code",
   "execution_count": 12,
   "id": "aa3e0faf-a6cb-40d1-be82-33c200ec50db",
   "metadata": {},
   "outputs": [
    {
     "name": "stdin",
     "output_type": "stream",
     "text": [
      "Pick a number: 0, 1, or 2:   9\n",
      "Pick a number: 0, 1, or 2:   -1\n",
      "Pick a number: 0, 1, or 2:   1\n"
     ]
    },
    {
     "name": "stdout",
     "output_type": "stream",
     "text": [
      "Correct Guess!\n"
     ]
    }
   ],
   "source": [
    "mylist = [' ','O',' ']\n",
    "\n",
    "mixedup_list = shuffle_list(mylist)\n",
    "\n",
    "guess = player_guess()\n",
    "\n",
    "check_guess(mixedup_list,guess)"
   ]
  },
  {
   "cell_type": "markdown",
   "id": "090bde40-21a0-4916-a39e-eb643c61f88c",
   "metadata": {},
   "source": [
    "## Args"
   ]
  },
  {
   "cell_type": "code",
   "execution_count": 15,
   "id": "fcf22c32-ad88-4115-88dc-9d87f53f282d",
   "metadata": {},
   "outputs": [],
   "source": [
    "def fivepsum(*args):\n",
    "    print(args)\n",
    "    return sum(args) * 0.05"
   ]
  },
  {
   "cell_type": "code",
   "execution_count": 16,
   "id": "727c1899-8ace-4de1-ab43-aa3b42030274",
   "metadata": {},
   "outputs": [
    {
     "name": "stdout",
     "output_type": "stream",
     "text": [
      "(100, 100)\n"
     ]
    },
    {
     "data": {
      "text/plain": [
       "10.0"
      ]
     },
     "execution_count": 16,
     "metadata": {},
     "output_type": "execute_result"
    }
   ],
   "source": [
    "fivepsum(100,100)"
   ]
  },
  {
   "cell_type": "markdown",
   "id": "bf933227-b73b-4d4a-ab69-e50f8e078c35",
   "metadata": {},
   "source": [
    "## Kwargs"
   ]
  },
  {
   "cell_type": "code",
   "execution_count": 22,
   "id": "1afe95e2-a6f9-4aed-b956-11e4f76fe683",
   "metadata": {},
   "outputs": [],
   "source": [
    "def verify(**kwargs):\n",
    "    print(kwargs)\n",
    "    if 'Priyam' in kwargs:\n",
    "        print(\"Verified\")\n",
    "    else:\n",
    "        print(\"Who's this?\")"
   ]
  },
  {
   "cell_type": "code",
   "execution_count": 23,
   "id": "61152484-956f-4749-bb69-3b8d7f9b7fce",
   "metadata": {},
   "outputs": [
    {
     "name": "stdout",
     "output_type": "stream",
     "text": [
      "{'Priyam': 'user'}\n",
      "Verified\n"
     ]
    }
   ],
   "source": [
    "verify(Priyam = 'user')"
   ]
  },
  {
   "cell_type": "markdown",
   "id": "598dd130-0cfd-45a9-ae1b-89d26ab71609",
   "metadata": {},
   "source": [
    "## Map"
   ]
  },
  {
   "cell_type": "code",
   "execution_count": 24,
   "id": "9ec972ca-5818-4a8b-bca1-edc13566d382",
   "metadata": {},
   "outputs": [
    {
     "name": "stdout",
     "output_type": "stream",
     "text": [
      "1\n",
      "4\n",
      "9\n"
     ]
    }
   ],
   "source": [
    "def square(num):\n",
    "    return num**2\n",
    "mynums = [1,2,3]\n",
    "\n",
    "for item in map(square, mynums):\n",
    "    print(item)"
   ]
  },
  {
   "cell_type": "code",
   "execution_count": 26,
   "id": "8daa00e8-9b4b-4a14-9076-f4e80d04c4d5",
   "metadata": {},
   "outputs": [],
   "source": [
    "def splicer(mystr):\n",
    "    if len(mystr)%2 == 0:\n",
    "        return 'EVEN'\n",
    "    else:\n",
    "        return mystr[0]"
   ]
  },
  {
   "cell_type": "code",
   "execution_count": 27,
   "id": "967b47ac-9c15-45eb-bc70-ef991a06cdfc",
   "metadata": {},
   "outputs": [],
   "source": [
    "names = ['Priyam', 'Meet', 'Ruchit', 'Basit']"
   ]
  },
  {
   "cell_type": "code",
   "execution_count": 28,
   "id": "8995385d-0109-4a5f-af8d-c25e12dc762e",
   "metadata": {},
   "outputs": [
    {
     "data": {
      "text/plain": [
       "['EVEN', 'EVEN', 'EVEN', 'B']"
      ]
     },
     "execution_count": 28,
     "metadata": {},
     "output_type": "execute_result"
    }
   ],
   "source": [
    "list(map(splicer,names))"
   ]
  },
  {
   "cell_type": "markdown",
   "id": "4701588b-c459-4bdc-b1f5-77ad4c403d44",
   "metadata": {},
   "source": [
    "## Filter"
   ]
  },
  {
   "cell_type": "code",
   "execution_count": 29,
   "id": "004d2349-2797-4a73-9af6-f3733c692aef",
   "metadata": {},
   "outputs": [
    {
     "data": {
      "text/plain": [
       "[2, 4]"
      ]
     },
     "execution_count": 29,
     "metadata": {},
     "output_type": "execute_result"
    }
   ],
   "source": [
    "def check_even(num):\n",
    "    return num%2==0\n",
    "mynums = [1,2,3,4]\n",
    "list(filter(check_even, mynums))"
   ]
  },
  {
   "cell_type": "markdown",
   "id": "0c356fba-b107-4d4a-a5b0-1ff40c98a651",
   "metadata": {},
   "source": [
    "## Lambda Function"
   ]
  },
  {
   "cell_type": "code",
   "execution_count": 30,
   "id": "eda328a2-3db3-4561-9b29-0d968deec1be",
   "metadata": {},
   "outputs": [],
   "source": [
    "square = lambda num : num ** 2"
   ]
  },
  {
   "cell_type": "code",
   "execution_count": 31,
   "id": "57d86ac9-732e-4b9a-8456-6513f486683c",
   "metadata": {},
   "outputs": [
    {
     "data": {
      "text/plain": [
       "9"
      ]
     },
     "execution_count": 31,
     "metadata": {},
     "output_type": "execute_result"
    }
   ],
   "source": [
    "square(3)"
   ]
  },
  {
   "cell_type": "code",
   "execution_count": 32,
   "id": "19248ae1-e3b2-48ee-9c37-c62f6ed610ad",
   "metadata": {},
   "outputs": [
    {
     "data": {
      "text/plain": [
       "[1, 4, 9, 16]"
      ]
     },
     "execution_count": 32,
     "metadata": {},
     "output_type": "execute_result"
    }
   ],
   "source": [
    "list(map(lambda nums:nums**2, mynums))"
   ]
  },
  {
   "cell_type": "code",
   "execution_count": 34,
   "id": "40f41320-e74d-4bea-94b7-7a7614770cb4",
   "metadata": {},
   "outputs": [
    {
     "data": {
      "text/plain": [
       "[2, 4]"
      ]
     },
     "execution_count": 34,
     "metadata": {},
     "output_type": "execute_result"
    }
   ],
   "source": [
    "list(filter(lambda nums:nums%2 == 0, mynums))"
   ]
  },
  {
   "cell_type": "code",
   "execution_count": 35,
   "id": "973e09ec-9b51-432a-9046-aca34a02ec9d",
   "metadata": {},
   "outputs": [
    {
     "data": {
      "text/plain": [
       "['P', 'M', 'R', 'B']"
      ]
     },
     "execution_count": 35,
     "metadata": {},
     "output_type": "execute_result"
    }
   ],
   "source": [
    "list(map(lambda x:x[0], names))"
   ]
  },
  {
   "cell_type": "markdown",
   "id": "4a7336b8-22d6-4bc0-8180-32ad6a731398",
   "metadata": {},
   "source": [
    "## LEGB RULE: Local>Enclosing Function>Global>Built-in"
   ]
  }
 ],
 "metadata": {
  "kernelspec": {
   "display_name": "Python 3 (ipykernel)",
   "language": "python",
   "name": "python3"
  },
  "language_info": {
   "codemirror_mode": {
    "name": "ipython",
    "version": 3
   },
   "file_extension": ".py",
   "mimetype": "text/x-python",
   "name": "python",
   "nbconvert_exporter": "python",
   "pygments_lexer": "ipython3",
   "version": "3.13.5"
  }
 },
 "nbformat": 4,
 "nbformat_minor": 5
}
