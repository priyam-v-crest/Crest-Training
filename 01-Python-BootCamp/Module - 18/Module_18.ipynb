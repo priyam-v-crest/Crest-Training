{
 "cells": [
  {
   "cell_type": "markdown",
   "id": "61190f5d",
   "metadata": {},
   "source": [
    "## Sending Mail"
   ]
  },
  {
   "cell_type": "code",
   "execution_count": 10,
   "id": "10aa21f3",
   "metadata": {},
   "outputs": [],
   "source": [
    "import smtplib"
   ]
  },
  {
   "cell_type": "code",
   "execution_count": 2,
   "id": "76f21a76",
   "metadata": {},
   "outputs": [],
   "source": [
    "smtp_object = smtplib.SMTP('smtp.gmail.com', 587)"
   ]
  },
  {
   "cell_type": "code",
   "execution_count": 3,
   "id": "21139882",
   "metadata": {},
   "outputs": [
    {
     "data": {
      "text/plain": [
       "(250,\n",
       " b'smtp.gmail.com at your service, [123.201.110.130]\\nSIZE 36700160\\n8BITMIME\\nSTARTTLS\\nENHANCEDSTATUSCODES\\nPIPELINING\\nCHUNKING\\nSMTPUTF8')"
      ]
     },
     "execution_count": 3,
     "metadata": {},
     "output_type": "execute_result"
    }
   ],
   "source": [
    "smtp_object.ehlo()"
   ]
  },
  {
   "cell_type": "code",
   "execution_count": 4,
   "id": "7a34cae4",
   "metadata": {},
   "outputs": [
    {
     "data": {
      "text/plain": [
       "(220, b'2.0.0 Ready to start TLS')"
      ]
     },
     "execution_count": 4,
     "metadata": {},
     "output_type": "execute_result"
    }
   ],
   "source": [
    "smtp_object.starttls(  )"
   ]
  },
  {
   "cell_type": "code",
   "execution_count": 5,
   "id": "b08be5b6",
   "metadata": {},
   "outputs": [],
   "source": [
    "import getpass"
   ]
  },
  {
   "cell_type": "code",
   "execution_count": 7,
   "id": "c76eaaa0",
   "metadata": {},
   "outputs": [
    {
     "data": {
      "text/plain": [
       "(235, b'2.7.0 Accepted')"
      ]
     },
     "execution_count": 7,
     "metadata": {},
     "output_type": "execute_result"
    }
   ],
   "source": [
    "email = getpass.getpass(\"Enter Email: \")\n",
    "password = getpass.getpass(\"Enter Password: \")\n",
    "smtp_object.login(email, password)"
   ]
  },
  {
   "cell_type": "code",
   "execution_count": 8,
   "id": "4257cc5a",
   "metadata": {},
   "outputs": [
    {
     "data": {
      "text/plain": [
       "{}"
      ]
     },
     "execution_count": 8,
     "metadata": {},
     "output_type": "execute_result"
    }
   ],
   "source": [
    "from_address = email\n",
    "to_address = email\n",
    "subject = input(\"Enter Subject for mail: \")\n",
    "message = input(\"Enter the email body: \")\n",
    "\n",
    "msg = 'Subject: '+subject+'\\n'+message\n",
    "\n",
    "smtp_object.sendmail(from_address, to_address, msg)"
   ]
  },
  {
   "cell_type": "code",
   "execution_count": 9,
   "id": "21017528",
   "metadata": {},
   "outputs": [
    {
     "data": {
      "text/plain": [
       "(221,\n",
       " b'2.0.0 closing connection d2e1a72fcca58-74eb9f4af33sm11089172b3a.122 - gsmtp')"
      ]
     },
     "execution_count": 9,
     "metadata": {},
     "output_type": "execute_result"
    }
   ],
   "source": [
    "smtp_object.quit()"
   ]
  },
  {
   "cell_type": "markdown",
   "id": "5e95ef2f",
   "metadata": {},
   "source": [
    "## Receiving Mail"
   ]
  },
  {
   "cell_type": "code",
   "execution_count": 11,
   "id": "3a62b613",
   "metadata": {},
   "outputs": [],
   "source": [
    "import imaplib"
   ]
  },
  {
   "cell_type": "code",
   "execution_count": 13,
   "id": "72e02be4",
   "metadata": {},
   "outputs": [],
   "source": [
    "M = imaplib.IMAP4_SSL('imap.gmail.com')"
   ]
  },
  {
   "cell_type": "code",
   "execution_count": 14,
   "id": "e07555da",
   "metadata": {},
   "outputs": [
    {
     "data": {
      "text/plain": [
       "('OK', [b'priyam.v@crestinfosystems.com authenticated (Success)'])"
      ]
     },
     "execution_count": 14,
     "metadata": {},
     "output_type": "execute_result"
    }
   ],
   "source": [
    "M.login(email, password)"
   ]
  },
  {
   "cell_type": "code",
   "execution_count": 16,
   "id": "a47e74a3",
   "metadata": {},
   "outputs": [
    {
     "data": {
      "text/plain": [
       "('OK',\n",
       " [b'(\\\\HasNoChildren) \"/\" \"INBOX\"',\n",
       "  b'(\\\\HasChildren \\\\Noselect) \"/\" \"[Gmail]\"',\n",
       "  b'(\\\\All \\\\HasNoChildren) \"/\" \"[Gmail]/All Mail\"',\n",
       "  b'(\\\\Drafts \\\\HasNoChildren) \"/\" \"[Gmail]/Drafts\"',\n",
       "  b'(\\\\HasNoChildren \\\\Important) \"/\" \"[Gmail]/Important\"',\n",
       "  b'(\\\\HasNoChildren \\\\Sent) \"/\" \"[Gmail]/Sent Mail\"',\n",
       "  b'(\\\\HasNoChildren \\\\Junk) \"/\" \"[Gmail]/Spam\"',\n",
       "  b'(\\\\Flagged \\\\HasNoChildren) \"/\" \"[Gmail]/Starred\"',\n",
       "  b'(\\\\HasNoChildren \\\\Trash) \"/\" \"[Gmail]/Trash\"'])"
      ]
     },
     "execution_count": 16,
     "metadata": {},
     "output_type": "execute_result"
    }
   ],
   "source": [
    "M.list()"
   ]
  },
  {
   "cell_type": "code",
   "execution_count": 17,
   "id": "f1776133",
   "metadata": {},
   "outputs": [
    {
     "data": {
      "text/plain": [
       "('OK', [b'30'])"
      ]
     },
     "execution_count": 17,
     "metadata": {},
     "output_type": "execute_result"
    }
   ],
   "source": [
    "M.select('inbox')"
   ]
  },
  {
   "cell_type": "code",
   "execution_count": 18,
   "id": "557923af",
   "metadata": {},
   "outputs": [],
   "source": [
    "typ, data = M.search(None, 'SUBJECT \"Test Mail\"')"
   ]
  },
  {
   "cell_type": "code",
   "execution_count": 19,
   "id": "12953f80",
   "metadata": {},
   "outputs": [
    {
     "data": {
      "text/plain": [
       "'OK'"
      ]
     },
     "execution_count": 19,
     "metadata": {},
     "output_type": "execute_result"
    }
   ],
   "source": [
    "typ"
   ]
  },
  {
   "cell_type": "code",
   "execution_count": 21,
   "id": "b907b7d9",
   "metadata": {},
   "outputs": [],
   "source": [
    "email_id = data[0]"
   ]
  },
  {
   "cell_type": "code",
   "execution_count": 22,
   "id": "0de5e3a5",
   "metadata": {},
   "outputs": [],
   "source": [
    "result, email_data = M.fetch(email_id, '(RFC822)')"
   ]
  },
  {
   "cell_type": "code",
   "execution_count": 24,
   "id": "c3f05bcf",
   "metadata": {},
   "outputs": [],
   "source": [
    "# email_data"
   ]
  },
  {
   "cell_type": "code",
   "execution_count": 25,
   "id": "c3b7bd1c",
   "metadata": {},
   "outputs": [],
   "source": [
    "raw_email = email_data[0][1]"
   ]
  },
  {
   "cell_type": "code",
   "execution_count": 26,
   "id": "6386ae8d",
   "metadata": {},
   "outputs": [],
   "source": [
    "raw_email_string = raw_email.decode('utf-8')"
   ]
  },
  {
   "cell_type": "code",
   "execution_count": 27,
   "id": "80df60da",
   "metadata": {},
   "outputs": [],
   "source": [
    "import email"
   ]
  },
  {
   "cell_type": "code",
   "execution_count": 28,
   "id": "279236b7",
   "metadata": {},
   "outputs": [],
   "source": [
    "email_message = email.message_from_string(raw_email_string)"
   ]
  },
  {
   "cell_type": "code",
   "execution_count": 32,
   "id": "494aba29",
   "metadata": {},
   "outputs": [
    {
     "name": "stdout",
     "output_type": "stream",
     "text": [
      "b'This is a test mail\\r\\n'\n"
     ]
    }
   ],
   "source": [
    "for part in email_message.walk():\n",
    "    if part.get_content_type() == 'text/plain':\n",
    "        body = part.get_payload(decode=True)\n",
    "        print(body)"
   ]
  },
  {
   "cell_type": "code",
   "execution_count": null,
   "id": "8192ccc2",
   "metadata": {},
   "outputs": [],
   "source": [
    "\n"
   ]
  }
 ],
 "metadata": {
  "kernelspec": {
   "display_name": "base",
   "language": "python",
   "name": "python3"
  },
  "language_info": {
   "codemirror_mode": {
    "name": "ipython",
    "version": 3
   },
   "file_extension": ".py",
   "mimetype": "text/x-python",
   "name": "python",
   "nbconvert_exporter": "python",
   "pygments_lexer": "ipython3",
   "version": "3.13.5"
  }
 },
 "nbformat": 4,
 "nbformat_minor": 5
}
