{
 "cells": [
  {
   "cell_type": "markdown",
   "id": "1258d4a8",
   "metadata": {},
   "source": [
    "## Counter"
   ]
  },
  {
   "cell_type": "code",
   "execution_count": 13,
   "id": "605ab6f4",
   "metadata": {},
   "outputs": [],
   "source": [
    "from collections import Counter"
   ]
  },
  {
   "cell_type": "code",
   "execution_count": 4,
   "id": "2dfa8495",
   "metadata": {},
   "outputs": [],
   "source": [
    "l = ['h', 'e', 'l','l','o']"
   ]
  },
  {
   "cell_type": "code",
   "execution_count": 5,
   "id": "22d86873",
   "metadata": {},
   "outputs": [
    {
     "data": {
      "text/plain": [
       "Counter({'l': 2, 'h': 1, 'e': 1, 'o': 1})"
      ]
     },
     "execution_count": 5,
     "metadata": {},
     "output_type": "execute_result"
    }
   ],
   "source": [
    "Counter(l)"
   ]
  },
  {
   "cell_type": "code",
   "execution_count": 8,
   "id": "43d462cb",
   "metadata": {},
   "outputs": [
    {
     "data": {
      "text/plain": [
       "Counter({'a': 7, 'o': 6, 'c': 6, 'e': 2, 'b': 1, 't': 1})"
      ]
     },
     "execution_count": 8,
     "metadata": {},
     "output_type": "execute_result"
    }
   ],
   "source": [
    "letters = 'aaaaaaaooooooebetcccccc'\n",
    "Counter(letters)"
   ]
  },
  {
   "cell_type": "code",
   "execution_count": 9,
   "id": "90858ba8",
   "metadata": {},
   "outputs": [
    {
     "data": {
      "text/plain": [
       "[('a', 7), ('o', 6), ('c', 6), ('e', 2), ('b', 1), ('t', 1)]"
      ]
     },
     "execution_count": 9,
     "metadata": {},
     "output_type": "execute_result"
    }
   ],
   "source": [
    "c = Counter(letters)\n",
    "\n",
    "c.most_common()"
   ]
  },
  {
   "cell_type": "code",
   "execution_count": 10,
   "id": "6e117add",
   "metadata": {},
   "outputs": [
    {
     "data": {
      "text/plain": [
       "['a', 'o', 'e', 'b', 't', 'c']"
      ]
     },
     "execution_count": 10,
     "metadata": {},
     "output_type": "execute_result"
    }
   ],
   "source": [
    "list(c)"
   ]
  },
  {
   "cell_type": "markdown",
   "id": "3ca955d3",
   "metadata": {},
   "source": [
    "## defaultdict"
   ]
  },
  {
   "cell_type": "code",
   "execution_count": 11,
   "id": "c3c392c5",
   "metadata": {},
   "outputs": [],
   "source": [
    "from collections import defaultdict"
   ]
  },
  {
   "cell_type": "code",
   "execution_count": 12,
   "id": "7279d024",
   "metadata": {},
   "outputs": [
    {
     "data": {
      "text/plain": [
       "0"
      ]
     },
     "execution_count": 12,
     "metadata": {},
     "output_type": "execute_result"
    }
   ],
   "source": [
    "d = defaultdict(lambda : 0)\n",
    "d['wrong']"
   ]
  },
  {
   "cell_type": "markdown",
   "id": "a64d5bf4",
   "metadata": {},
   "source": [
    "## namedtuple"
   ]
  },
  {
   "cell_type": "code",
   "execution_count": 14,
   "id": "2ed73934",
   "metadata": {},
   "outputs": [],
   "source": [
    "from collections import namedtuple\n",
    "Dog = namedtuple('Dog', ['age','breed','name'])\n",
    "sammy = Dog(age = 5, breed='Golden Retriever', name = 'Sam')"
   ]
  },
  {
   "cell_type": "code",
   "execution_count": 16,
   "id": "7c070d11",
   "metadata": {},
   "outputs": [
    {
     "data": {
      "text/plain": [
       "(__main__.Dog, Dog(age=5, breed='Golden Retriever', name='Sam'))"
      ]
     },
     "execution_count": 16,
     "metadata": {},
     "output_type": "execute_result"
    }
   ],
   "source": [
    "type(sammy), sammy"
   ]
  },
  {
   "cell_type": "code",
   "execution_count": 17,
   "id": "55eeffa1",
   "metadata": {},
   "outputs": [
    {
     "data": {
      "text/plain": [
       "'Golden Retriever'"
      ]
     },
     "execution_count": 17,
     "metadata": {},
     "output_type": "execute_result"
    }
   ],
   "source": [
    "sammy.breed"
   ]
  },
  {
   "cell_type": "code",
   "execution_count": 18,
   "id": "cd5225db",
   "metadata": {},
   "outputs": [
    {
     "data": {
      "text/plain": [
       "5"
      ]
     },
     "execution_count": 18,
     "metadata": {},
     "output_type": "execute_result"
    }
   ],
   "source": [
    "sammy[0]"
   ]
  },
  {
   "cell_type": "markdown",
   "id": "681ff78b",
   "metadata": {},
   "source": [
    "## Os "
   ]
  },
  {
   "cell_type": "code",
   "execution_count": 19,
   "id": "04a835af",
   "metadata": {},
   "outputs": [
    {
     "data": {
      "text/plain": [
       "'c:\\\\Users\\\\PrivamVyas\\\\Desktop\\\\Python - Course\\\\Module - 14'"
      ]
     },
     "execution_count": 19,
     "metadata": {},
     "output_type": "execute_result"
    }
   ],
   "source": [
    "pwd"
   ]
  },
  {
   "cell_type": "code",
   "execution_count": 20,
   "id": "7902bbe2",
   "metadata": {},
   "outputs": [],
   "source": [
    "f = open('practice.txt', 'w+')\n",
    "f.write('Test File')\n",
    "f.close()"
   ]
  },
  {
   "cell_type": "code",
   "execution_count": 21,
   "id": "55dfbf16",
   "metadata": {},
   "outputs": [],
   "source": [
    "import os"
   ]
  },
  {
   "cell_type": "code",
   "execution_count": 22,
   "id": "facd9cb3",
   "metadata": {},
   "outputs": [
    {
     "data": {
      "text/plain": [
       "'c:\\\\Users\\\\PrivamVyas\\\\Desktop\\\\Python - Course\\\\Module - 14'"
      ]
     },
     "execution_count": 22,
     "metadata": {},
     "output_type": "execute_result"
    }
   ],
   "source": [
    "os.getcwd()"
   ]
  },
  {
   "cell_type": "code",
   "execution_count": 24,
   "id": "4772d9a4",
   "metadata": {},
   "outputs": [
    {
     "data": {
      "text/plain": [
       "['Module_14.ipynb', 'practice.txt']"
      ]
     },
     "execution_count": 24,
     "metadata": {},
     "output_type": "execute_result"
    }
   ],
   "source": [
    "os.listdir()"
   ]
  },
  {
   "cell_type": "code",
   "execution_count": 25,
   "id": "c351de14",
   "metadata": {},
   "outputs": [
    {
     "data": {
      "text/plain": [
       "'c:\\\\Users\\\\PrivamVyas\\\\Desktop\\\\Python - Course\\\\Module - 14\\\\Demo'"
      ]
     },
     "execution_count": 25,
     "metadata": {},
     "output_type": "execute_result"
    }
   ],
   "source": [
    "import shutil\n",
    "shutil.move('practice.txt','c:\\\\Users\\\\PrivamVyas\\\\Desktop\\\\Python - Course\\\\Module - 14\\\\Demo' )"
   ]
  },
  {
   "cell_type": "code",
   "execution_count": 28,
   "id": "759e427a",
   "metadata": {},
   "outputs": [
    {
     "data": {
      "text/plain": [
       "['Demo', 'Module_14.ipynb']"
      ]
     },
     "execution_count": 28,
     "metadata": {},
     "output_type": "execute_result"
    }
   ],
   "source": [
    "os.listdir()"
   ]
  },
  {
   "cell_type": "code",
   "execution_count": 29,
   "id": "0475635b",
   "metadata": {},
   "outputs": [
    {
     "data": {
      "text/plain": [
       "['Demo', 'Module_14.ipynb']"
      ]
     },
     "execution_count": 29,
     "metadata": {},
     "output_type": "execute_result"
    }
   ],
   "source": [
    "import send2trash\n",
    "os.listdir()"
   ]
  },
  {
   "cell_type": "code",
   "execution_count": 33,
   "id": "cd0bade5",
   "metadata": {},
   "outputs": [],
   "source": [
    "send2trash.send2trash('Demo')"
   ]
  },
  {
   "cell_type": "markdown",
   "id": "9eacb6a8",
   "metadata": {},
   "source": [
    "## Datetime"
   ]
  },
  {
   "cell_type": "code",
   "execution_count": 34,
   "id": "b6486bfc",
   "metadata": {},
   "outputs": [],
   "source": [
    "import datetime\n",
    "\n",
    "mytime = datetime.time(17,1,3,0)"
   ]
  },
  {
   "cell_type": "code",
   "execution_count": 36,
   "id": "4c3695d1",
   "metadata": {},
   "outputs": [
    {
     "data": {
      "text/plain": [
       "(17, 1, 3, 0)"
      ]
     },
     "execution_count": 36,
     "metadata": {},
     "output_type": "execute_result"
    }
   ],
   "source": [
    "mytime.hour, mytime.minute, mytime.second, mytime.microsecond"
   ]
  },
  {
   "cell_type": "code",
   "execution_count": 37,
   "id": "6f5598b7",
   "metadata": {},
   "outputs": [
    {
     "data": {
      "text/plain": [
       "datetime.time"
      ]
     },
     "execution_count": 37,
     "metadata": {},
     "output_type": "execute_result"
    }
   ],
   "source": [
    "type(mytime)"
   ]
  },
  {
   "cell_type": "code",
   "execution_count": 39,
   "id": "9813666e",
   "metadata": {},
   "outputs": [
    {
     "data": {
      "text/plain": [
       "datetime.date(2025, 7, 10)"
      ]
     },
     "execution_count": 39,
     "metadata": {},
     "output_type": "execute_result"
    }
   ],
   "source": [
    "today = datetime.date.today()\n",
    "today"
   ]
  },
  {
   "cell_type": "code",
   "execution_count": 42,
   "id": "8a6dab07",
   "metadata": {},
   "outputs": [
    {
     "data": {
      "text/plain": [
       "(2025, 7, 10)"
      ]
     },
     "execution_count": 42,
     "metadata": {},
     "output_type": "execute_result"
    }
   ],
   "source": [
    "today.year, today.month, today.day"
   ]
  },
  {
   "cell_type": "code",
   "execution_count": 43,
   "id": "da936556",
   "metadata": {},
   "outputs": [
    {
     "data": {
      "text/plain": [
       "<function date.ctime()>"
      ]
     },
     "execution_count": 43,
     "metadata": {},
     "output_type": "execute_result"
    }
   ],
   "source": [
    "today.ctime"
   ]
  },
  {
   "cell_type": "code",
   "execution_count": 44,
   "id": "b5a612dc",
   "metadata": {},
   "outputs": [],
   "source": [
    "from datetime import datetime"
   ]
  },
  {
   "cell_type": "code",
   "execution_count": 46,
   "id": "d9adf24a",
   "metadata": {},
   "outputs": [
    {
     "name": "stdout",
     "output_type": "stream",
     "text": [
      "2021-10-03 14:20:01\n"
     ]
    }
   ],
   "source": [
    "mydatetime = datetime(2021,10,3,14,20,1)\n",
    "print(mydatetime)"
   ]
  },
  {
   "cell_type": "code",
   "execution_count": 47,
   "id": "b6830181",
   "metadata": {},
   "outputs": [
    {
     "data": {
      "text/plain": [
       "datetime.datetime(2022, 10, 3, 14, 20, 1)"
      ]
     },
     "execution_count": 47,
     "metadata": {},
     "output_type": "execute_result"
    }
   ],
   "source": [
    "mydatetime.replace(year=2022)"
   ]
  },
  {
   "cell_type": "code",
   "execution_count": 48,
   "id": "a1d4f470",
   "metadata": {},
   "outputs": [],
   "source": [
    "from datetime import date"
   ]
  },
  {
   "cell_type": "code",
   "execution_count": 50,
   "id": "4c9c81db",
   "metadata": {},
   "outputs": [
    {
     "data": {
      "text/plain": [
       "datetime.timedelta(days=793)"
      ]
     },
     "execution_count": 50,
     "metadata": {},
     "output_type": "execute_result"
    }
   ],
   "source": [
    "d1 = date(2027,9,3)\n",
    "d2 = date(2025,7,2)\n",
    "\n",
    "d1-d2"
   ]
  },
  {
   "cell_type": "markdown",
   "id": "e0de6654",
   "metadata": {},
   "source": [
    "## Math"
   ]
  },
  {
   "cell_type": "code",
   "execution_count": 51,
   "id": "081fcca2",
   "metadata": {},
   "outputs": [],
   "source": [
    "import math as m"
   ]
  },
  {
   "cell_type": "code",
   "execution_count": 52,
   "id": "b0c60175",
   "metadata": {},
   "outputs": [],
   "source": [
    "n = 17.13"
   ]
  },
  {
   "cell_type": "code",
   "execution_count": 53,
   "id": "31eaa774",
   "metadata": {},
   "outputs": [
    {
     "data": {
      "text/plain": [
       "17"
      ]
     },
     "execution_count": 53,
     "metadata": {},
     "output_type": "execute_result"
    }
   ],
   "source": [
    "m.floor(n)"
   ]
  },
  {
   "cell_type": "code",
   "execution_count": 54,
   "id": "e584f6fd",
   "metadata": {},
   "outputs": [
    {
     "data": {
      "text/plain": [
       "18"
      ]
     },
     "execution_count": 54,
     "metadata": {},
     "output_type": "execute_result"
    }
   ],
   "source": [
    "m.ceil(n)"
   ]
  },
  {
   "cell_type": "code",
   "execution_count": 55,
   "id": "8f214fa0",
   "metadata": {},
   "outputs": [
    {
     "data": {
      "text/plain": [
       "17"
      ]
     },
     "execution_count": 55,
     "metadata": {},
     "output_type": "execute_result"
    }
   ],
   "source": [
    "round(n)"
   ]
  },
  {
   "cell_type": "code",
   "execution_count": 56,
   "id": "4abb40f2",
   "metadata": {},
   "outputs": [
    {
     "data": {
      "text/plain": [
       "4"
      ]
     },
     "execution_count": 56,
     "metadata": {},
     "output_type": "execute_result"
    }
   ],
   "source": [
    "round(4.5)"
   ]
  },
  {
   "cell_type": "code",
   "execution_count": 57,
   "id": "11a359eb",
   "metadata": {},
   "outputs": [
    {
     "data": {
      "text/plain": [
       "6"
      ]
     },
     "execution_count": 57,
     "metadata": {},
     "output_type": "execute_result"
    }
   ],
   "source": [
    "round(5.5)"
   ]
  },
  {
   "cell_type": "code",
   "execution_count": 58,
   "id": "a84d9201",
   "metadata": {},
   "outputs": [
    {
     "data": {
      "text/plain": [
       "3.141592653589793"
      ]
     },
     "execution_count": 58,
     "metadata": {},
     "output_type": "execute_result"
    }
   ],
   "source": [
    "m.pi"
   ]
  },
  {
   "cell_type": "code",
   "execution_count": 59,
   "id": "d8b8b03e",
   "metadata": {},
   "outputs": [
    {
     "data": {
      "text/plain": [
       "inf"
      ]
     },
     "execution_count": 59,
     "metadata": {},
     "output_type": "execute_result"
    }
   ],
   "source": [
    "m.inf"
   ]
  },
  {
   "cell_type": "code",
   "execution_count": 61,
   "id": "2d067f2e",
   "metadata": {},
   "outputs": [
    {
     "data": {
      "text/plain": [
       "nan"
      ]
     },
     "execution_count": 61,
     "metadata": {},
     "output_type": "execute_result"
    }
   ],
   "source": [
    "m.nan"
   ]
  },
  {
   "cell_type": "code",
   "execution_count": 62,
   "id": "b76e0f62",
   "metadata": {},
   "outputs": [
    {
     "data": {
      "text/plain": [
       "2.718281828459045"
      ]
     },
     "execution_count": 62,
     "metadata": {},
     "output_type": "execute_result"
    }
   ],
   "source": [
    "m.e"
   ]
  },
  {
   "cell_type": "code",
   "execution_count": 63,
   "id": "15693d97",
   "metadata": {},
   "outputs": [
    {
     "data": {
      "text/plain": [
       "1.0"
      ]
     },
     "execution_count": 63,
     "metadata": {},
     "output_type": "execute_result"
    }
   ],
   "source": [
    "m.log(m.e)"
   ]
  },
  {
   "cell_type": "code",
   "execution_count": 64,
   "id": "86e9c9dd",
   "metadata": {},
   "outputs": [
    {
     "data": {
      "text/plain": [
       "2.0"
      ]
     },
     "execution_count": 64,
     "metadata": {},
     "output_type": "execute_result"
    }
   ],
   "source": [
    "m.log(100, 10)"
   ]
  },
  {
   "cell_type": "code",
   "execution_count": 65,
   "id": "ebc9f9b9",
   "metadata": {},
   "outputs": [
    {
     "data": {
      "text/plain": [
       "90.0"
      ]
     },
     "execution_count": 65,
     "metadata": {},
     "output_type": "execute_result"
    }
   ],
   "source": [
    "m.degrees(m.pi/2)"
   ]
  },
  {
   "cell_type": "markdown",
   "id": "478d6cb2",
   "metadata": {},
   "source": [
    "## Random"
   ]
  },
  {
   "cell_type": "code",
   "execution_count": 66,
   "id": "019c5a94",
   "metadata": {},
   "outputs": [],
   "source": [
    "import random"
   ]
  },
  {
   "cell_type": "code",
   "execution_count": 68,
   "id": "25d269c1",
   "metadata": {},
   "outputs": [
    {
     "data": {
      "text/plain": [
       "82"
      ]
     },
     "execution_count": 68,
     "metadata": {},
     "output_type": "execute_result"
    }
   ],
   "source": [
    "random.randint(0,100)"
   ]
  },
  {
   "cell_type": "code",
   "execution_count": 70,
   "id": "5eeece13",
   "metadata": {},
   "outputs": [
    {
     "data": {
      "text/plain": [
       "74"
      ]
     },
     "execution_count": 70,
     "metadata": {},
     "output_type": "execute_result"
    }
   ],
   "source": [
    "random.seed(101)\n",
    "\n",
    "random.randint(0,100)"
   ]
  },
  {
   "cell_type": "code",
   "execution_count": 71,
   "id": "f80127fe",
   "metadata": {},
   "outputs": [],
   "source": [
    "mylist = list(range(20))"
   ]
  },
  {
   "cell_type": "code",
   "execution_count": 72,
   "id": "72d1abb4",
   "metadata": {},
   "outputs": [
    {
     "data": {
      "text/plain": [
       "6"
      ]
     },
     "execution_count": 72,
     "metadata": {},
     "output_type": "execute_result"
    }
   ],
   "source": [
    "random.choice(mylist)"
   ]
  },
  {
   "cell_type": "code",
   "execution_count": 74,
   "id": "af649ff9",
   "metadata": {},
   "outputs": [
    {
     "data": {
      "text/plain": [
       "[8, 5, 3, 8, 10, 3, 15, 4, 15, 8]"
      ]
     },
     "execution_count": 74,
     "metadata": {},
     "output_type": "execute_result"
    }
   ],
   "source": [
    "#Sample with Replacement\n",
    "random.choices(population=mylist, k=10)"
   ]
  },
  {
   "cell_type": "code",
   "execution_count": 75,
   "id": "3842c519",
   "metadata": {},
   "outputs": [
    {
     "data": {
      "text/plain": [
       "[2, 13, 14, 9, 6, 1, 10, 16, 18, 5]"
      ]
     },
     "execution_count": 75,
     "metadata": {},
     "output_type": "execute_result"
    }
   ],
   "source": [
    "#Sample without Replacement\n",
    "random.sample(population=mylist, k=10)"
   ]
  },
  {
   "cell_type": "code",
   "execution_count": 76,
   "id": "8f46e122",
   "metadata": {},
   "outputs": [],
   "source": [
    "random.shuffle(mylist)"
   ]
  },
  {
   "cell_type": "code",
   "execution_count": 77,
   "id": "c749488b",
   "metadata": {},
   "outputs": [
    {
     "data": {
      "text/plain": [
       "[19, 17, 14, 5, 2, 9, 4, 3, 16, 0, 15, 10, 11, 6, 1, 13, 7, 18, 12, 8]"
      ]
     },
     "execution_count": 77,
     "metadata": {},
     "output_type": "execute_result"
    }
   ],
   "source": [
    "mylist"
   ]
  },
  {
   "cell_type": "code",
   "execution_count": 78,
   "id": "007d1577",
   "metadata": {},
   "outputs": [
    {
     "data": {
      "text/plain": [
       "0.944385872829967"
      ]
     },
     "execution_count": 78,
     "metadata": {},
     "output_type": "execute_result"
    }
   ],
   "source": [
    "random.uniform(0,100)"
   ]
  },
  {
   "cell_type": "code",
   "execution_count": 79,
   "id": "5fe59a2f",
   "metadata": {},
   "outputs": [
    {
     "data": {
      "text/plain": [
       "-0.5304264540737372"
      ]
     },
     "execution_count": 79,
     "metadata": {},
     "output_type": "execute_result"
    }
   ],
   "source": [
    "random.gauss(0,1)"
   ]
  },
  {
   "cell_type": "markdown",
   "id": "8188b157",
   "metadata": {},
   "source": [
    "## Python Debugger PDB"
   ]
  },
  {
   "cell_type": "code",
   "execution_count": 81,
   "id": "3e827ac1",
   "metadata": {},
   "outputs": [
    {
     "name": "stdout",
     "output_type": "stream",
     "text": [
      "> \u001b[1;32mc:\\users\\privamvyas\\appdata\\local\\temp\\ipykernel_9352\\4224089691.py\u001b[0m(8)\u001b[0;36m<module>\u001b[1;34m()\u001b[0m\n",
      "\n",
      "[1, 2, 3]\n",
      "5\n",
      "2\n",
      "2\n",
      "2\n"
     ]
    }
   ],
   "source": [
    "import pdb\n",
    "x = [1,2,3]\n",
    "y = 2\n",
    "z = 3\n",
    "\n",
    "op1 = y+z\n",
    "\n",
    "pdb.set_trace()\n",
    "\n",
    "op2 = z+x"
   ]
  },
  {
   "cell_type": "markdown",
   "id": "c4bfd700",
   "metadata": {},
   "source": [
    "## Regex"
   ]
  },
  {
   "cell_type": "code",
   "execution_count": 1,
   "id": "4077a04d",
   "metadata": {},
   "outputs": [],
   "source": [
    "import re"
   ]
  },
  {
   "cell_type": "code",
   "execution_count": 2,
   "id": "8e9705ed",
   "metadata": {},
   "outputs": [
    {
     "data": {
      "text/plain": [
       "<re.Match object; span=(0, 2), match='Hi'>"
      ]
     },
     "execution_count": 2,
     "metadata": {},
     "output_type": "execute_result"
    }
   ],
   "source": [
    "text = 'Hii once and Hi Twice!'\n",
    "match = re.search('Hi', text)\n",
    "match"
   ]
  },
  {
   "cell_type": "code",
   "execution_count": 5,
   "id": "79e1874d",
   "metadata": {},
   "outputs": [
    {
     "data": {
      "text/plain": [
       "(0, 2)"
      ]
     },
     "execution_count": 5,
     "metadata": {},
     "output_type": "execute_result"
    }
   ],
   "source": [
    "match.span()"
   ]
  },
  {
   "cell_type": "code",
   "execution_count": 4,
   "id": "3cee9f46",
   "metadata": {},
   "outputs": [
    {
     "data": {
      "text/plain": [
       "['Hi', 'Hi']"
      ]
     },
     "execution_count": 4,
     "metadata": {},
     "output_type": "execute_result"
    }
   ],
   "source": [
    "matches = re.findall('Hi', text)\n",
    "matches"
   ]
  },
  {
   "cell_type": "code",
   "execution_count": 6,
   "id": "ef68940b",
   "metadata": {},
   "outputs": [
    {
     "data": {
      "text/plain": [
       "2"
      ]
     },
     "execution_count": 6,
     "metadata": {},
     "output_type": "execute_result"
    }
   ],
   "source": [
    "len(matches)"
   ]
  },
  {
   "cell_type": "code",
   "execution_count": 7,
   "id": "d3fd35aa",
   "metadata": {},
   "outputs": [
    {
     "name": "stdout",
     "output_type": "stream",
     "text": [
      "(0, 2)\n",
      "(13, 15)\n"
     ]
    }
   ],
   "source": [
    "for match in re.finditer('Hi', text):\n",
    "    print(match.span())"
   ]
  },
  {
   "cell_type": "code",
   "execution_count": 8,
   "id": "b54f6952",
   "metadata": {},
   "outputs": [
    {
     "data": {
      "text/plain": [
       "<re.Match object; span=(19, 31), match='408-555-7777'>"
      ]
     },
     "execution_count": 8,
     "metadata": {},
     "output_type": "execute_result"
    }
   ],
   "source": [
    "text = \"my phone number is 408-555-7777\"\n",
    "re.search(r'\\d{3}-\\d{3}-\\d{4}',text)"
   ]
  },
  {
   "cell_type": "code",
   "execution_count": 11,
   "id": "727be1de",
   "metadata": {},
   "outputs": [],
   "source": [
    "pattern = re.compile(r'(\\d{3})-(\\d{3})-(\\d{4})')\n",
    "res = re.search(pattern, text)"
   ]
  },
  {
   "cell_type": "code",
   "execution_count": 12,
   "id": "948deb28",
   "metadata": {},
   "outputs": [
    {
     "data": {
      "text/plain": [
       "'408-555-7777'"
      ]
     },
     "execution_count": 12,
     "metadata": {},
     "output_type": "execute_result"
    }
   ],
   "source": [
    "res.group()"
   ]
  },
  {
   "cell_type": "code",
   "execution_count": 13,
   "id": "1331c9cf",
   "metadata": {},
   "outputs": [
    {
     "data": {
      "text/plain": [
       "'408'"
      ]
     },
     "execution_count": 13,
     "metadata": {},
     "output_type": "execute_result"
    }
   ],
   "source": [
    "res.group(1)"
   ]
  },
  {
   "cell_type": "code",
   "execution_count": 17,
   "id": "7a9c88df",
   "metadata": {},
   "outputs": [],
   "source": [
    "phrase = 'there are 7 zeroes in 1 crore!'\n",
    "pattern = r'[^\\d]+'"
   ]
  },
  {
   "cell_type": "code",
   "execution_count": 18,
   "id": "895016e9",
   "metadata": {},
   "outputs": [
    {
     "data": {
      "text/plain": [
       "['there are ', ' zeroes in ', ' crore!']"
      ]
     },
     "execution_count": 18,
     "metadata": {},
     "output_type": "execute_result"
    }
   ],
   "source": [
    "re.findall(pattern,phrase)"
   ]
  },
  {
   "cell_type": "code",
   "execution_count": 21,
   "id": "c39220de",
   "metadata": {},
   "outputs": [],
   "source": [
    "test_phrase = 'Hey!Do I know you?'\n",
    "clean = re.findall(r'[^!.?]+', test_phrase)"
   ]
  },
  {
   "cell_type": "code",
   "execution_count": 22,
   "id": "0432b9c2",
   "metadata": {},
   "outputs": [
    {
     "data": {
      "text/plain": [
       "'Hey Do I know you'"
      ]
     },
     "execution_count": 22,
     "metadata": {},
     "output_type": "execute_result"
    }
   ],
   "source": [
    "' '.join(clean)"
   ]
  },
  {
   "cell_type": "code",
   "execution_count": 27,
   "id": "22d7355a",
   "metadata": {},
   "outputs": [],
   "source": [
    "text = 'This is a hypen-word in the text!'\n",
    "pattern = r'[\\w]+-[\\w]+'"
   ]
  },
  {
   "cell_type": "code",
   "execution_count": 28,
   "id": "30d60b22",
   "metadata": {},
   "outputs": [
    {
     "data": {
      "text/plain": [
       "<re.Match object; span=(10, 20), match='hypen-word'>"
      ]
     },
     "execution_count": 28,
     "metadata": {},
     "output_type": "execute_result"
    }
   ],
   "source": [
    "re.search(pattern,text)"
   ]
  },
  {
   "cell_type": "markdown",
   "id": "b9eff430",
   "metadata": {},
   "source": [
    "## Timing "
   ]
  },
  {
   "cell_type": "code",
   "execution_count": 30,
   "id": "0e949270",
   "metadata": {},
   "outputs": [
    {
     "data": {
      "text/plain": [
       "['0', '1', '2', '3', '4', '5', '6', '7', '8', '9']"
      ]
     },
     "execution_count": 30,
     "metadata": {},
     "output_type": "execute_result"
    }
   ],
   "source": [
    "def f1(n):\n",
    "    return [str(i) for i in range(n)]\n",
    "f1(10)"
   ]
  },
  {
   "cell_type": "code",
   "execution_count": 32,
   "id": "d3437d86",
   "metadata": {},
   "outputs": [
    {
     "data": {
      "text/plain": [
       "['0', '1', '2', '3', '4', '5', '6', '7', '8', '9']"
      ]
     },
     "execution_count": 32,
     "metadata": {},
     "output_type": "execute_result"
    }
   ],
   "source": [
    "def f2(n):\n",
    "    return list(map(str, range(n)))\n",
    "f2(10)"
   ]
  },
  {
   "cell_type": "code",
   "execution_count": 38,
   "id": "253c6955",
   "metadata": {},
   "outputs": [],
   "source": [
    "import time"
   ]
  },
  {
   "cell_type": "code",
   "execution_count": 47,
   "id": "9163b31c",
   "metadata": {},
   "outputs": [
    {
     "name": "stdout",
     "output_type": "stream",
     "text": [
      "0.00010752677917480469\n"
     ]
    }
   ],
   "source": [
    "start_time = time.time()\n",
    "\n",
    "res = f1(1)\n",
    "\n",
    "end_time = time.time()\n",
    "\n",
    "elapsed_time = end_time - start_time\n",
    "\n",
    "print(elapsed_time)"
   ]
  },
  {
   "cell_type": "code",
   "execution_count": 48,
   "id": "109a4da9",
   "metadata": {},
   "outputs": [
    {
     "name": "stdout",
     "output_type": "stream",
     "text": [
      "0.20364761352539062\n"
     ]
    }
   ],
   "source": [
    "start_time = time.time()\n",
    "\n",
    "res = f2(1000000)\n",
    "\n",
    "end_time = time.time()\n",
    "\n",
    "elapsed_time = end_time - start_time\n",
    "\n",
    "print(elapsed_time)"
   ]
  },
  {
   "cell_type": "code",
   "execution_count": 49,
   "id": "301b47f8",
   "metadata": {},
   "outputs": [
    {
     "data": {
      "text/plain": [
       "<function timeit.timeit(stmt='pass', setup='pass', timer=<built-in function perf_counter>, number=1000000, globals=None)>"
      ]
     },
     "execution_count": 49,
     "metadata": {},
     "output_type": "execute_result"
    }
   ],
   "source": [
    "import timeit\n",
    "timeit.timeit"
   ]
  },
  {
   "cell_type": "code",
   "execution_count": 50,
   "id": "a22566a1",
   "metadata": {},
   "outputs": [],
   "source": [
    "stmt = '''\n",
    "f1(100)\n",
    "'''\n",
    "\n",
    "setup = '''\n",
    "def f1(n):\n",
    "    return [str(i) for i in range(n)]\n",
    "'''"
   ]
  },
  {
   "cell_type": "code",
   "execution_count": 51,
   "id": "7a6e58e7",
   "metadata": {},
   "outputs": [
    {
     "data": {
      "text/plain": [
       "2.1776893000060227"
      ]
     },
     "execution_count": 51,
     "metadata": {},
     "output_type": "execute_result"
    }
   ],
   "source": [
    "timeit.timeit(stmt, setup, number = 100000)"
   ]
  },
  {
   "cell_type": "code",
   "execution_count": 52,
   "id": "ead0a9e0",
   "metadata": {},
   "outputs": [],
   "source": [
    "stmt2 = '''\n",
    "f2(100)\n",
    "'''\n",
    "\n",
    "setup2 = '''\n",
    "def f2(n):\n",
    "    return list(map(str, range(n)))\n",
    "'''"
   ]
  },
  {
   "cell_type": "code",
   "execution_count": 53,
   "id": "e3740745",
   "metadata": {},
   "outputs": [
    {
     "data": {
      "text/plain": [
       "2.636299500009045"
      ]
     },
     "execution_count": 53,
     "metadata": {},
     "output_type": "execute_result"
    }
   ],
   "source": [
    "timeit.timeit(stmt2, setup2, number=100000)"
   ]
  },
  {
   "cell_type": "code",
   "execution_count": 54,
   "id": "ec0652a3",
   "metadata": {},
   "outputs": [
    {
     "name": "stdout",
     "output_type": "stream",
     "text": [
      "22.5 μs ± 1.52 μs per loop (mean ± std. dev. of 7 runs, 10,000 loops each)\n"
     ]
    }
   ],
   "source": [
    "%%timeit\n",
    "f1(100)"
   ]
  },
  {
   "cell_type": "code",
   "execution_count": 55,
   "id": "87735244",
   "metadata": {},
   "outputs": [
    {
     "name": "stdout",
     "output_type": "stream",
     "text": [
      "23.7 μs ± 5.21 μs per loop (mean ± std. dev. of 7 runs, 10,000 loops each)\n"
     ]
    }
   ],
   "source": [
    "%%timeit\n",
    "f2(100)"
   ]
  },
  {
   "cell_type": "markdown",
   "id": "d38383b6",
   "metadata": {},
   "source": [
    "## Zipping and Unzipping"
   ]
  },
  {
   "cell_type": "code",
   "execution_count": 57,
   "id": "11bdf6d3",
   "metadata": {},
   "outputs": [],
   "source": [
    "f = open('fileone.txt', 'w+')\n",
    "f.write('One File')\n",
    "f.close()"
   ]
  },
  {
   "cell_type": "code",
   "execution_count": 58,
   "id": "13600e8a",
   "metadata": {},
   "outputs": [],
   "source": [
    "f = open('filetwo.txt', 'w+')\n",
    "f.write('Two File')\n",
    "f.close()"
   ]
  },
  {
   "cell_type": "code",
   "execution_count": 59,
   "id": "ae6c00d1",
   "metadata": {},
   "outputs": [],
   "source": [
    "import zipfile"
   ]
  },
  {
   "cell_type": "code",
   "execution_count": 60,
   "id": "b94d4f9b",
   "metadata": {},
   "outputs": [],
   "source": [
    "comp_file = zipfile.ZipFile('comp_file.zip', 'w')"
   ]
  },
  {
   "cell_type": "code",
   "execution_count": 61,
   "id": "4ed77a6e",
   "metadata": {},
   "outputs": [],
   "source": [
    "comp_file.write('fileone.txt',compress_type=zipfile.ZIP_DEFLATED)"
   ]
  },
  {
   "cell_type": "code",
   "execution_count": 63,
   "id": "b8033c3d",
   "metadata": {},
   "outputs": [],
   "source": [
    "comp_file.write('filetwo.txt',compress_type=zipfile.ZIP_DEFLATED)\n"
   ]
  },
  {
   "cell_type": "code",
   "execution_count": 64,
   "id": "0fa2f30e",
   "metadata": {},
   "outputs": [],
   "source": [
    "comp_file.close()"
   ]
  },
  {
   "cell_type": "code",
   "execution_count": 65,
   "id": "da2596bb",
   "metadata": {},
   "outputs": [],
   "source": [
    "zip_obj = zipfile.ZipFile('comp_file.zip', 'r')"
   ]
  },
  {
   "cell_type": "code",
   "execution_count": 66,
   "id": "99afd063",
   "metadata": {},
   "outputs": [],
   "source": [
    "zip_obj.extractall('extracted_content')"
   ]
  },
  {
   "cell_type": "code",
   "execution_count": 67,
   "id": "9971840a",
   "metadata": {},
   "outputs": [
    {
     "data": {
      "text/plain": [
       "'c:\\\\Users\\\\PrivamVyas\\\\Desktop\\\\Python - Course\\\\Module - 14'"
      ]
     },
     "execution_count": 67,
     "metadata": {},
     "output_type": "execute_result"
    }
   ],
   "source": [
    "pwd"
   ]
  },
  {
   "cell_type": "code",
   "execution_count": 68,
   "id": "ca72766c",
   "metadata": {},
   "outputs": [],
   "source": [
    "import shutil\n",
    "\n",
    "dir_to_zip = 'c:\\\\Users\\\\PrivamVyas\\\\Desktop\\\\Python - Course\\\\Module - 14\\\\extracted_content'"
   ]
  },
  {
   "cell_type": "code",
   "execution_count": 69,
   "id": "66735f0f",
   "metadata": {},
   "outputs": [],
   "source": [
    "output_filename = 'example'"
   ]
  },
  {
   "cell_type": "code",
   "execution_count": 70,
   "id": "42648c3d",
   "metadata": {},
   "outputs": [
    {
     "data": {
      "text/plain": [
       "'c:\\\\Users\\\\PrivamVyas\\\\Desktop\\\\Python - Course\\\\Module - 14\\\\example.zip'"
      ]
     },
     "execution_count": 70,
     "metadata": {},
     "output_type": "execute_result"
    }
   ],
   "source": [
    "shutil.make_archive(output_filename, 'zip', dir_to_zip)"
   ]
  },
  {
   "cell_type": "code",
   "execution_count": 71,
   "id": "7cff6043",
   "metadata": {},
   "outputs": [],
   "source": [
    "shutil.unpack_archive('example.zip', 'final_unzip', 'zip')"
   ]
  },
  {
   "cell_type": "code",
   "execution_count": null,
   "id": "ba42899a",
   "metadata": {},
   "outputs": [],
   "source": []
  }
 ],
 "metadata": {
  "kernelspec": {
   "display_name": "base",
   "language": "python",
   "name": "python3"
  },
  "language_info": {
   "codemirror_mode": {
    "name": "ipython",
    "version": 3
   },
   "file_extension": ".py",
   "mimetype": "text/x-python",
   "name": "python",
   "nbconvert_exporter": "python",
   "pygments_lexer": "ipython3",
   "version": "3.13.5"
  }
 },
 "nbformat": 4,
 "nbformat_minor": 5
}
