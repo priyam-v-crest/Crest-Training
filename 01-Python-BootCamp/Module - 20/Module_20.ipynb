{
 "cells": [
  {
   "cell_type": "markdown",
   "id": "e4ac1571",
   "metadata": {},
   "source": [
    "## Advanced Numbers"
   ]
  },
  {
   "cell_type": "code",
   "execution_count": 1,
   "id": "59cfa7e8",
   "metadata": {},
   "outputs": [
    {
     "data": {
      "text/plain": [
       "'0xc'"
      ]
     },
     "execution_count": 1,
     "metadata": {},
     "output_type": "execute_result"
    }
   ],
   "source": [
    "hex(12)"
   ]
  },
  {
   "cell_type": "code",
   "execution_count": 2,
   "id": "473270a1",
   "metadata": {},
   "outputs": [
    {
     "data": {
      "text/plain": [
       "'0x200'"
      ]
     },
     "execution_count": 2,
     "metadata": {},
     "output_type": "execute_result"
    }
   ],
   "source": [
    "hex(512)"
   ]
  },
  {
   "cell_type": "code",
   "execution_count": 3,
   "id": "304fd350",
   "metadata": {},
   "outputs": [
    {
     "data": {
      "text/plain": [
       "'0b10011010010'"
      ]
     },
     "execution_count": 3,
     "metadata": {},
     "output_type": "execute_result"
    }
   ],
   "source": [
    "bin(1234)"
   ]
  },
  {
   "cell_type": "code",
   "execution_count": 4,
   "id": "871d80bc",
   "metadata": {},
   "outputs": [
    {
     "data": {
      "text/plain": [
       "'0b10000000'"
      ]
     },
     "execution_count": 4,
     "metadata": {},
     "output_type": "execute_result"
    }
   ],
   "source": [
    "bin(128)"
   ]
  },
  {
   "cell_type": "code",
   "execution_count": 5,
   "id": "5f8e3fb7",
   "metadata": {},
   "outputs": [
    {
     "data": {
      "text/plain": [
       "'0b1000000000'"
      ]
     },
     "execution_count": 5,
     "metadata": {},
     "output_type": "execute_result"
    }
   ],
   "source": [
    "bin(512)"
   ]
  },
  {
   "cell_type": "code",
   "execution_count": 6,
   "id": "0f9a207c",
   "metadata": {},
   "outputs": [
    {
     "data": {
      "text/plain": [
       "27"
      ]
     },
     "execution_count": 6,
     "metadata": {},
     "output_type": "execute_result"
    }
   ],
   "source": [
    "3**3"
   ]
  },
  {
   "cell_type": "code",
   "execution_count": 8,
   "id": "ba337059",
   "metadata": {},
   "outputs": [
    {
     "data": {
      "text/plain": [
       "6"
      ]
     },
     "execution_count": 8,
     "metadata": {},
     "output_type": "execute_result"
    }
   ],
   "source": [
    "pow(3,3,7)"
   ]
  },
  {
   "cell_type": "code",
   "execution_count": 9,
   "id": "e4dae4ac",
   "metadata": {},
   "outputs": [
    {
     "data": {
      "text/plain": [
       "(2, 6)"
      ]
     },
     "execution_count": 9,
     "metadata": {},
     "output_type": "execute_result"
    }
   ],
   "source": [
    "round(2.5), round(5.5)"
   ]
  },
  {
   "cell_type": "code",
   "execution_count": 10,
   "id": "e5dc509b",
   "metadata": {},
   "outputs": [
    {
     "data": {
      "text/plain": [
       "3.143"
      ]
     },
     "execution_count": 10,
     "metadata": {},
     "output_type": "execute_result"
    }
   ],
   "source": [
    "round(22/7,3)"
   ]
  },
  {
   "cell_type": "markdown",
   "id": "83ac87dc",
   "metadata": {},
   "source": [
    "## Advanced Strings"
   ]
  },
  {
   "cell_type": "code",
   "execution_count": 11,
   "id": "abf4079f",
   "metadata": {},
   "outputs": [],
   "source": [
    "s = 'Hello World'"
   ]
  },
  {
   "cell_type": "code",
   "execution_count": 12,
   "id": "a374c28e",
   "metadata": {},
   "outputs": [
    {
     "data": {
      "text/plain": [
       "'Hello world'"
      ]
     },
     "execution_count": 12,
     "metadata": {},
     "output_type": "execute_result"
    }
   ],
   "source": [
    "s.capitalize()"
   ]
  },
  {
   "cell_type": "code",
   "execution_count": 13,
   "id": "a7118a86",
   "metadata": {},
   "outputs": [
    {
     "data": {
      "text/plain": [
       "'HELLO WORLD'"
      ]
     },
     "execution_count": 13,
     "metadata": {},
     "output_type": "execute_result"
    }
   ],
   "source": [
    "s.upper()"
   ]
  },
  {
   "cell_type": "code",
   "execution_count": 14,
   "id": "d049e9d0",
   "metadata": {},
   "outputs": [
    {
     "data": {
      "text/plain": [
       "'hello world'"
      ]
     },
     "execution_count": 14,
     "metadata": {},
     "output_type": "execute_result"
    }
   ],
   "source": [
    "s.lower()"
   ]
  },
  {
   "cell_type": "code",
   "execution_count": 15,
   "id": "459b7731",
   "metadata": {},
   "outputs": [
    {
     "data": {
      "text/plain": [
       "2"
      ]
     },
     "execution_count": 15,
     "metadata": {},
     "output_type": "execute_result"
    }
   ],
   "source": [
    "s.count('o')"
   ]
  },
  {
   "cell_type": "code",
   "execution_count": 16,
   "id": "a7d71de0",
   "metadata": {},
   "outputs": [
    {
     "data": {
      "text/plain": [
       "4"
      ]
     },
     "execution_count": 16,
     "metadata": {},
     "output_type": "execute_result"
    }
   ],
   "source": [
    "s.find('o')"
   ]
  },
  {
   "cell_type": "code",
   "execution_count": 19,
   "id": "6e02ab9f",
   "metadata": {},
   "outputs": [
    {
     "data": {
      "text/plain": [
       "'-------------------Hello World--------------------'"
      ]
     },
     "execution_count": 19,
     "metadata": {},
     "output_type": "execute_result"
    }
   ],
   "source": [
    "s.center(50, '-')"
   ]
  },
  {
   "cell_type": "code",
   "execution_count": 25,
   "id": "0e77370d",
   "metadata": {},
   "outputs": [
    {
     "data": {
      "text/plain": [
       "'hello   world'"
      ]
     },
     "execution_count": 25,
     "metadata": {},
     "output_type": "execute_result"
    }
   ],
   "source": [
    "'hello\\tworld'.expandtabs()"
   ]
  },
  {
   "cell_type": "code",
   "execution_count": 27,
   "id": "6b6879a3",
   "metadata": {},
   "outputs": [],
   "source": [
    "s = 'hello'"
   ]
  },
  {
   "cell_type": "code",
   "execution_count": 29,
   "id": "7c9844b4",
   "metadata": {},
   "outputs": [
    {
     "data": {
      "text/plain": [
       "(True, True, True, False, False)"
      ]
     },
     "execution_count": 29,
     "metadata": {},
     "output_type": "execute_result"
    }
   ],
   "source": [
    "s.isalnum(), s.isalpha(), s.islower(), s.isspace(), s.istitle()"
   ]
  },
  {
   "cell_type": "code",
   "execution_count": 32,
   "id": "e6f3d15b",
   "metadata": {},
   "outputs": [
    {
     "data": {
      "text/plain": [
       "(True, True)"
      ]
     },
     "execution_count": 32,
     "metadata": {},
     "output_type": "execute_result"
    }
   ],
   "source": [
    "s.endswith('o'), s[-1] == 'o'"
   ]
  },
  {
   "cell_type": "code",
   "execution_count": 34,
   "id": "81027523",
   "metadata": {},
   "outputs": [
    {
     "data": {
      "text/plain": [
       "(['he', '', 'o'], ('he', 'l', 'lo'))"
      ]
     },
     "execution_count": 34,
     "metadata": {},
     "output_type": "execute_result"
    }
   ],
   "source": [
    "s.split('l'), s.partition('l')"
   ]
  },
  {
   "cell_type": "markdown",
   "id": "4c82ab6d",
   "metadata": {},
   "source": [
    "## Advanced Sets"
   ]
  },
  {
   "cell_type": "code",
   "execution_count": 35,
   "id": "c26decef",
   "metadata": {},
   "outputs": [],
   "source": [
    "s = set()"
   ]
  },
  {
   "cell_type": "code",
   "execution_count": 37,
   "id": "b8f0e978",
   "metadata": {},
   "outputs": [],
   "source": [
    "s.add(1)"
   ]
  },
  {
   "cell_type": "code",
   "execution_count": 39,
   "id": "2ffa9b14",
   "metadata": {},
   "outputs": [],
   "source": [
    "s.add((2,3))"
   ]
  },
  {
   "cell_type": "code",
   "execution_count": 41,
   "id": "4f05e8c6",
   "metadata": {},
   "outputs": [
    {
     "data": {
      "text/plain": [
       "{(2, 3), 1}"
      ]
     },
     "execution_count": 41,
     "metadata": {},
     "output_type": "execute_result"
    }
   ],
   "source": [
    "s"
   ]
  },
  {
   "cell_type": "code",
   "execution_count": 42,
   "id": "f591c2d7",
   "metadata": {},
   "outputs": [],
   "source": [
    "s.clear()"
   ]
  },
  {
   "cell_type": "code",
   "execution_count": 43,
   "id": "e6da7403",
   "metadata": {},
   "outputs": [],
   "source": [
    "sc = s.copy()"
   ]
  },
  {
   "cell_type": "code",
   "execution_count": 44,
   "id": "6e3c2325",
   "metadata": {},
   "outputs": [],
   "source": [
    "s.add(1)"
   ]
  },
  {
   "cell_type": "code",
   "execution_count": 45,
   "id": "359fdc72",
   "metadata": {},
   "outputs": [
    {
     "data": {
      "text/plain": [
       "({1}, set())"
      ]
     },
     "execution_count": 45,
     "metadata": {},
     "output_type": "execute_result"
    }
   ],
   "source": [
    "s,sc"
   ]
  },
  {
   "cell_type": "code",
   "execution_count": 46,
   "id": "bfbe9acd",
   "metadata": {},
   "outputs": [
    {
     "data": {
      "text/plain": [
       "{1}"
      ]
     },
     "execution_count": 46,
     "metadata": {},
     "output_type": "execute_result"
    }
   ],
   "source": [
    "s.difference(sc)"
   ]
  },
  {
   "cell_type": "code",
   "execution_count": 57,
   "id": "993ccab8",
   "metadata": {},
   "outputs": [],
   "source": [
    "s1 = {1,2,3}\n",
    "s2 = {1,4,5}"
   ]
  },
  {
   "cell_type": "code",
   "execution_count": 58,
   "id": "ab82d36c",
   "metadata": {},
   "outputs": [
    {
     "data": {
      "text/plain": [
       "{1}"
      ]
     },
     "execution_count": 58,
     "metadata": {},
     "output_type": "execute_result"
    }
   ],
   "source": [
    "s1.intersection(s2)"
   ]
  },
  {
   "cell_type": "code",
   "execution_count": 59,
   "id": "3f60ed39",
   "metadata": {},
   "outputs": [
    {
     "data": {
      "text/plain": [
       "False"
      ]
     },
     "execution_count": 59,
     "metadata": {},
     "output_type": "execute_result"
    }
   ],
   "source": [
    "s1.issubset(s2)"
   ]
  },
  {
   "cell_type": "code",
   "execution_count": 60,
   "id": "2f60f4d1",
   "metadata": {},
   "outputs": [
    {
     "data": {
      "text/plain": [
       "{2, 3, 4, 5}"
      ]
     },
     "execution_count": 60,
     "metadata": {},
     "output_type": "execute_result"
    }
   ],
   "source": [
    "s1.symmetric_difference(s2)"
   ]
  },
  {
   "cell_type": "code",
   "execution_count": 61,
   "id": "97f7329a",
   "metadata": {},
   "outputs": [
    {
     "data": {
      "text/plain": [
       "{1, 2, 3, 4, 5}"
      ]
     },
     "execution_count": 61,
     "metadata": {},
     "output_type": "execute_result"
    }
   ],
   "source": [
    "s1.union(s2)"
   ]
  },
  {
   "cell_type": "code",
   "execution_count": 54,
   "id": "ba15af50",
   "metadata": {},
   "outputs": [],
   "source": [
    "s1.difference_update(s2)"
   ]
  },
  {
   "cell_type": "code",
   "execution_count": 55,
   "id": "252be072",
   "metadata": {},
   "outputs": [
    {
     "data": {
      "text/plain": [
       "{2, 3}"
      ]
     },
     "execution_count": 55,
     "metadata": {},
     "output_type": "execute_result"
    }
   ],
   "source": [
    "s1"
   ]
  },
  {
   "cell_type": "code",
   "execution_count": 56,
   "id": "ab8bb39b",
   "metadata": {},
   "outputs": [
    {
     "data": {
      "text/plain": [
       "True"
      ]
     },
     "execution_count": 56,
     "metadata": {},
     "output_type": "execute_result"
    }
   ],
   "source": [
    "s1.isdisjoint(s2)"
   ]
  },
  {
   "cell_type": "code",
   "execution_count": 51,
   "id": "405302dc",
   "metadata": {},
   "outputs": [
    {
     "data": {
      "text/plain": [
       "set()"
      ]
     },
     "execution_count": 51,
     "metadata": {},
     "output_type": "execute_result"
    }
   ],
   "source": [
    "s.discard(1)\n",
    "s"
   ]
  },
  {
   "cell_type": "markdown",
   "id": "c56afb63",
   "metadata": {},
   "source": [
    "## Advanced Dictionary"
   ]
  },
  {
   "cell_type": "code",
   "execution_count": 62,
   "id": "85d85ef2",
   "metadata": {},
   "outputs": [],
   "source": [
    "d = {'k1':1, 'k2': 2}"
   ]
  },
  {
   "cell_type": "code",
   "execution_count": 65,
   "id": "7b3d6d02",
   "metadata": {},
   "outputs": [
    {
     "data": {
      "text/plain": [
       "{'a': 0, 'b': 1}"
      ]
     },
     "execution_count": 65,
     "metadata": {},
     "output_type": "execute_result"
    }
   ],
   "source": [
    "{k:v**2 for k,v in zip(['a','b'], range(2))}"
   ]
  },
  {
   "cell_type": "code",
   "execution_count": 67,
   "id": "9067ae78",
   "metadata": {},
   "outputs": [
    {
     "name": "stdout",
     "output_type": "stream",
     "text": [
      "('k1', 1)\n",
      "('k2', 2)\n"
     ]
    }
   ],
   "source": [
    "for k in d.items():\n",
    "    print(k)"
   ]
  },
  {
   "cell_type": "code",
   "execution_count": 69,
   "id": "805200f9",
   "metadata": {},
   "outputs": [
    {
     "data": {
      "text/plain": [
       "dict_values([1, 2])"
      ]
     },
     "execution_count": 69,
     "metadata": {},
     "output_type": "execute_result"
    }
   ],
   "source": [
    "d.values()"
   ]
  },
  {
   "cell_type": "markdown",
   "id": "3a2dd3f7",
   "metadata": {},
   "source": [
    "## Advanced Lists"
   ]
  },
  {
   "cell_type": "code",
   "execution_count": 80,
   "id": "7481c0ac",
   "metadata": {},
   "outputs": [],
   "source": [
    "l = [1,2,3]"
   ]
  },
  {
   "cell_type": "code",
   "execution_count": 81,
   "id": "848c443a",
   "metadata": {},
   "outputs": [],
   "source": [
    "l.append(4)"
   ]
  },
  {
   "cell_type": "code",
   "execution_count": 82,
   "id": "c3996c4d",
   "metadata": {},
   "outputs": [
    {
     "data": {
      "text/plain": [
       "1"
      ]
     },
     "execution_count": 82,
     "metadata": {},
     "output_type": "execute_result"
    }
   ],
   "source": [
    "l.count(3)"
   ]
  },
  {
   "cell_type": "code",
   "execution_count": 83,
   "id": "7f526473",
   "metadata": {},
   "outputs": [
    {
     "data": {
      "text/plain": [
       "[1, 2, 3, 4, [5, 6], 7, 8]"
      ]
     },
     "execution_count": 83,
     "metadata": {},
     "output_type": "execute_result"
    }
   ],
   "source": [
    "l.append([5,6]), l.extend([7,8])\n",
    "l"
   ]
  },
  {
   "cell_type": "code",
   "execution_count": 84,
   "id": "e8557d95",
   "metadata": {},
   "outputs": [
    {
     "data": {
      "text/plain": [
       "2"
      ]
     },
     "execution_count": 84,
     "metadata": {},
     "output_type": "execute_result"
    }
   ],
   "source": [
    "l.index(3)"
   ]
  },
  {
   "cell_type": "code",
   "execution_count": 85,
   "id": "07ba5f57",
   "metadata": {},
   "outputs": [],
   "source": [
    "l.insert(2, 'new')"
   ]
  },
  {
   "cell_type": "code",
   "execution_count": 86,
   "id": "264a140d",
   "metadata": {},
   "outputs": [
    {
     "data": {
      "text/plain": [
       "[1, 2, 'new', 3, 4, [5, 6], 7, 8]"
      ]
     },
     "execution_count": 86,
     "metadata": {},
     "output_type": "execute_result"
    }
   ],
   "source": [
    "l"
   ]
  },
  {
   "cell_type": "code",
   "execution_count": 87,
   "id": "4afc299b",
   "metadata": {},
   "outputs": [
    {
     "data": {
      "text/plain": [
       "8"
      ]
     },
     "execution_count": 87,
     "metadata": {},
     "output_type": "execute_result"
    }
   ],
   "source": [
    "dele = l.pop()\n",
    "dele"
   ]
  },
  {
   "cell_type": "code",
   "execution_count": 88,
   "id": "99a76365",
   "metadata": {},
   "outputs": [
    {
     "data": {
      "text/plain": [
       "[1, 2, 'new', 3, 4, [5, 6], 7]"
      ]
     },
     "execution_count": 88,
     "metadata": {},
     "output_type": "execute_result"
    }
   ],
   "source": [
    "l"
   ]
  },
  {
   "cell_type": "code",
   "execution_count": 89,
   "id": "39d9d174",
   "metadata": {},
   "outputs": [
    {
     "data": {
      "text/plain": [
       "[2, 'new', 3, 4, [5, 6], 7]"
      ]
     },
     "execution_count": 89,
     "metadata": {},
     "output_type": "execute_result"
    }
   ],
   "source": [
    "l.pop(0)\n",
    "l"
   ]
  },
  {
   "cell_type": "code",
   "execution_count": 90,
   "id": "421a2683",
   "metadata": {},
   "outputs": [
    {
     "data": {
      "text/plain": [
       "[2, 3, 4, [5, 6], 7]"
      ]
     },
     "execution_count": 90,
     "metadata": {},
     "output_type": "execute_result"
    }
   ],
   "source": [
    "l.remove('new')\n",
    "l"
   ]
  },
  {
   "cell_type": "code",
   "execution_count": 93,
   "id": "6c56a495",
   "metadata": {},
   "outputs": [
    {
     "data": {
      "text/plain": [
       "[7, [5, 6], 4, 3, 2]"
      ]
     },
     "execution_count": 93,
     "metadata": {},
     "output_type": "execute_result"
    }
   ],
   "source": [
    "l.reverse()\n",
    "l"
   ]
  },
  {
   "cell_type": "code",
   "execution_count": 99,
   "id": "866522b9",
   "metadata": {},
   "outputs": [
    {
     "data": {
      "text/plain": [
       "[2, 3, 4, 7]"
      ]
     },
     "execution_count": 99,
     "metadata": {},
     "output_type": "execute_result"
    }
   ],
   "source": [
    "l.remove([5,6])\n",
    "l.sort()\n",
    "l"
   ]
  },
  {
   "cell_type": "code",
   "execution_count": null,
   "id": "d5fc57bd",
   "metadata": {},
   "outputs": [],
   "source": []
  }
 ],
 "metadata": {
  "kernelspec": {
   "display_name": "base",
   "language": "python",
   "name": "python3"
  },
  "language_info": {
   "codemirror_mode": {
    "name": "ipython",
    "version": 3
   },
   "file_extension": ".py",
   "mimetype": "text/x-python",
   "name": "python",
   "nbconvert_exporter": "python",
   "pygments_lexer": "ipython3",
   "version": "3.13.5"
  }
 },
 "nbformat": 4,
 "nbformat_minor": 5
}
