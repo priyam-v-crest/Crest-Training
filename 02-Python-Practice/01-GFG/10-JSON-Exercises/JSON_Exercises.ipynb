{
 "cells": [
  {
   "cell_type": "markdown",
   "id": "a320042f",
   "metadata": {},
   "source": [
    "## Ex - 1: Convert class object to JSON in Python"
   ]
  },
  {
   "cell_type": "code",
   "execution_count": 5,
   "id": "4df35146",
   "metadata": {},
   "outputs": [],
   "source": [
    "import json\n",
    "\n",
    "class Person:\n",
    "    def __init__(self, name, age):\n",
    "        self.name = name\n",
    "        self.age = age\n",
    "        \n",
    "    def to_dict(self):\n",
    "        return {'name': self.name, 'age': self.age}\n",
    "\n",
    "p1 = Person(\"Priyam\", 21)"
   ]
  },
  {
   "cell_type": "code",
   "execution_count": 4,
   "id": "672250bb",
   "metadata": {},
   "outputs": [
    {
     "name": "stdout",
     "output_type": "stream",
     "text": [
      "{\"name\": \"Priyam\", \"age\": 21}\n"
     ]
    }
   ],
   "source": [
    "res = json.dumps(p1.__dict__)\n",
    "print(res)"
   ]
  },
  {
   "cell_type": "code",
   "execution_count": 6,
   "id": "757cbcce",
   "metadata": {},
   "outputs": [
    {
     "name": "stdout",
     "output_type": "stream",
     "text": [
      "{\"name\": \"Priyam\", \"age\": 21}\n"
     ]
    }
   ],
   "source": [
    "res = json.dumps(p1.to_dict())  \n",
    "print(res)"
   ]
  },
  {
   "cell_type": "markdown",
   "id": "ac01e7bc",
   "metadata": {},
   "source": [
    "## Ex - 2: Convert JSON data Into a Custom Python Object"
   ]
  },
  {
   "cell_type": "code",
   "execution_count": 7,
   "id": "1cc9cd43",
   "metadata": {},
   "outputs": [
    {
     "name": "stdout",
     "output_type": "stream",
     "text": [
      "Priyam 1 Ahmedabad\n"
     ]
    }
   ],
   "source": [
    "import json\n",
    "from collections import namedtuple\n",
    "\n",
    "data = '{\"name\": \"Priyam\", \"id\": 1, \"location\": \"Ahmedabad\"}'\n",
    "\n",
    "x = json.loads(data, object_hook=lambda d: namedtuple('X', d.keys())(*d.values()))\n",
    "\n",
    "print(x.name, x.id, x.location)"
   ]
  },
  {
   "cell_type": "code",
   "execution_count": 8,
   "id": "40c32298",
   "metadata": {},
   "outputs": [
    {
     "name": "stdout",
     "output_type": "stream",
     "text": [
      "Priyam 1 Ahmedabad\n"
     ]
    }
   ],
   "source": [
    "def customDecoder(dic):\n",
    "    return namedtuple('X', dic.keys())(*dic.values())\n",
    "\n",
    "x = json.loads(data, object_hook=customDecoder)\n",
    "\n",
    "print(x.name, x.id, x.location)"
   ]
  },
  {
   "cell_type": "code",
   "execution_count": 9,
   "id": "245b9761",
   "metadata": {},
   "outputs": [
    {
     "name": "stdout",
     "output_type": "stream",
     "text": [
      "Priyam 1 Ahmedabad\n"
     ]
    }
   ],
   "source": [
    "from types import SimpleNamespace as Namespace\n",
    "\n",
    "x = json.loads(data, object_hook=lambda d: Namespace(**d))\n",
    "\n",
    "print(x.name, x.id, x.location)"
   ]
  },
  {
   "cell_type": "markdown",
   "id": "f3523a8d",
   "metadata": {},
   "source": [
    "## Ex - 3: Flattening JSON objects in Python"
   ]
  },
  {
   "cell_type": "code",
   "execution_count": null,
   "id": "067f7be4",
   "metadata": {},
   "outputs": [
    {
     "name": "stdout",
     "output_type": "stream",
     "text": [
      "{'user_Priyam_UserID': 1713, 'user_Priyam_Email': 'priyamvyas12345@gmail.com', 'user_Priyam_friends_0': ''}\n"
     ]
    }
   ],
   "source": [
    "from flatten_json import flatten\n",
    "\n",
    "unflat_json = {\n",
    "    'user':{\n",
    "        'Priyam':{\n",
    "            'UserID': 1713,\n",
    "            'Email': 'priyamvyas12345@gmail.com',\n",
    "            'friends': ['']\n",
    "            }\n",
    "            }\n",
    "        }\n",
    "\n",
    "print(flatten(unflat_json))"
   ]
  },
  {
   "cell_type": "markdown",
   "id": "2eab6d15",
   "metadata": {},
   "source": [
    "## Ex - 4: Convert CSV to JSON using Python"
   ]
  },
  {
   "cell_type": "code",
   "execution_count": 1,
   "id": "916173b1",
   "metadata": {},
   "outputs": [],
   "source": [
    "import csv\n",
    "import json\n",
    "\n",
    "with open('input.csv', mode='r', newline='', encoding='utf-8') as csvfile:\n",
    "    data = list(csv.DictReader(csvfile))\n",
    "\n",
    "with open('output.json', mode='w', encoding='utf-8') as jsonfile:\n",
    "    json.dump(data, jsonfile, indent=4)"
   ]
  },
  {
   "cell_type": "code",
   "execution_count": 2,
   "id": "9ecf78c4",
   "metadata": {},
   "outputs": [],
   "source": [
    "import pandas as pd\n",
    "\n",
    "df = pd.read_csv('input.csv')\n",
    "\n",
    "df.to_json('output.json', orient='records', lines=True)"
   ]
  },
  {
   "cell_type": "code",
   "execution_count": null,
   "id": "6aed153d",
   "metadata": {},
   "outputs": [],
   "source": []
  }
 ],
 "metadata": {
  "kernelspec": {
   "display_name": "base",
   "language": "python",
   "name": "python3"
  },
  "language_info": {
   "codemirror_mode": {
    "name": "ipython",
    "version": 3
   },
   "file_extension": ".py",
   "mimetype": "text/x-python",
   "name": "python",
   "nbconvert_exporter": "python",
   "pygments_lexer": "ipython3",
   "version": "3.13.5"
  }
 },
 "nbformat": 4,
 "nbformat_minor": 5
}
