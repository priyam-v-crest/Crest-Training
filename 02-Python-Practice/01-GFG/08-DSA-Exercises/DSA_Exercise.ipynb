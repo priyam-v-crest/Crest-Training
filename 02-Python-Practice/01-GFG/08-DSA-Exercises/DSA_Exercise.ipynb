{
 "cells": [
  {
   "cell_type": "markdown",
   "id": "8fed83f3",
   "metadata": {},
   "source": [
    "## Ex - 1: Python program to reverse a stack"
   ]
  },
  {
   "cell_type": "code",
   "execution_count": 5,
   "id": "40bd6fb7",
   "metadata": {},
   "outputs": [
    {
     "name": "stdout",
     "output_type": "stream",
     "text": [
      "[5, 4, 3, 2, 1]\n"
     ]
    }
   ],
   "source": [
    "def insert_at_bottom(stack, item):\n",
    "    if not stack:\n",
    "        stack.append(item)\n",
    "    else:\n",
    "        top = stack.pop()\n",
    "        insert_at_bottom(stack, item)\n",
    "        stack.append(top)\n",
    "\n",
    "def reverse_stack(stack):\n",
    "    if stack:\n",
    "        top = stack.pop()\n",
    "        reverse_stack(stack)\n",
    "        insert_at_bottom(stack, top)\n",
    "\n",
    "stack = [1, 2, 3, 4, 5]\n",
    "\n",
    "reverse_stack(stack)\n",
    "print(stack)"
   ]
  },
  {
   "cell_type": "markdown",
   "id": "40af1004",
   "metadata": {},
   "source": [
    "## Ex - 2: Check whether the given string is Palindrome using Stack"
   ]
  },
  {
   "cell_type": "code",
   "execution_count": null,
   "id": "efd45b27",
   "metadata": {},
   "outputs": [
    {
     "name": "stdout",
     "output_type": "stream",
     "text": [
      "True\n"
     ]
    }
   ],
   "source": [
    "def is_palindrome(s):\n",
    "    s = s.replace(\" \", \"\").lower()\n",
    "\n",
    "    stack = []\n",
    "\n",
    "    for char in s:\n",
    "        stack.append(char)\n",
    "\n",
    "    for char in s:\n",
    "        if char != stack.pop():\n",
    "            return False\n",
    "    return True\n",
    "\n",
    "s = \"Racecar\"\n",
    "print(is_palindrome(s))\n"
   ]
  },
  {
   "cell_type": "markdown",
   "id": "1ce49844",
   "metadata": {},
   "source": [
    "## Ex - 3: Calculate the Edge Cover of a Graph"
   ]
  },
  {
   "cell_type": "code",
   "execution_count": null,
   "id": "ff8e89dc",
   "metadata": {},
   "outputs": [
    {
     "name": "stdout",
     "output_type": "stream",
     "text": [
      "3\n"
     ]
    }
   ],
   "source": [
    "import math\n",
    "n =  5\n",
    "print(int(math.ceil(n / 2.0)))"
   ]
  },
  {
   "cell_type": "markdown",
   "id": "4268ca5a",
   "metadata": {},
   "source": [
    "## Ex - 4: Multithreaded Priority Queue in Python"
   ]
  },
  {
   "cell_type": "code",
   "execution_count": 13,
   "id": "a1f14017",
   "metadata": {},
   "outputs": [
    {
     "name": "stdout",
     "output_type": "stream",
     "text": [
      "initializing Thread-1\n",
      "initializing Thread-2\n",
      "initializing Thread-3\n",
      "Thread-1 processing A\n",
      "Thread-3 processing B\n",
      "Thread-3 processing C\n",
      "Thread-3 processing D\n",
      "Thread-3 processing E\n",
      "Exiting Thread-1Exiting Thread-2\n",
      "Exiting Thread-3\n",
      "\n",
      "Exit Main Thread\n"
     ]
    }
   ],
   "source": [
    "import queue\n",
    "import threading\n",
    "import time\n",
    "\n",
    "thread_exit_Flag = 0\n",
    "\n",
    "class sample_Thread (threading.Thread):\n",
    "   def __init__(self, threadID, name, q):\n",
    "      threading.Thread.__init__(self)\n",
    "      self.threadID = threadID\n",
    "      self.name = name\n",
    "      self.q = q\n",
    "   def run(self):\n",
    "      print (\"initializing \" + self.name)\n",
    "      process_data(self.name, self.q)\n",
    "      print (\"Exiting \" + self.name)\n",
    "\n",
    "def process_data(threadName, q):\n",
    "   while not thread_exit_Flag:\n",
    "      queueLock.acquire()\n",
    "      if not workQueue.empty():\n",
    "         data = q.get()\n",
    "         queueLock.release()\n",
    "         print (\"% s processing % s\" % (threadName, data))\n",
    "      else:\n",
    "         queueLock.release()\n",
    "         time.sleep(1)\n",
    "\n",
    "thread_list = [\"Thread-1\", \"Thread-2\", \"Thread-3\"]\n",
    "name_list = [\"A\", \"B\", \"C\", \"D\", \"E\"]\n",
    "queueLock = threading.Lock()\n",
    "workQueue = queue.Queue(10)\n",
    "threads = []\n",
    "threadID = 1\n",
    "\n",
    "for thread_name in thread_list:\n",
    "   thread = sample_Thread(threadID, thread_name, workQueue)\n",
    "   thread.start()\n",
    "   threads.append(thread)\n",
    "   threadID += 1\n",
    "\n",
    "queueLock.acquire()\n",
    "for items in name_list:\n",
    "   workQueue.put(items)\n",
    "\n",
    "queueLock.release()\n",
    "\n",
    "while not workQueue.empty():\n",
    "   pass\n",
    "\n",
    "thread_exit_Flag = 1\n",
    "\n",
    "for t in threads:\n",
    "   t.join()\n",
    "print (\"Exit Main Thread\")"
   ]
  },
  {
   "cell_type": "markdown",
   "id": "6e455f51",
   "metadata": {},
   "source": [
    "## Ex - 5: Find middle of a linked list using one traversal"
   ]
  },
  {
   "cell_type": "code",
   "execution_count": 16,
   "id": "0010b3d4",
   "metadata": {},
   "outputs": [
    {
     "name": "stdout",
     "output_type": "stream",
     "text": [
      "30\n"
     ]
    }
   ],
   "source": [
    "class Node:\n",
    "    def __init__(self, data):\n",
    "        self.data = data\n",
    "        self.next = None\n",
    "\n",
    "class LinkedList:\n",
    "    def __init__(self):\n",
    "        self.head = None\n",
    "\n",
    "    def append(self, data):\n",
    "        new_node = Node(data)\n",
    "        if not self.head:\n",
    "            self.head = new_node\n",
    "            return\n",
    "        current = self.head\n",
    "        while current.next:\n",
    "            current = current.next\n",
    "        current.next = new_node\n",
    "\n",
    "    def find_middle(self):\n",
    "        slow = self.head\n",
    "        fast = self.head\n",
    "\n",
    "        while fast and fast.next:\n",
    "            slow = slow.next\n",
    "            fast = fast.next.next\n",
    "\n",
    "        if slow:\n",
    "            return slow.data\n",
    "        return None\n",
    "\n",
    "ll = LinkedList()\n",
    "for value in [10, 20, 30, 40, 50]:\n",
    "    ll.append(value)\n",
    "\n",
    "print(ll.find_middle())\n"
   ]
  },
  {
   "cell_type": "code",
   "execution_count": null,
   "id": "ef6ef37f",
   "metadata": {},
   "outputs": [],
   "source": []
  }
 ],
 "metadata": {
  "kernelspec": {
   "display_name": "base",
   "language": "python",
   "name": "python3"
  },
  "language_info": {
   "codemirror_mode": {
    "name": "ipython",
    "version": 3
   },
   "file_extension": ".py",
   "mimetype": "text/x-python",
   "name": "python",
   "nbconvert_exporter": "python",
   "pygments_lexer": "ipython3",
   "version": "3.13.5"
  }
 },
 "nbformat": 4,
 "nbformat_minor": 5
}
