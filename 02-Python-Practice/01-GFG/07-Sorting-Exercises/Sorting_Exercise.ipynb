{
 "cells": [
  {
   "cell_type": "markdown",
   "id": "35c5dc82",
   "metadata": {},
   "source": [
    "## Ex - 1: Counting Sort"
   ]
  },
  {
   "cell_type": "code",
   "execution_count": 2,
   "id": "ade53890",
   "metadata": {},
   "outputs": [
    {
     "name": "stdout",
     "output_type": "stream",
     "text": [
      "ginrst\n"
     ]
    }
   ],
   "source": [
    "def count_sort(s):\n",
    "    count = [0] * 256\n",
    "    \n",
    "    for char in s:\n",
    "        count[ord(char)] += 1\n",
    "\n",
    "    sorted_str = \"\"\n",
    "    for i in range(256):\n",
    "        sorted_str += chr(i) * count[i]\n",
    "\n",
    "    return sorted_str\n",
    "\n",
    "s = \"string\"\n",
    "print(count_sort(s))"
   ]
  },
  {
   "cell_type": "markdown",
   "id": "3b06d43e",
   "metadata": {},
   "source": [
    "## Ex -2: Brick Sort"
   ]
  },
  {
   "cell_type": "code",
   "execution_count": null,
   "id": "f08c6ac1",
   "metadata": {},
   "outputs": [
    {
     "name": "stdout",
     "output_type": "stream",
     "text": [
      "-9 2 10 34 "
     ]
    }
   ],
   "source": [
    "def oddEvenSort(arr): \n",
    "    n = len(arr)\n",
    "    isSorted = 0\n",
    "    while isSorted == 0: \n",
    "        isSorted = 1\n",
    "        temp = 0\n",
    "        for i in range(1, n-1, 2): \n",
    "            if arr[i] > arr[i+1]: \n",
    "                arr[i], arr[i+1] = arr[i+1], arr[i] \n",
    "                isSorted = 0\n",
    "                \n",
    "        for i in range(0, n-1, 2): \n",
    "            if arr[i] > arr[i+1]: \n",
    "                arr[i], arr[i+1] = arr[i+1], arr[i] \n",
    "                isSorted = 0\n",
    "    return\n",
    "\n",
    "arr = [34, 2, 10, -9] \n",
    "oddEvenSort(arr); \n",
    "for i in range(len(arr)): \n",
    "    print(arr[i], end= \" \")"
   ]
  },
  {
   "cell_type": "markdown",
   "id": "c143fd85",
   "metadata": {},
   "source": [
    "## Ex - 3: Gnome Sort"
   ]
  },
  {
   "cell_type": "code",
   "execution_count": 6,
   "id": "2de89e22",
   "metadata": {},
   "outputs": [
    {
     "name": "stdout",
     "output_type": "stream",
     "text": [
      "-9 2 10 34 "
     ]
    }
   ],
   "source": [
    "def gnomeSort(arr, n):\n",
    "    index = 0\n",
    "    while index < n:\n",
    "        if index == 0:\n",
    "            index = index + 1\n",
    "        if arr[index] >= arr[index - 1]:\n",
    "            index = index + 1\n",
    "        else:\n",
    "            arr[index], arr[index - 1] = arr[index - 1], arr[index]\n",
    "            index = index - 1\n",
    "\n",
    "    return arr\n",
    "\n",
    "arr = [34, 2, 10, -9]\n",
    "n = len(arr)\n",
    "\n",
    "arr = gnomeSort(arr, n)\n",
    "for i in arr:\n",
    "    print(i, end=\" \")"
   ]
  },
  {
   "cell_type": "markdown",
   "id": "4f7eb6ee",
   "metadata": {},
   "source": [
    "## Ex - 4: Comb Sort"
   ]
  },
  {
   "cell_type": "code",
   "execution_count": null,
   "id": "7d516f7f",
   "metadata": {},
   "outputs": [
    {
     "name": "stdout",
     "output_type": "stream",
     "text": [
      "-44\n",
      "-6\n",
      "0\n",
      "1\n",
      "3\n",
      "4\n",
      "8\n",
      "23\n",
      "28\n"
     ]
    }
   ],
   "source": [
    "def getNextGap(gap):\n",
    "\n",
    "    gap = (gap * 10)//13\n",
    "    if gap < 1:\n",
    "        return 1\n",
    "    return gap\n",
    "\n",
    "def combSort(arr):\n",
    "    n = len(arr)\n",
    "\n",
    "    gap = n\n",
    "\n",
    "    swapped = True\n",
    "\n",
    "    while gap != 1 or swapped == 1:\n",
    "\n",
    "        gap = getNextGap(gap)\n",
    "\n",
    "        swapped = False\n",
    "\n",
    "        for i in range(0, n-gap):\n",
    "            if arr[i] > arr[i + gap]:\n",
    "                arr[i], arr[i + gap] = arr[i + gap], arr[i]\n",
    "                swapped = True\n",
    "\n",
    "arr = [8, 4, 1, 3, -44, 23, -6, 28, 0]\n",
    "combSort(arr)\n",
    "\n",
    "for i in range(len(arr)):\n",
    "    print(arr[i])"
   ]
  },
  {
   "cell_type": "markdown",
   "id": "8ef71095",
   "metadata": {},
   "source": [
    "## Ex - 5: Shell Sort"
   ]
  },
  {
   "cell_type": "code",
   "execution_count": null,
   "id": "4ee9bbc4",
   "metadata": {},
   "outputs": [
    {
     "name": "stdout",
     "output_type": "stream",
     "text": [
      "2\n",
      "3\n",
      "12\n",
      "34\n",
      "54\n"
     ]
    }
   ],
   "source": [
    "def shellSort(arr):\n",
    "    n = len(arr)\n",
    "    gap = n//2\n",
    "\n",
    "    while gap > 0:\n",
    "        for i in range(gap,n):\n",
    "            temp = arr[i]\n",
    "            j = i\n",
    "            while j >= gap and arr[j-gap] >temp:\n",
    "                arr[j] = arr[j-gap]\n",
    "                j -= gap\n",
    "\n",
    "            arr[j] = temp\n",
    "        gap //= 2\n",
    "\n",
    "arr = [ 12, 34, 54, 2, 3]\n",
    "n = len(arr)\n",
    "shellSort(arr)\n",
    "for i in range(n):\n",
    "    print(arr[i])"
   ]
  },
  {
   "cell_type": "code",
   "execution_count": null,
   "id": "848f915d",
   "metadata": {},
   "outputs": [],
   "source": []
  }
 ],
 "metadata": {
  "kernelspec": {
   "display_name": "base",
   "language": "python",
   "name": "python3"
  },
  "language_info": {
   "codemirror_mode": {
    "name": "ipython",
    "version": 3
   },
   "file_extension": ".py",
   "mimetype": "text/x-python",
   "name": "python",
   "nbconvert_exporter": "python",
   "pygments_lexer": "ipython3",
   "version": "3.13.5"
  }
 },
 "nbformat": 4,
 "nbformat_minor": 5
}
