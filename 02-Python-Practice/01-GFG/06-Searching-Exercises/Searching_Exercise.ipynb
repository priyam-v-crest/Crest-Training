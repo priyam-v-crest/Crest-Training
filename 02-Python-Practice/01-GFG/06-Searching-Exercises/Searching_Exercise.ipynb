{
 "cells": [
  {
   "cell_type": "markdown",
   "id": "eb54f830",
   "metadata": {},
   "source": [
    "## Ex - 1: Given two strings A and B, you need to find the last occurrence ( 1 based indexing) of string B in string A."
   ]
  },
  {
   "cell_type": "code",
   "execution_count": 7,
   "id": "e6bfb34d",
   "metadata": {},
   "outputs": [
    {
     "data": {
      "text/plain": [
       "13"
      ]
     },
     "execution_count": 7,
     "metadata": {},
     "output_type": "execute_result"
    }
   ],
   "source": [
    "def findLast(s1, s2):\n",
    "    return s1.rfind(s2) + 1\n",
    "\n",
    "A = \"abcdefghijklghifghsd\"\n",
    "B = \"ghi\"\n",
    "findLast(A,B)"
   ]
  },
  {
   "cell_type": "markdown",
   "id": "d4f9fd04",
   "metadata": {},
   "source": [
    "## Ex - 2: If the pattern is present in the given string"
   ]
  },
  {
   "cell_type": "code",
   "execution_count": null,
   "id": "c1642fda",
   "metadata": {},
   "outputs": [
    {
     "data": {
      "text/plain": [
       "True"
      ]
     },
     "execution_count": 8,
     "metadata": {},
     "output_type": "execute_result"
    }
   ],
   "source": [
    "def check(t, p):\n",
    "    return p in t\n",
    "\n",
    "\n",
    "txt = \"abcdefh\"\n",
    "pat = \"bcd\"\n",
    "check(txt, pat)"
   ]
  },
  {
   "cell_type": "markdown",
   "id": "2b18b952",
   "metadata": {},
   "source": [
    "## Ex - 3: Binary Search"
   ]
  },
  {
   "cell_type": "code",
   "execution_count": null,
   "id": "550d1e04",
   "metadata": {},
   "outputs": [
    {
     "data": {
      "text/plain": [
       "3"
      ]
     },
     "execution_count": 15,
     "metadata": {},
     "output_type": "execute_result"
    }
   ],
   "source": [
    "def bs(a,k, l, h):\n",
    "    while l <= h:\n",
    "        mid = (l+h)//2\n",
    "        if a[mid] == k:\n",
    "            return mid\n",
    "        elif a[mid]<k:\n",
    "            l = mid + 1\n",
    "        else:\n",
    "            h = mid -1\n",
    "    return -1\n",
    "\n",
    "arr = [1, 2, 3, 4, 5]\n",
    "k = 4\n",
    "\n",
    "bs(arr, k, 0, len(arr)-1)"
   ]
  },
  {
   "cell_type": "markdown",
   "id": "abddbba9",
   "metadata": {},
   "source": [
    "## Ex - 4: Rabin-Karp Algorithm for Pattern Searching"
   ]
  },
  {
   "cell_type": "code",
   "execution_count": 17,
   "id": "93acca08",
   "metadata": {},
   "outputs": [
    {
     "name": "stdout",
     "output_type": "stream",
     "text": [
      "Pattern found at index 10\n"
     ]
    }
   ],
   "source": [
    "def rabin_karp(pattern, text, prime=101):\n",
    "    m = len(pattern)\n",
    "    n = len(text)\n",
    "    d = 256  \n",
    "    p = 0    \n",
    "    t = 0    \n",
    "    h = 1\n",
    "\n",
    "    for i in range(m - 1):\n",
    "        h = (h * d) % prime\n",
    "\n",
    "    for i in range(m):\n",
    "        p = (d * p + ord(pattern[i])) % prime\n",
    "        t = (d * t + ord(text[i])) % prime\n",
    "\n",
    "    for i in range(n - m + 1):\n",
    "        if p == t:\n",
    "            if text[i:i+m] == pattern:\n",
    "                print(f\"Pattern found at index {i}\")\n",
    "\n",
    "        if i < n - m:\n",
    "            t = (d * (t - ord(text[i]) * h) + ord(text[i + m])) % prime\n",
    "            if t < 0:\n",
    "                t = t + prime\n",
    "\n",
    "text = \"THIS IS A TEST TEXT\"\n",
    "pattern = \"TEST\"\n",
    "rabin_karp(pattern, text)\n"
   ]
  },
  {
   "cell_type": "markdown",
   "id": "a0103131",
   "metadata": {},
   "source": [
    "## Ex - 5: KMP Algorithm for Pattern Searching"
   ]
  },
  {
   "cell_type": "code",
   "execution_count": 18,
   "id": "ccad494f",
   "metadata": {},
   "outputs": [],
   "source": [
    "def compute_lps(pattern):\n",
    "    lps = [0] * len(pattern)\n",
    "    length = 0  \n",
    "\n",
    "    i = 1\n",
    "    while i < len(pattern):\n",
    "        if pattern[i] == pattern[length]:\n",
    "            length += 1\n",
    "            lps[i] = length\n",
    "            i += 1\n",
    "        else:\n",
    "            if length != 0:\n",
    "                length = lps[length - 1] \n",
    "            else:\n",
    "                lps[i] = 0\n",
    "                i += 1\n",
    "    return lps\n",
    "\n",
    "\n",
    "def kmp_search(text, pattern):\n",
    "    n = len(text)\n",
    "    m = len(pattern)\n",
    "    lps = compute_lps(pattern)\n",
    "\n",
    "    i = 0  \n",
    "    j = 0  \n",
    "\n",
    "    while i < n:\n",
    "        if pattern[j] == text[i]:\n",
    "            i += 1\n",
    "            j += 1\n",
    "\n",
    "        if j == m:\n",
    "            print(f\"Pattern found at index {i - j}\")\n",
    "            j = lps[j - 1] \n",
    "\n",
    "        elif i < n and pattern[j] != text[i]:\n",
    "            if j != 0:\n",
    "                j = lps[j - 1]\n",
    "            else:\n",
    "                i += 1"
   ]
  },
  {
   "cell_type": "code",
   "execution_count": 19,
   "id": "e1f7bad1",
   "metadata": {},
   "outputs": [
    {
     "name": "stdout",
     "output_type": "stream",
     "text": [
      "Pattern found at index 10\n"
     ]
    }
   ],
   "source": [
    "text = \"ABABDABACDABABCABAB\"\n",
    "pattern = \"ABABCABAB\"\n",
    "\n",
    "kmp_search(text, pattern)"
   ]
  },
  {
   "cell_type": "code",
   "execution_count": null,
   "id": "1865d8ac",
   "metadata": {},
   "outputs": [],
   "source": []
  }
 ],
 "metadata": {
  "kernelspec": {
   "display_name": "base",
   "language": "python",
   "name": "python3"
  },
  "language_info": {
   "codemirror_mode": {
    "name": "ipython",
    "version": 3
   },
   "file_extension": ".py",
   "mimetype": "text/x-python",
   "name": "python",
   "nbconvert_exporter": "python",
   "pygments_lexer": "ipython3",
   "version": "3.13.5"
  }
 },
 "nbformat": 4,
 "nbformat_minor": 5
}
