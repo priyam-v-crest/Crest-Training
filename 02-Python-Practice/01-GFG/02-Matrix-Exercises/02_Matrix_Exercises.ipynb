{
 "cells": [
  {
   "cell_type": "markdown",
   "id": "78fdbe25",
   "metadata": {},
   "source": [
    "## Ex - 1 : Python program to a Sort Matrix by index-value equality count\n",
    "Given a Matrix, the task is to write a Python program that can sort its rows or columns on a measure of the number of values equal to its index number. For each row or column, count occurrences of equality of index number with value. After computation of this count for each row or column, sort the matrix on basis of the count extracted for each row or column in step 1."
   ]
  },
  {
   "cell_type": "code",
   "execution_count": null,
   "id": "7a452f56",
   "metadata": {},
   "outputs": [
    {
     "name": "stdout",
     "output_type": "stream",
     "text": [
      "The original list is : [[3, 1, 2, 5, 4], [0, 1, 2, 3, 4], [6, 5, 4, 3, 2], [0, 5, 4, 2]]\n",
      "Sorted List : [[6, 5, 4, 3, 2], [0, 5, 4, 2], [3, 1, 2, 5, 4], [0, 1, 2, 3, 4]]\n"
     ]
    }
   ],
   "source": [
    "def get_idx_ele_count(row):\n",
    "    return len([ele for idx, ele in enumerate(row) if ele == idx])\n",
    "\n",
    "test_list = [[3, 1, 2, 5, 4], [0, 1, 2, 3, 4], [6, 5, 4, 3, 2], [0, 5, 4, 2]]\n",
    "\n",
    "print(\"The original list is : \" + str(test_list))\n",
    "\n",
    "test_list.sort(key=get_idx_ele_count)\n",
    "\n",
    "print(\"Sorted List : \" + str(test_list))"
   ]
  },
  {
   "cell_type": "markdown",
   "id": "042f0d90",
   "metadata": {},
   "source": [
    "## Ex - 2: Python Program to Reverse Every Kth row in a Matrix\n"
   ]
  },
  {
   "cell_type": "code",
   "execution_count": null,
   "id": "29491d71",
   "metadata": {},
   "outputs": [
    {
     "data": {
      "text/plain": [
       "[[5, 3, 2], [8, 6, 3], [3, 5, 2], [6, 3], [3, 7, 4], [2, 9]]"
      ]
     },
     "execution_count": 5,
     "metadata": {},
     "output_type": "execute_result"
    }
   ],
   "source": [
    "a = [[5, 3, 2], [8, 6, 3], [3, 5, 2], [3, 6], [3, 7, 4], [2, 9]] \n",
    "k = 4\n",
    "\n",
    "for i in range(len(a)):\n",
    "    if (i+1) % k == 0:\n",
    "        a[i].reverse()\n",
    "a"
   ]
  },
  {
   "cell_type": "markdown",
   "id": "ee5f85cb",
   "metadata": {},
   "source": [
    "## Ex - 3: Python Program to Convert String Matrix Representation to Matrix"
   ]
  },
  {
   "cell_type": "code",
   "execution_count": null,
   "id": "65cc75e2",
   "metadata": {},
   "outputs": [
    {
     "data": {
      "text/plain": [
       "[['gfg', 'is'], ['best', 'for'], ['all', 'geeks']]"
      ]
     },
     "execution_count": 14,
     "metadata": {},
     "output_type": "execute_result"
    }
   ],
   "source": [
    "s = \"[gfg,is],[best,for],[all,geeks]\"\n",
    "# [['gfg', 'is'], ['best', 'for'], ['all', 'geeks']]\n",
    "l = []\n",
    "for i in s[1:-1].split(\"],[\"):\n",
    "    l.append(i.split(','))\n",
    "l"
   ]
  },
  {
   "cell_type": "markdown",
   "id": "74e3692f",
   "metadata": {},
   "source": [
    "## Ex - 4: Count the frequency of matrix row length"
   ]
  },
  {
   "cell_type": "code",
   "execution_count": null,
   "id": "da18493e",
   "metadata": {},
   "outputs": [
    {
     "data": {
      "text/plain": [
       "{3: 2, 2: 2, 1: 1}"
      ]
     },
     "execution_count": 17,
     "metadata": {},
     "output_type": "execute_result"
    }
   ],
   "source": [
    "l = [[6, 3, 1], [8, 9], [2], [10, 12, 7], [4, 11]]\n",
    "d = dict()\n",
    "for i in l:\n",
    "    d.setdefault(len(i),0)\n",
    "    d[len(i)]+=1\n",
    "d"
   ]
  },
  {
   "cell_type": "markdown",
   "id": "e6622261",
   "metadata": {},
   "source": [
    "## Ex - 5: Convert Integer Matrix to String Matrix"
   ]
  },
  {
   "cell_type": "code",
   "execution_count": null,
   "id": "464080fb",
   "metadata": {},
   "outputs": [
    {
     "data": {
      "text/plain": [
       "[['4', '5', '7'], ['10', '8', '3'], ['19', '4', '6']]"
      ]
     },
     "execution_count": 21,
     "metadata": {},
     "output_type": "execute_result"
    }
   ],
   "source": [
    "l = [[4, 5, 7], [10, 8, 3], [19, 4, 6]]\n",
    "# [['4', '5', '7'], ['10', '8', '3'], ['19', '4', '6']]\n",
    "for i in range(len(l)):\n",
    "    for j in range(len(l[i])):\n",
    "        l[i][j] = str(l[i][j])\n",
    "l"
   ]
  },
  {
   "cell_type": "markdown",
   "id": "ca826d07",
   "metadata": {},
   "source": [
    "## Ex - 6: Python Program to Convert Tuple Matrix to Tuple List"
   ]
  },
  {
   "cell_type": "code",
   "execution_count": null,
   "id": "c4cd6950",
   "metadata": {},
   "outputs": [
    {
     "data": {
      "text/plain": [
       "[(4, 5, 7, 8), (10, 13, 18, 17)]"
      ]
     },
     "execution_count": 32,
     "metadata": {},
     "output_type": "execute_result"
    }
   ],
   "source": [
    "l = [[(4, 5), (7, 8)], [(10, 13), (18, 17)]] \n",
    "# Output : [(4, 7, 10, 18), (5, 8, 13, 17)]\n",
    "res = []\n",
    "for a,b in l:\n",
    "    res.append(a+b)\n",
    "res"
   ]
  },
  {
   "cell_type": "markdown",
   "id": "2e330cf8",
   "metadata": {},
   "source": [
    "## Ex - 7: Group Elements in Matrix"
   ]
  },
  {
   "cell_type": "code",
   "execution_count": 3,
   "id": "d55cce4c",
   "metadata": {},
   "outputs": [
    {
     "data": {
      "text/plain": [
       "{5: 2, 2: 3}"
      ]
     },
     "execution_count": 3,
     "metadata": {},
     "output_type": "execute_result"
    }
   ],
   "source": [
    "l = [[5, 8], [2, 0], [5, 4], [2, 3], [2, 9]] \n",
    "# Output : {5: [8, 4], 2: [0, 3, 9]} \n",
    "d = dict()\n",
    "for i in l:\n",
    "    d.setdefault(i[0],0)\n",
    "    d[i[0]]+=1\n",
    "d\n"
   ]
  },
  {
   "cell_type": "markdown",
   "id": "7e9d873e",
   "metadata": {},
   "source": [
    "## Ex - 8: Assigning Subsequent Rows to Matrix first row elements"
   ]
  },
  {
   "cell_type": "code",
   "execution_count": 8,
   "id": "5fe7f698",
   "metadata": {},
   "outputs": [
    {
     "data": {
      "text/plain": [
       "{5: [2, 0, 9], 8: [5, 4, 2], 10: [2, 3, 9]}"
      ]
     },
     "execution_count": 8,
     "metadata": {},
     "output_type": "execute_result"
    }
   ],
   "source": [
    "l = [[5, 8, 10], [2, 0, 9], [5, 4, 2], [2, 3, 9]] \n",
    "# Output : {5: [2, 0, 9], 8: [5, 4, 2], 10: [2, 3, 9]} \n",
    "d = dict()\n",
    "count = 1\n",
    "for i in l[0]:\n",
    "    d[i] = l[count]\n",
    "    count+=1\n",
    "d"
   ]
  },
  {
   "cell_type": "markdown",
   "id": "f80f5e5f",
   "metadata": {},
   "source": [
    "## Ex - 9: Adding and Subtracting Matrices in Python"
   ]
  },
  {
   "cell_type": "code",
   "execution_count": 13,
   "id": "f42f6c42",
   "metadata": {},
   "outputs": [
    {
     "name": "stdout",
     "output_type": "stream",
     "text": [
      "[[ 5  7]\n",
      " [ 9 11]]\n",
      "[[-3 -3]\n",
      " [-3 -3]]\n"
     ]
    }
   ],
   "source": [
    "import numpy as np\n",
    "\n",
    "A = np.array([[1, 2], [3, 4]])\n",
    "\n",
    "B = np.array([[4, 5], [6, 7]])\n",
    "\n",
    "print(np.add(A,B))\n",
    "print(np.subtract(A,B))"
   ]
  },
  {
   "cell_type": "markdown",
   "id": "f476ab6d",
   "metadata": {},
   "source": [
    "## Ex - 10: Convert Matrix to Dictionary"
   ]
  },
  {
   "cell_type": "code",
   "execution_count": 17,
   "id": "ab3a13c1",
   "metadata": {},
   "outputs": [
    {
     "data": {
      "text/plain": [
       "{1: [5, 6, 7], 2: [8, 3, 2], 3: [8, 2, 1]}"
      ]
     },
     "execution_count": 17,
     "metadata": {},
     "output_type": "execute_result"
    }
   ],
   "source": [
    "l = [[5, 6, 7], [8, 3, 2], [8, 2, 1]]\n",
    "\n",
    "{k+1:v for k,v in enumerate(l)}\n",
    "  "
   ]
  },
  {
   "cell_type": "markdown",
   "id": "80ff7c9e",
   "metadata": {},
   "source": [
    "## Ex - 11: Convert Matrix to Custom Tuple Matrix"
   ]
  },
  {
   "cell_type": "code",
   "execution_count": 23,
   "id": "a5cb9c04",
   "metadata": {},
   "outputs": [
    {
     "data": {
      "text/plain": [
       "[('Gfg', 4),\n",
       " ('Gfg', 5),\n",
       " ('Gfg', 6),\n",
       " ('is', 6),\n",
       " ('is', 7),\n",
       " ('is', 3),\n",
       " ('best', 1),\n",
       " ('best', 3),\n",
       " ('best', 4)]"
      ]
     },
     "execution_count": 23,
     "metadata": {},
     "output_type": "execute_result"
    }
   ],
   "source": [
    "l = [[4, 5, 6], [6, 7, 3], [1, 3, 4]]\n",
    "add_list = ['Gfg','is', 'best']\n",
    "# Output : [('Gfg', 4), ('Gfg', 5), ('best', 7), ('best', 3)] \n",
    "res = []\n",
    "for i in range(len(add_list)):\n",
    "    for j in range(len(add_list)):\n",
    "        res.append((add_list[i],l[i][j]))\n",
    "res"
   ]
  },
  {
   "cell_type": "markdown",
   "id": "fd924624",
   "metadata": {},
   "source": [
    "## Ex - 12: Matrix Row subset"
   ]
  },
  {
   "cell_type": "code",
   "execution_count": null,
   "id": "2df3a148",
   "metadata": {},
   "outputs": [
    {
     "data": {
      "text/plain": [
       "[[2, 3]]"
      ]
     },
     "execution_count": 39,
     "metadata": {},
     "output_type": "execute_result"
    }
   ],
   "source": [
    "l = [[4, 5, 7], [2, 3, 4], [9, 8, 6]]\n",
    "check = [[2, 3], [1, 2], [9, 0]]\n",
    "res = []\n",
    "# Output : [[2, 3]]\n",
    "for i in check:\n",
    "    for j in l:\n",
    "        if set(i).issubset(set(j)):\n",
    "            res.append(i)\n",
    "res"
   ]
  },
  {
   "cell_type": "markdown",
   "id": "10dc7765",
   "metadata": {},
   "source": [
    "## Ex - 13: Group similar elements into Matrix"
   ]
  },
  {
   "cell_type": "code",
   "execution_count": null,
   "id": "e9a22999",
   "metadata": {},
   "outputs": [
    {
     "name": "stdout",
     "output_type": "stream",
     "text": [
      "1 [1]\n",
      "2 [2]\n",
      "3 [3, 3]\n",
      "4 [4, 4, 4]\n"
     ]
    },
    {
     "data": {
      "text/plain": [
       "[[], [], [], []]"
      ]
     },
     "execution_count": 64,
     "metadata": {},
     "output_type": "execute_result"
    }
   ],
   "source": [
    "from itertools import groupby\n",
    "\n",
    "l = [1, 3, 4, 4, 2, 3, 4]\n",
    "# Output : [[1], [2], [3, 3], [4, 4]\n",
    "\n",
    "res = []\n",
    "\n",
    "for x,y in groupby(sorted(l)):\n",
    "    res.append(list(y))\n",
    "res"
   ]
  },
  {
   "cell_type": "markdown",
   "id": "2163cd70",
   "metadata": {},
   "source": [
    "## Ex - 14: Row-wise element Addition in Tuple Matrix"
   ]
  },
  {
   "cell_type": "code",
   "execution_count": 110,
   "id": "50fab2fe",
   "metadata": {},
   "outputs": [
    {
     "data": {
      "text/plain": [
       "[('Gfg', 3, 1), ('best', 1, 2)]"
      ]
     },
     "execution_count": 110,
     "metadata": {},
     "output_type": "execute_result"
    }
   ],
   "source": [
    "l = [[('Gfg', 3)], [('best', 1)]] \n",
    "add = [1, 2]\n",
    "res = []\n",
    "# Output : [[('Gfg', 3, 1)], [('best', 1, 2)]]\n",
    "for i in range(len(l)):\n",
    "    res.append(list(l[i][0]))\n",
    "    res[i].append(add[i])\n",
    "    res[i] = tuple(res[i])\n",
    "# res[0].append(1)\n",
    "res"
   ]
  },
  {
   "cell_type": "markdown",
   "id": "190b1b81",
   "metadata": {},
   "source": [
    "## Ex - 15: Create an n x n square matrix, where all the sub-matrix have the sum of opposite corner elements as even"
   ]
  },
  {
   "cell_type": "code",
   "execution_count": null,
   "id": "9d7d6b1b",
   "metadata": {},
   "outputs": [
    {
     "name": "stdout",
     "output_type": "stream",
     "text": [
      "[1, 2, 3, 4]\n",
      "[5, 6, 7, 8]\n",
      "[9, 10, 11, 12]\n",
      "[13, 14, 15, 16]\n"
     ]
    }
   ],
   "source": [
    "from itertools import count\n",
    "n = 4\n",
    "temp = count(1)\n",
    "l = [[next(temp)for i in range(n)]for i in range(n)]\n",
    "for i in l:\n",
    "    print(i)"
   ]
  },
  {
   "cell_type": "code",
   "execution_count": null,
   "id": "8e5e3bd9",
   "metadata": {},
   "outputs": [],
   "source": []
  }
 ],
 "metadata": {
  "kernelspec": {
   "display_name": "base",
   "language": "python",
   "name": "python3"
  },
  "language_info": {
   "codemirror_mode": {
    "name": "ipython",
    "version": 3
   },
   "file_extension": ".py",
   "mimetype": "text/x-python",
   "name": "python",
   "nbconvert_exporter": "python",
   "pygments_lexer": "ipython3",
   "version": "3.13.5"
  }
 },
 "nbformat": 4,
 "nbformat_minor": 5
}
