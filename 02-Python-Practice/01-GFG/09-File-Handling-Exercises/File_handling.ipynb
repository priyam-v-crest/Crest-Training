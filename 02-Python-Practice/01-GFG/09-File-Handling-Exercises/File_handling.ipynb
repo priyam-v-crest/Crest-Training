{
 "cells": [
  {
   "cell_type": "markdown",
   "id": "58dccd39",
   "metadata": {},
   "source": [
    "# Ex - 1: Read content from one file and write it into another file"
   ]
  },
  {
   "cell_type": "markdown",
   "id": "9b0fac4b",
   "metadata": {},
   "source": [
    "## Method - 1: Using Loop"
   ]
  },
  {
   "cell_type": "code",
   "execution_count": 2,
   "id": "f7fa1a74",
   "metadata": {},
   "outputs": [],
   "source": [
    "with open(\"input.txt\", \"r\") as input:\n",
    "    with open(\"output.txt\", \"w\") as output:\n",
    "        for line in input:\n",
    "            output.write(line)"
   ]
  },
  {
   "cell_type": "markdown",
   "id": "fb4d66c5",
   "metadata": {},
   "source": [
    "## Method - 2: Using file method"
   ]
  },
  {
   "cell_type": "code",
   "execution_count": 3,
   "id": "99b51d83",
   "metadata": {},
   "outputs": [],
   "source": [
    "output_file = open(\"output_2.txt\", \"w\")\n",
    "with open(\"input.txt\", \"r\") as scan:\n",
    "    output_file.write(scan.read())\n",
    "\n",
    "output_file.close()"
   ]
  },
  {
   "cell_type": "markdown",
   "id": "20541a53",
   "metadata": {},
   "source": [
    "# Ex - 2: Write a dictionary to a file in Python"
   ]
  },
  {
   "cell_type": "code",
   "execution_count": 5,
   "id": "be135a57",
   "metadata": {},
   "outputs": [],
   "source": [
    "import json\n",
    "\n",
    "d = {'Name': \"Priyam\",'Age': 21 }"
   ]
  },
  {
   "cell_type": "code",
   "execution_count": 6,
   "id": "72a88f15",
   "metadata": {},
   "outputs": [],
   "source": [
    "with open('data.json', 'w') as f:\n",
    "    json.dump(d, f)"
   ]
  },
  {
   "cell_type": "code",
   "execution_count": 7,
   "id": "a475359e",
   "metadata": {},
   "outputs": [],
   "source": [
    "with open('data.json', 'w') as file:\n",
    "    file.write(json.dumps(d, indent=4))"
   ]
  },
  {
   "cell_type": "code",
   "execution_count": 8,
   "id": "1c168e19",
   "metadata": {},
   "outputs": [],
   "source": [
    "import pickle\n",
    "with open('data.pkl', 'wb') as file:\n",
    "    pickle.dump(d, file)\n",
    "\n",
    "with open('data.pkl', 'rb') as file:\n",
    "    res = pickle.load(file)"
   ]
  },
  {
   "cell_type": "code",
   "execution_count": 9,
   "id": "b5a11481",
   "metadata": {},
   "outputs": [
    {
     "name": "stdout",
     "output_type": "stream",
     "text": [
      "{'Name': 'Priyam', 'Age': 21}\n"
     ]
    }
   ],
   "source": [
    "print(res)"
   ]
  },
  {
   "cell_type": "code",
   "execution_count": 10,
   "id": "ca16b8d1",
   "metadata": {},
   "outputs": [],
   "source": [
    "with open('data.txt', 'w') as file:\n",
    "    file.write(str(d))"
   ]
  },
  {
   "cell_type": "markdown",
   "id": "03f0cba0",
   "metadata": {},
   "source": [
    "# Ex - 3: Check file size in Python"
   ]
  },
  {
   "cell_type": "code",
   "execution_count": 11,
   "id": "4834d04a",
   "metadata": {},
   "outputs": [
    {
     "data": {
      "text/plain": [
       "29"
      ]
     },
     "execution_count": 11,
     "metadata": {},
     "output_type": "execute_result"
    }
   ],
   "source": [
    "from pathlib import Path\n",
    "\n",
    "Path('data.txt').stat().st_size"
   ]
  },
  {
   "cell_type": "code",
   "execution_count": 13,
   "id": "2a34e6ca",
   "metadata": {},
   "outputs": [
    {
     "data": {
      "text/plain": [
       "42"
      ]
     },
     "execution_count": 13,
     "metadata": {},
     "output_type": "execute_result"
    }
   ],
   "source": [
    "import os\n",
    "\n",
    "os.path.getsize(\"data.json\")"
   ]
  },
  {
   "cell_type": "markdown",
   "id": "a6a6e802",
   "metadata": {},
   "source": [
    "# Ex - 4: Find the most repeated word in a text file"
   ]
  },
  {
   "cell_type": "code",
   "execution_count": 14,
   "id": "3152dd69",
   "metadata": {},
   "outputs": [
    {
     "name": "stdout",
     "output_type": "stream",
     "text": [
      "Most repeated word: line\n",
      "Frequency: 2\n"
     ]
    }
   ],
   "source": [
    "file = open(\"input.txt\",\"r\")\n",
    "frequent_word = \"\"\n",
    "frequency = 0  \n",
    "words = []\n",
    "\n",
    "for line in file:\n",
    "    line_word = line.lower().replace(',','').replace('.','').split(\" \");  \n",
    "    for w in line_word:  \n",
    "        words.append(w);  \n",
    "        \n",
    "for i in range(len(words)):  \n",
    "    count = 1;  \n",
    "    for j in range(i+1, len(words)):  \n",
    "        if(words[i] == words[j]):  \n",
    "            count = count + 1;  \n",
    "\n",
    "    if(count > frequency):  \n",
    "        frequency = count;  \n",
    "        frequent_word = words[i];  \n",
    "\n",
    "print(\"Most repeated word: \" + frequent_word)\n",
    "print(\"Frequency: \" + str(frequency))\n",
    "file.close()"
   ]
  },
  {
   "cell_type": "markdown",
   "id": "9fd94aea",
   "metadata": {},
   "source": [
    "# Ex - 5: Read specific lines from a File in Python"
   ]
  },
  {
   "cell_type": "code",
   "execution_count": 16,
   "id": "180e07c9",
   "metadata": {},
   "outputs": [
    {
     "name": "stdout",
     "output_type": "stream",
     "text": [
      "Third line: Line - 3 \n",
      "first three lines\n",
      "['This is a text file for practice.\\n', 'Line - 2 \\n', 'Line - 3 ']\n"
     ]
    }
   ],
   "source": [
    "file = open('input.txt')\n",
    "\n",
    "content = file.readlines()\n",
    "\n",
    "print(\"Third line: \" + content[2])\n",
    "\n",
    "print(\"first three lines\")\n",
    "print(content[0:3])"
   ]
  },
  {
   "cell_type": "code",
   "execution_count": null,
   "id": "12b11dd7",
   "metadata": {},
   "outputs": [],
   "source": []
  }
 ],
 "metadata": {
  "kernelspec": {
   "display_name": "base",
   "language": "python",
   "name": "python3"
  },
  "language_info": {
   "codemirror_mode": {
    "name": "ipython",
    "version": 3
   },
   "file_extension": ".py",
   "mimetype": "text/x-python",
   "name": "python",
   "nbconvert_exporter": "python",
   "pygments_lexer": "ipython3",
   "version": "3.13.5"
  }
 },
 "nbformat": 4,
 "nbformat_minor": 5
}
