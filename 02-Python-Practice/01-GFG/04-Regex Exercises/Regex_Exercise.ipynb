{
 "cells": [
  {
   "cell_type": "markdown",
   "id": "b0c67f1e",
   "metadata": {},
   "source": [
    "## Ex - 1: find all the numbers in a given string and print them"
   ]
  },
  {
   "cell_type": "code",
   "execution_count": 1,
   "id": "621ed982",
   "metadata": {},
   "outputs": [],
   "source": [
    "import re"
   ]
  },
  {
   "cell_type": "code",
   "execution_count": 2,
   "id": "971c78f8",
   "metadata": {},
   "outputs": [],
   "source": [
    "s = \"asdasd123asmdasdk34234kfdsd34sdfk5\""
   ]
  },
  {
   "cell_type": "code",
   "execution_count": 3,
   "id": "e28ee434",
   "metadata": {},
   "outputs": [
    {
     "name": "stdout",
     "output_type": "stream",
     "text": [
      "123 34234 34 5\n"
     ]
    }
   ],
   "source": [
    "pattern = re.findall(r'\\d+', s)\n",
    "\n",
    "print(' '.join(pattern))"
   ]
  },
  {
   "cell_type": "markdown",
   "id": "797efeec",
   "metadata": {},
   "source": [
    "## Ex - 2: Use Regex to validate a password"
   ]
  },
  {
   "cell_type": "code",
   "execution_count": 4,
   "id": "998a718d",
   "metadata": {},
   "outputs": [
    {
     "name": "stdout",
     "output_type": "stream",
     "text": [
      "True\n"
     ]
    }
   ],
   "source": [
    "s = \"asdsab@!@234\"\n",
    "\n",
    "pattern = r'^[a-z]+[!@#$%]+\\d+$'\n",
    "print(bool(re.match(pattern, s)))"
   ]
  },
  {
   "cell_type": "markdown",
   "id": "0df7887b",
   "metadata": {},
   "source": [
    "## Ex - 3: Find the type of IP Address using Regex"
   ]
  },
  {
   "cell_type": "code",
   "execution_count": 8,
   "id": "aed663eb",
   "metadata": {},
   "outputs": [
    {
     "name": "stdout",
     "output_type": "stream",
     "text": [
      "IPv6\n"
     ]
    }
   ],
   "source": [
    "# ip = '192.0.2.126'\n",
    "ip = '3001:0da8:75a3:0000:0000:8a2e:0370:7334'\n",
    "# ip = '36.12.08.20.52'\n",
    "\n",
    "ipv4_pattern = r'^((25[0-5]|2[0-4]\\d|1\\d\\d|[1-9]?\\d)\\.){3}(25[0-5]|2[0-4]\\d|1\\d\\d|[1-9]?\\d)$'\n",
    "ipv6_pattern = r'^([0-9a-fA-F]{1,4}:){7}[0-9a-fA-F]{1,4}$'\n",
    "\n",
    "if re.match(ipv4_pattern, ip):\n",
    "    print(\"IPv4\")\n",
    "elif re.match(ipv6_pattern, ip):\n",
    "    print(\"IPv6\")\n",
    "else:\n",
    "    print(\"Invalid\")"
   ]
  },
  {
   "cell_type": "code",
   "execution_count": null,
   "id": "30837a4f",
   "metadata": {},
   "outputs": [],
   "source": []
  }
 ],
 "metadata": {
  "kernelspec": {
   "display_name": "base",
   "language": "python",
   "name": "python3"
  },
  "language_info": {
   "codemirror_mode": {
    "name": "ipython",
    "version": 3
   },
   "file_extension": ".py",
   "mimetype": "text/x-python",
   "name": "python",
   "nbconvert_exporter": "python",
   "pygments_lexer": "ipython3",
   "version": "3.13.5"
  }
 },
 "nbformat": 4,
 "nbformat_minor": 5
}
