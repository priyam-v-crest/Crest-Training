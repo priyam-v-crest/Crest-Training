{
 "cells": [
  {
   "cell_type": "markdown",
   "id": "2858aecd",
   "metadata": {},
   "source": [
    "## Count the frequency of the elements of a given unordered list"
   ]
  },
  {
   "cell_type": "code",
   "execution_count": 1,
   "id": "a0a02c8f",
   "metadata": {},
   "outputs": [
    {
     "data": {
      "text/plain": [
       "[2, 2, 5, 3, 4, 1, 3]"
      ]
     },
     "execution_count": 1,
     "metadata": {},
     "output_type": "execute_result"
    }
   ],
   "source": [
    "from itertools import groupby\n",
    "\n",
    "def count_freq(l):\n",
    "    l.sort()\n",
    "    return [len(list(group)) for key, group in groupby(l)]\n",
    "\n",
    "unordered_list = [2,1,3,8,5,1,4,2,3,4,0,8,2,0,8,4,2,3,4,2]\n",
    "count_freq(unordered_list)"
   ]
  },
  {
   "cell_type": "code",
   "execution_count": null,
   "id": "88a89df5",
   "metadata": {},
   "outputs": [],
   "source": []
  }
 ],
 "metadata": {
  "kernelspec": {
   "display_name": "base",
   "language": "python",
   "name": "python3"
  },
  "language_info": {
   "codemirror_mode": {
    "name": "ipython",
    "version": 3
   },
   "file_extension": ".py",
   "mimetype": "text/x-python",
   "name": "python",
   "nbconvert_exporter": "python",
   "pygments_lexer": "ipython3",
   "version": "3.13.5"
  }
 },
 "nbformat": 4,
 "nbformat_minor": 5
}
