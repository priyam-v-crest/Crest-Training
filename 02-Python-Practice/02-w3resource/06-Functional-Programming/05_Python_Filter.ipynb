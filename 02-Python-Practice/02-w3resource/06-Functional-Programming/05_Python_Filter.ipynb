{
 "cells": [
  {
   "cell_type": "markdown",
   "id": "edfeeec0",
   "metadata": {},
   "source": [
    "## Filter prime numbers"
   ]
  },
  {
   "cell_type": "code",
   "execution_count": 1,
   "id": "03b64f32",
   "metadata": {},
   "outputs": [
    {
     "data": {
      "text/plain": [
       "[2, 3, 4, 5, 7, 11, 13, 17]"
      ]
     },
     "execution_count": 1,
     "metadata": {},
     "output_type": "execute_result"
    }
   ],
   "source": [
    "def is_prime(n):\n",
    "    if n == 1:\n",
    "        return False\n",
    "    for i in range(2,n//2):\n",
    "        if n%i == 0:\n",
    "            return False\n",
    "    return True\n",
    "\n",
    "l = [1, 2, 3, 4, 5, 6, 7, 8, 9, 10, 11, 12, 13, 14, 15, 16, 17]\n",
    "\n",
    "list(filter(is_prime,l))"
   ]
  },
  {
   "cell_type": "code",
   "execution_count": null,
   "id": "e8d97053",
   "metadata": {},
   "outputs": [],
   "source": []
  }
 ],
 "metadata": {
  "kernelspec": {
   "display_name": "base",
   "language": "python",
   "name": "python3"
  },
  "language_info": {
   "codemirror_mode": {
    "name": "ipython",
    "version": 3
   },
   "file_extension": ".py",
   "mimetype": "text/x-python",
   "name": "python",
   "nbconvert_exporter": "python",
   "pygments_lexer": "ipython3",
   "version": "3.13.5"
  }
 },
 "nbformat": 4,
 "nbformat_minor": 5
}
