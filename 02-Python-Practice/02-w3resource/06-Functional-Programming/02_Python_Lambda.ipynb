{
 "cells": [
  {
   "cell_type": "markdown",
   "id": "5fa32418",
   "metadata": {},
   "source": [
    "## Anagram Finder Lambda"
   ]
  },
  {
   "cell_type": "code",
   "execution_count": 5,
   "id": "6dd217ae",
   "metadata": {},
   "outputs": [
    {
     "name": "stdout",
     "output_type": "stream",
     "text": [
      "['abc', 'bac', 'cab']\n"
     ]
    }
   ],
   "source": [
    "from collections import Counter\n",
    "\n",
    "l = ['abc','bac','lil','bro','cab']\n",
    "s = 'abc'\n",
    "\n",
    "print(list(filter(lambda x : Counter(s) == Counter(x),l)))"
   ]
  },
  {
   "cell_type": "code",
   "execution_count": null,
   "id": "f21e002b",
   "metadata": {},
   "outputs": [],
   "source": []
  }
 ],
 "metadata": {
  "kernelspec": {
   "display_name": "base",
   "language": "python",
   "name": "python3"
  },
  "language_info": {
   "codemirror_mode": {
    "name": "ipython",
    "version": 3
   },
   "file_extension": ".py",
   "mimetype": "text/x-python",
   "name": "python",
   "nbconvert_exporter": "python",
   "pygments_lexer": "ipython3",
   "version": "3.13.5"
  }
 },
 "nbformat": 4,
 "nbformat_minor": 5
}
