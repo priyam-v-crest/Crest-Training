{
 "cells": [
  {
   "cell_type": "markdown",
   "id": "b9af90d3",
   "metadata": {},
   "source": [
    "## Check if a Number is Perfect"
   ]
  },
  {
   "cell_type": "code",
   "execution_count": 9,
   "id": "73a85f4b",
   "metadata": {},
   "outputs": [
    {
     "name": "stdout",
     "output_type": "stream",
     "text": [
      "True\n"
     ]
    }
   ],
   "source": [
    "def is_perfect(n):\n",
    "    divisors = []\n",
    "    for i in range(1,n//2+1):\n",
    "        if n%i == 0:\n",
    "            divisors.append(i)\n",
    "    return sum(divisors) == n\n",
    "\n",
    "n = 8128\n",
    "print(is_perfect(n))"
   ]
  },
  {
   "cell_type": "code",
   "execution_count": null,
   "id": "ef238633",
   "metadata": {},
   "outputs": [],
   "source": []
  }
 ],
 "metadata": {
  "kernelspec": {
   "display_name": "base",
   "language": "python",
   "name": "python3"
  },
  "language_info": {
   "codemirror_mode": {
    "name": "ipython",
    "version": 3
   },
   "file_extension": ".py",
   "mimetype": "text/x-python",
   "name": "python",
   "nbconvert_exporter": "python",
   "pygments_lexer": "ipython3",
   "version": "3.13.5"
  }
 },
 "nbformat": 4,
 "nbformat_minor": 5
}
