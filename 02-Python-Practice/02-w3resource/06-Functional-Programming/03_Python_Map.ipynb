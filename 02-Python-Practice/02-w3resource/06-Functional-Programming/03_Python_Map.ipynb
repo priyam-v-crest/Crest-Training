{
 "cells": [
  {
   "cell_type": "markdown",
   "id": "35a12e34",
   "metadata": {},
   "source": [
    "## Strings to Lists Map"
   ]
  },
  {
   "cell_type": "code",
   "execution_count": 4,
   "id": "b8de6e53",
   "metadata": {},
   "outputs": [
    {
     "name": "stdout",
     "output_type": "stream",
     "text": [
      "[['R', 'e', 'd'], ['G', 'r', 'e', 'e', 'n'], ['B', 'l', 'a', 'c', 'k'], ['O', 'r', 'a', 'n', 'g', 'e']]\n"
     ]
    }
   ],
   "source": [
    "def str_to_list(s):\n",
    "    return list(map(list,s))\n",
    "\n",
    "l = ['Red', 'Green', 'Black', 'Orange']\n",
    "print(str_to_list(l))"
   ]
  },
  {
   "cell_type": "code",
   "execution_count": null,
   "id": "c04d07e9",
   "metadata": {},
   "outputs": [],
   "source": []
  }
 ],
 "metadata": {
  "kernelspec": {
   "display_name": "base",
   "language": "python",
   "name": "python3"
  },
  "language_info": {
   "codemirror_mode": {
    "name": "ipython",
    "version": 3
   },
   "file_extension": ".py",
   "mimetype": "text/x-python",
   "name": "python",
   "nbconvert_exporter": "python",
   "pygments_lexer": "ipython3",
   "version": "3.13.5"
  }
 },
 "nbformat": 4,
 "nbformat_minor": 5
}
