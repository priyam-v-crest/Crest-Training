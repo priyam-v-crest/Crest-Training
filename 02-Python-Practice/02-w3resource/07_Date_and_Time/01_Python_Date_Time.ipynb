{
 "cells": [
  {
   "cell_type": "markdown",
   "id": "4ede426f",
   "metadata": {},
   "source": [
    "## Get a list of dates between two dates"
   ]
  },
  {
   "cell_type": "code",
   "execution_count": null,
   "id": "6e77acad",
   "metadata": {},
   "outputs": [
    {
     "name": "stdout",
     "output_type": "stream",
     "text": [
      "2024-12-25\n",
      "2024-12-26\n",
      "2024-12-27\n",
      "2024-12-28\n",
      "2024-12-29\n",
      "2024-12-30\n",
      "2024-12-31\n",
      "2025-01-01\n",
      "2025-01-02\n",
      "2025-01-03\n",
      "2025-01-04\n",
      "2025-01-05\n"
     ]
    }
   ],
   "source": [
    "from datetime import timedelta, date\n",
    "\n",
    "def daterange(date1, date2):\n",
    "    for n in range(int((date2 - date1).days) + 1):\n",
    "        yield date1 + timedelta(n)\n",
    "\n",
    "start = date(2024, 12, 25)\n",
    "end = date(2025, 1, 5)\n",
    "\n",
    "for dt in daterange(start, end):\n",
    "    print(dt.strftime(\"%Y-%m-%d\"))"
   ]
  },
  {
   "cell_type": "code",
   "execution_count": 2,
   "id": "dd61d947",
   "metadata": {},
   "outputs": [
    {
     "name": "stdout",
     "output_type": "stream",
     "text": [
      "[datetime.date(2025, 7, 1), datetime.date(2025, 7, 2), datetime.date(2025, 7, 3), datetime.date(2025, 7, 4), datetime.date(2025, 7, 5), datetime.date(2025, 7, 6), datetime.date(2025, 7, 7), datetime.date(2025, 7, 8), datetime.date(2025, 7, 9), datetime.date(2025, 7, 10)]\n"
     ]
    }
   ],
   "source": [
    "from datetime import datetime, timedelta\n",
    "\n",
    "start_date = datetime.strptime(\"2025-07-01\", \"%Y-%m-%d\")\n",
    "end_date = datetime.strptime(\"2025-07-10\", \"%Y-%m-%d\")\n",
    "\n",
    "date_list = [(start_date + timedelta(days=i)).date() for i in range((end_date - start_date).days + 1)]\n",
    "\n",
    "print(date_list)"
   ]
  },
  {
   "cell_type": "code",
   "execution_count": null,
   "id": "1fec79b1",
   "metadata": {},
   "outputs": [],
   "source": []
  }
 ],
 "metadata": {
  "kernelspec": {
   "display_name": "base",
   "language": "python",
   "name": "python3"
  },
  "language_info": {
   "codemirror_mode": {
    "name": "ipython",
    "version": 3
   },
   "file_extension": ".py",
   "mimetype": "text/x-python",
   "name": "python",
   "nbconvert_exporter": "python",
   "pygments_lexer": "ipython3",
   "version": "3.13.5"
  }
 },
 "nbformat": 4,
 "nbformat_minor": 5
}
