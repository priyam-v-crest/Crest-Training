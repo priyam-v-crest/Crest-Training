{
 "cells": [
  {
   "cell_type": "markdown",
   "id": "d165226a",
   "metadata": {},
   "source": [
    "## Setting timeouts for asynchronous operations"
   ]
  },
  {
   "cell_type": "code",
   "execution_count": null,
   "id": "30546f34",
   "metadata": {},
   "outputs": [
    {
     "name": "stdout",
     "output_type": "stream",
     "text": [
      "Starting long operation for 8 seconds...\n",
      "Timeout occurred after waiting for 3 seconds\n"
     ]
    }
   ],
   "source": [
    "import asyncio\n",
    "\n",
    "async def time_consuming_task(duration):\n",
    "    print(f'Starting long operation for {duration} seconds...')\n",
    "    await asyncio.sleep(duration)\n",
    "    return f'Long operation completed in {duration} seconds'\n",
    "\n",
    "async def main():\n",
    "    timeout = 3\n",
    "    try:\n",
    "        result = await asyncio.wait_for(time_consuming_task(8), timeout)\n",
    "        print(result)\n",
    "    except asyncio.TimeoutError:\n",
    "        print(f'Timeout occurred after waiting for {timeout} seconds')\n",
    "\n",
    "await main()"
   ]
  },
  {
   "cell_type": "code",
   "execution_count": null,
   "id": "ac63375d",
   "metadata": {},
   "outputs": [
    {
     "name": "stdout",
     "output_type": "stream",
     "text": [
      "Starting long operation for 8 seconds...\n",
      "Timeout occurred after waiting for 3 seconds\n"
     ]
    }
   ],
   "source": [
    "import nest_asyncio\n",
    "nest_asyncio.apply()\n",
    "\n",
    "import asyncio\n",
    "\n",
    "async def time_consuming_task(duration):\n",
    "    print(f'Starting long operation for {duration} seconds...')\n",
    "    await asyncio.sleep(duration)\n",
    "    return f'Long operation completed in {duration} seconds'\n",
    "\n",
    "async def main():\n",
    "    timeout = 3\n",
    "    try:\n",
    "        result = await asyncio.wait_for(time_consuming_task(8), timeout)\n",
    "        print(result)\n",
    "    except asyncio.TimeoutError:\n",
    "        print(f'Timeout occurred after waiting for {timeout} seconds')\n",
    "\n",
    "asyncio.run(main())\n"
   ]
  },
  {
   "cell_type": "code",
   "execution_count": null,
   "id": "b5791287",
   "metadata": {},
   "outputs": [],
   "source": []
  }
 ],
 "metadata": {
  "kernelspec": {
   "display_name": "base",
   "language": "python",
   "name": "python3"
  },
  "language_info": {
   "codemirror_mode": {
    "name": "ipython",
    "version": 3
   },
   "file_extension": ".py",
   "mimetype": "text/x-python",
   "name": "python",
   "nbconvert_exporter": "python",
   "pygments_lexer": "ipython3",
   "version": "3.13.5"
  }
 },
 "nbformat": 4,
 "nbformat_minor": 5
}
