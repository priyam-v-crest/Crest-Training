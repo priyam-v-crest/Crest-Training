{
 "cells": [
  {
   "cell_type": "markdown",
   "id": "ccb1600c",
   "metadata": {},
   "source": [
    "##  Multi-threaded factorial calculation"
   ]
  },
  {
   "cell_type": "code",
   "execution_count": 2,
   "id": "fc13b834",
   "metadata": {},
   "outputs": [
    {
     "name": "stdout",
     "output_type": "stream",
     "text": [
      "\n",
      "Calculating factorial of 12 in thread Thread-5 (calculate_factorial)\n",
      "Factorial of 12 is 479001600 in thread Thread-5 (calculate_factorial)\n",
      "\n",
      "Calculating factorial of 12 in thread Thread-6 (calculate_factorial)\n",
      "Factorial of 12 is 479001600 in thread Thread-6 (calculate_factorial)\n"
     ]
    }
   ],
   "source": [
    "import threading\n",
    "\n",
    "def factorial_of_a_anumber(n):\n",
    "    result = 1\n",
    "    for i in range(1, n+1):\n",
    "        result *= i\n",
    "    return result\n",
    "\n",
    "def calculate_factorial(n):\n",
    "    print(f\"\\nCalculating factorial of {n} in thread {threading.current_thread().name}\")\n",
    "    result = factorial_of_a_anumber(n)\n",
    "    print(f\"Factorial of {n} is {result} in thread {threading.current_thread().name}\")\n",
    "\n",
    "n = 12\n",
    "\n",
    "thread1 = threading.Thread(target=calculate_factorial, args=(n,))\n",
    "thread2 = threading.Thread(target=calculate_factorial, args=(n,))\n",
    "\n",
    "thread1.start()\n",
    "thread2.start()\n",
    "\n",
    "thread1.join()\n",
    "thread2.join()"
   ]
  },
  {
   "cell_type": "code",
   "execution_count": null,
   "id": "3722b246",
   "metadata": {},
   "outputs": [],
   "source": []
  }
 ],
 "metadata": {
  "kernelspec": {
   "display_name": "base",
   "language": "python",
   "name": "python3"
  },
  "language_info": {
   "codemirror_mode": {
    "name": "ipython",
    "version": 3
   },
   "file_extension": ".py",
   "mimetype": "text/x-python",
   "name": "python",
   "nbconvert_exporter": "python",
   "pygments_lexer": "ipython3",
   "version": "3.13.5"
  }
 },
 "nbformat": 4,
 "nbformat_minor": 5
}
