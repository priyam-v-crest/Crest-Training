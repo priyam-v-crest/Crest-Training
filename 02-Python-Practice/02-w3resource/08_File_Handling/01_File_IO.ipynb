{
 "cells": [
  {
   "cell_type": "markdown",
   "id": "4f6599b1",
   "metadata": {},
   "source": [
    "## List English alphabet in a file by specified number of letters on each line"
   ]
  },
  {
   "cell_type": "code",
   "execution_count": 12,
   "id": "6566524c",
   "metadata": {},
   "outputs": [],
   "source": [
    "import string \n",
    "\n",
    "def alpha_by_letters(n):\n",
    "    alphabets = string.ascii_uppercase\n",
    "    with open(\"alpabets.txt\", \"w\") as f:\n",
    "        for i in range(0,26,n):\n",
    "            f.write(alphabets[i:i+n]+\"\\n\")\n",
    "n=5\n",
    "alpha_by_letters(n)"
   ]
  },
  {
   "cell_type": "code",
   "execution_count": null,
   "id": "97678dd0",
   "metadata": {},
   "outputs": [],
   "source": []
  }
 ],
 "metadata": {
  "kernelspec": {
   "display_name": "base",
   "language": "python",
   "name": "python3"
  },
  "language_info": {
   "codemirror_mode": {
    "name": "ipython",
    "version": 3
   },
   "file_extension": ".py",
   "mimetype": "text/x-python",
   "name": "python",
   "nbconvert_exporter": "python",
   "pygments_lexer": "ipython3",
   "version": "3.13.5"
  }
 },
 "nbformat": 4,
 "nbformat_minor": 5
}
