{
 "cells": [
  {
   "cell_type": "markdown",
   "id": "d7353f65",
   "metadata": {},
   "source": [
    "##  Increment Memory View Elements"
   ]
  },
  {
   "cell_type": "code",
   "execution_count": 17,
   "id": "7a74ecdb",
   "metadata": {},
   "outputs": [
    {
     "ename": "NameError",
     "evalue": "name 'memoryview' is not defined",
     "output_type": "error",
     "traceback": [
      "\u001b[1;31m---------------------------------------------------------------------------\u001b[0m",
      "\u001b[1;31mNameError\u001b[0m                                 Traceback (most recent call last)",
      "Cell \u001b[1;32mIn[17], line 1\u001b[0m\n\u001b[1;32m----> 1\u001b[0m \u001b[38;5;28;01mdel\u001b[39;00m \u001b[38;5;28mmemoryview\u001b[39m\n",
      "\u001b[1;31mNameError\u001b[0m: name 'memoryview' is not defined"
     ]
    }
   ],
   "source": [
    "del memoryview"
   ]
  },
  {
   "cell_type": "code",
   "execution_count": 18,
   "id": "a1629e5e",
   "metadata": {},
   "outputs": [
    {
     "name": "stdout",
     "output_type": "stream",
     "text": [
      "[100, 200, 150, 200, 50]\n"
     ]
    }
   ],
   "source": [
    "def test(memory_view):\n",
    "    for i in range(len(memory_view)):\n",
    "        memory_view[i] = (memory_view[i] + 10) % 256\n",
    "\n",
    "data = bytearray([100, 200, 150, 200, 50])\n",
    "memory_view = memoryview(data)\n",
    "\n",
    "print(list(memory_view))"
   ]
  },
  {
   "cell_type": "code",
   "execution_count": null,
   "id": "a78640d0",
   "metadata": {},
   "outputs": [],
   "source": []
  }
 ],
 "metadata": {
  "kernelspec": {
   "display_name": "base",
   "language": "python",
   "name": "python3"
  },
  "language_info": {
   "codemirror_mode": {
    "name": "ipython",
    "version": 3
   },
   "file_extension": ".py",
   "mimetype": "text/x-python",
   "name": "python",
   "nbconvert_exporter": "python",
   "pygments_lexer": "ipython3",
   "version": "3.13.5"
  }
 },
 "nbformat": 4,
 "nbformat_minor": 5
}
