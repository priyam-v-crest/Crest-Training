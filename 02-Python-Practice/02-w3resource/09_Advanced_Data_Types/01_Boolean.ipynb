{
 "cells": [
  {
   "cell_type": "markdown",
   "id": "4c726fa1",
   "metadata": {},
   "source": [
    "## Point-in-Circle Checker"
   ]
  },
  {
   "cell_type": "code",
   "execution_count": 1,
   "id": "b1bccb98",
   "metadata": {},
   "outputs": [],
   "source": [
    "import math\n",
    "def ispointincircle(r, x1, y1, x2, y2):\n",
    "    return math.sqrt((x1-x2)**2 + (y1-y2)**2) < r"
   ]
  },
  {
   "cell_type": "code",
   "execution_count": 4,
   "id": "6a0065a0",
   "metadata": {},
   "outputs": [
    {
     "data": {
      "text/plain": [
       "True"
      ]
     },
     "execution_count": 4,
     "metadata": {},
     "output_type": "execute_result"
    }
   ],
   "source": [
    "radius = 50\n",
    "center = (10,10)\n",
    "point = (2, 3)\n",
    "ispointincircle(radius, center[0], center[1], point[0], point[1])"
   ]
  },
  {
   "cell_type": "code",
   "execution_count": null,
   "id": "a7216687",
   "metadata": {},
   "outputs": [],
   "source": []
  }
 ],
 "metadata": {
  "kernelspec": {
   "display_name": "base",
   "language": "python",
   "name": "python3"
  },
  "language_info": {
   "codemirror_mode": {
    "name": "ipython",
    "version": 3
   },
   "file_extension": ".py",
   "mimetype": "text/x-python",
   "name": "python",
   "nbconvert_exporter": "python",
   "pygments_lexer": "ipython3",
   "version": "3.13.5"
  }
 },
 "nbformat": 4,
 "nbformat_minor": 5
}
