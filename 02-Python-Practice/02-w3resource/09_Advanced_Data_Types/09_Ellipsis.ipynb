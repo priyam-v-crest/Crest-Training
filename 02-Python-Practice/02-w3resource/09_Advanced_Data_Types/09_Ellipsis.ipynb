{
 "cells": [
  {
   "cell_type": "markdown",
   "id": "d700f095",
   "metadata": {},
   "source": [
    "## Multidimensional Array Slicer"
   ]
  },
  {
   "cell_type": "code",
   "execution_count": 7,
   "id": "595c0451",
   "metadata": {},
   "outputs": [
    {
     "name": "stdout",
     "output_type": "stream",
     "text": [
      "[[[ 1  2]\n",
      "  [ 4  5]]\n",
      "\n",
      " [[ 7  8]\n",
      "  [10 11]]\n",
      "\n",
      " [[13 14]\n",
      "  [16 17]]]\n"
     ]
    }
   ],
   "source": [
    "import numpy as np \n",
    "\n",
    "def slice_third_dimension(arr):\n",
    "    return arr[...,:2]\n",
    "\n",
    "nums = np.array([[[1, 2, 3], [4, 5, 6]], [[7, 8, 9], [10, 11, 12]], [[13, 14, 15], [16, 17, 18]]])\n",
    "\n",
    "print(slice_third_dimension(nums))"
   ]
  },
  {
   "cell_type": "code",
   "execution_count": null,
   "id": "4b808cb4",
   "metadata": {},
   "outputs": [],
   "source": []
  }
 ],
 "metadata": {
  "kernelspec": {
   "display_name": "base",
   "language": "python",
   "name": "python3"
  },
  "language_info": {
   "codemirror_mode": {
    "name": "ipython",
    "version": 3
   },
   "file_extension": ".py",
   "mimetype": "text/x-python",
   "name": "python",
   "nbconvert_exporter": "python",
   "pygments_lexer": "ipython3",
   "version": "3.13.5"
  }
 },
 "nbformat": 4,
 "nbformat_minor": 5
}
