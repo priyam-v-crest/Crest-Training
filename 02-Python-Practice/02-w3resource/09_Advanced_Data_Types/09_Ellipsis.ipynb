{
 "cells": [
  {
   "cell_type": "markdown",
   "id": "d700f095",
   "metadata": {},
   "source": [
    "## Bytearray Creation from List"
   ]
  },
  {
   "cell_type": "code",
   "execution_count": 2,
   "id": "504786b7",
   "metadata": {},
   "outputs": [
    {
     "name": "stdout",
     "output_type": "stream",
     "text": [
      "bytearray(b'H{\\x15l\\xdeC,&\\n')\n"
     ]
    }
   ],
   "source": [
    "def bytearray_from_list(l):\n",
    "    return bytearray(l)\n",
    "\n",
    "l = [72, 123, 21, 108, 222, 67, 44, 38, 10]\n",
    "print(bytearray_from_list(l))"
   ]
  },
  {
   "cell_type": "code",
   "execution_count": null,
   "id": "595c0451",
   "metadata": {},
   "outputs": [],
   "source": []
  }
 ],
 "metadata": {
  "kernelspec": {
   "display_name": "base",
   "language": "python",
   "name": "python3"
  },
  "language_info": {
   "codemirror_mode": {
    "name": "ipython",
    "version": 3
   },
   "file_extension": ".py",
   "mimetype": "text/x-python",
   "name": "python",
   "nbconvert_exporter": "python",
   "pygments_lexer": "ipython3",
   "version": "3.13.5"
  }
 },
 "nbformat": 4,
 "nbformat_minor": 5
}
