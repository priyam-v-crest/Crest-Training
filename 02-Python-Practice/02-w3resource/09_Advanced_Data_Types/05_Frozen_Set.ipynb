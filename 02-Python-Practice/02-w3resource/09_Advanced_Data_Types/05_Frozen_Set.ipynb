{
 "cells": [
  {
   "cell_type": "markdown",
   "id": "78491893",
   "metadata": {},
   "source": [
    "##  Frozenset of squares of odd numbers"
   ]
  },
  {
   "cell_type": "code",
   "execution_count": 4,
   "id": "b5ffb2b1",
   "metadata": {},
   "outputs": [],
   "source": [
    "def frozen_odd_squares(n):\n",
    "    return frozenset({x**2 for x in range(1,n,2)})"
   ]
  },
  {
   "cell_type": "code",
   "execution_count": 5,
   "id": "aa21db7e",
   "metadata": {},
   "outputs": [
    {
     "data": {
      "text/plain": [
       "frozenset({1, 9, 25, 49, 81})"
      ]
     },
     "execution_count": 5,
     "metadata": {},
     "output_type": "execute_result"
    }
   ],
   "source": [
    "n = 10\n",
    "frozen_odd_squares(n)"
   ]
  },
  {
   "cell_type": "code",
   "execution_count": null,
   "id": "31b0ae14",
   "metadata": {},
   "outputs": [],
   "source": []
  }
 ],
 "metadata": {
  "kernelspec": {
   "display_name": "base",
   "language": "python",
   "name": "python3"
  },
  "language_info": {
   "codemirror_mode": {
    "name": "ipython",
    "version": 3
   },
   "file_extension": ".py",
   "mimetype": "text/x-python",
   "name": "python",
   "nbconvert_exporter": "python",
   "pygments_lexer": "ipython3",
   "version": "3.13.5"
  }
 },
 "nbformat": 4,
 "nbformat_minor": 5
}
