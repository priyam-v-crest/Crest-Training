{
 "cells": [
  {
   "cell_type": "markdown",
   "id": "97806766",
   "metadata": {},
   "source": [
    "##  Triangle area calculation"
   ]
  },
  {
   "cell_type": "code",
   "execution_count": 4,
   "id": "66baf5dd",
   "metadata": {},
   "outputs": [
    {
     "name": "stdout",
     "output_type": "stream",
     "text": [
      "9.797958971132712\n"
     ]
    }
   ],
   "source": [
    "from collections import namedtuple\n",
    "import math\n",
    "\n",
    "\n",
    "def triangle_area(triangle):    \n",
    "    s = (triangle.side1 + triangle.side2 + triangle.side3) / 2\n",
    "\n",
    "    area = math.sqrt(s * (s - triangle.side1) * (s - triangle.side2) * (s - triangle.side3))\n",
    "    return area\n",
    "\n",
    "Triangle = namedtuple('Triangle', ['side1', 'side2', 'side3'])\n",
    "\n",
    "triangle_instance = Triangle(4, 5, 7)\n",
    "\n",
    "print(triangle_area(triangle_instance))"
   ]
  },
  {
   "cell_type": "code",
   "execution_count": null,
   "id": "b628d8cd",
   "metadata": {},
   "outputs": [],
   "source": []
  }
 ],
 "metadata": {
  "kernelspec": {
   "display_name": "base",
   "language": "python",
   "name": "python3"
  },
  "language_info": {
   "codemirror_mode": {
    "name": "ipython",
    "version": 3
   },
   "file_extension": ".py",
   "mimetype": "text/x-python",
   "name": "python",
   "nbconvert_exporter": "python",
   "pygments_lexer": "ipython3",
   "version": "3.13.5"
  }
 },
 "nbformat": 4,
 "nbformat_minor": 5
}
