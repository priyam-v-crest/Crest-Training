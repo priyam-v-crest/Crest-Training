{
 "cells": [
  {
   "cell_type": "markdown",
   "id": "7f456c0c",
   "metadata": {},
   "source": [
    "## OrderedDict from Random Data"
   ]
  },
  {
   "cell_type": "code",
   "execution_count": null,
   "id": "384747e4",
   "metadata": {},
   "outputs": [
    {
     "name": "stdout",
     "output_type": "stream",
     "text": [
      "OrderedDict({'D': 6, 'Q': 28, 'Y': 23, 'H': 50, 'R': 3, 'F': 35, 'E': 41, 'Z': 30})\n"
     ]
    }
   ],
   "source": [
    "import random\n",
    "from collections import OrderedDict\n",
    "\n",
    "def  random_ascii():\n",
    "    return chr(random.randint(65, 90))\n",
    "\n",
    "ordered_dict = OrderedDict()\n",
    "\n",
    "for i in range(10):\n",
    "    key = random_ascii()\n",
    "    value = random.randint(1, 50)\n",
    "    ordered_dict[key] = value\n",
    "print(ordered_dict)"
   ]
  },
  {
   "cell_type": "code",
   "execution_count": null,
   "id": "2fc7a021",
   "metadata": {},
   "outputs": [],
   "source": []
  }
 ],
 "metadata": {
  "kernelspec": {
   "display_name": "base",
   "language": "python",
   "name": "python3"
  },
  "language_info": {
   "codemirror_mode": {
    "name": "ipython",
    "version": 3
   },
   "file_extension": ".py",
   "mimetype": "text/x-python",
   "name": "python",
   "nbconvert_exporter": "python",
   "pygments_lexer": "ipython3",
   "version": "3.13.5"
  }
 },
 "nbformat": 4,
 "nbformat_minor": 5
}
