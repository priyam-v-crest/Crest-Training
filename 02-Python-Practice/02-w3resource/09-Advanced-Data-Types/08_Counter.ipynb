{
 "cells": [
  {
   "cell_type": "markdown",
   "id": "fa652345",
   "metadata": {},
   "source": [
    "## Calculate Jaccard Similarity Coefficient"
   ]
  },
  {
   "cell_type": "code",
   "execution_count": 8,
   "id": "9d8bd11f",
   "metadata": {},
   "outputs": [
    {
     "name": "stdout",
     "output_type": "stream",
     "text": [
      "0.4\n",
      "0.4\n"
     ]
    }
   ],
   "source": [
    "from collections import Counter\n",
    "def get_cardinality(s1,s2):\n",
    "    return len(s1.union(s2))\n",
    "\n",
    "def get_intersection(s1,s2):\n",
    "    return len(s1.intersection(s2))\n",
    "\n",
    "def jaccard(s1, s2):\n",
    "    return get_intersection(s1,s2) / get_cardinality(s1,s2)\n",
    "\n",
    "def jaccard_counter(l1,l2):\n",
    "    intersection= sum((Counter(l1) & Counter(l2)).values())\n",
    "    union = sum((Counter(l1) | Counter(l2)).values())\n",
    "    return intersection / union\n",
    "\n",
    "l1 = ['Red', 'Green', 'Blue', 'Orange']\n",
    "l2 = ['Green', 'Pink', 'Blue']\n",
    "\n",
    "print(jaccard(set(l1),set(l2)))\n",
    "print(jaccard_counter(l1,l2))"
   ]
  },
  {
   "cell_type": "code",
   "execution_count": null,
   "id": "241e58ba",
   "metadata": {},
   "outputs": [],
   "source": []
  }
 ],
 "metadata": {
  "kernelspec": {
   "display_name": "base",
   "language": "python",
   "name": "python3"
  },
  "language_info": {
   "codemirror_mode": {
    "name": "ipython",
    "version": 3
   },
   "file_extension": ".py",
   "mimetype": "text/x-python",
   "name": "python",
   "nbconvert_exporter": "python",
   "pygments_lexer": "ipython3",
   "version": "3.13.5"
  }
 },
 "nbformat": 4,
 "nbformat_minor": 5
}
