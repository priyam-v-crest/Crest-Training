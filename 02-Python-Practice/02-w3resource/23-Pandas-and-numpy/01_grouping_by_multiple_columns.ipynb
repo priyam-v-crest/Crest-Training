{
 "cells": [
  {
   "cell_type": "code",
   "execution_count": 1,
   "id": "481ca366",
   "metadata": {},
   "outputs": [
    {
     "name": "stdout",
     "output_type": "stream",
     "text": [
      "Sample DataFrame:\n",
      "  Category Type  Value\n",
      "0        A    X      1\n",
      "1        A    Y      2\n",
      "2        B    X      3\n",
      "3        B    Y      4\n",
      "4        C    X      5\n",
      "5        C    Y      6\n",
      "\n",
      "Group by 'Category' and 'Type':\n",
      "               Value\n",
      "Category Type       \n",
      "A        X         1\n",
      "         Y         2\n",
      "B        X         3\n",
      "         Y         4\n",
      "C        X         5\n",
      "         Y         6\n"
     ]
    }
   ],
   "source": [
    "import pandas as pd\n",
    "\n",
    "# Create a sample DataFrame\n",
    "data = {\n",
    "    'Category': ['A', 'A', 'B', 'B', 'C', 'C'],\n",
    "    'Type': ['X', 'Y', 'X', 'Y', 'X', 'Y'],\n",
    "    'Value': [1, 2, 3, 4, 5, 6]\n",
    "}\n",
    "df = pd.DataFrame(data)\n",
    "\n",
    "print(\"Sample DataFrame:\")\n",
    "print(df)\n",
    "\n",
    "# Group by multiple columns: 'Category' and 'Type'\n",
    "grouped = df.groupby(['Category', 'Type']).sum()\n",
    "\n",
    "print(\"\\nGroup by 'Category' and 'Type':\")\n",
    "print(grouped)"
   ]
  },
  {
   "cell_type": "code",
   "execution_count": null,
   "id": "01ec2688",
   "metadata": {},
   "outputs": [],
   "source": []
  }
 ],
 "metadata": {
  "kernelspec": {
   "display_name": "Python 3",
   "language": "python",
   "name": "python3"
  },
  "language_info": {
   "codemirror_mode": {
    "name": "ipython",
    "version": 3
   },
   "file_extension": ".py",
   "mimetype": "text/x-python",
   "name": "python",
   "nbconvert_exporter": "python",
   "pygments_lexer": "ipython3",
   "version": "3.13.7"
  }
 },
 "nbformat": 4,
 "nbformat_minor": 5
}
