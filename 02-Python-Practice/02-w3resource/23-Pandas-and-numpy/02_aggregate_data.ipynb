{
 "cells": [
  {
   "cell_type": "code",
   "execution_count": 1,
   "id": "fa5e0cf6",
   "metadata": {},
   "outputs": [
    {
     "name": "stdout",
     "output_type": "stream",
     "text": [
      "Original DataFrame:\n",
      "   Department  Salary  Experience\n",
      "0         HR   50000           2\n",
      "1         HR   55000           3\n",
      "2    Finance   60000           4\n",
      "3    Finance   45000           1\n",
      "4         IT   70000           5\n",
      "5         IT   60000           7 \n",
      "\n",
      "Aggregated DataFrame:\n",
      "   Department   Salary         Experience\n",
      "                 mean     sum        max\n",
      "0    Finance  52500.0  105000          4\n",
      "1         HR  52500.0  105000          3\n",
      "2         IT  65000.0  130000          7\n"
     ]
    }
   ],
   "source": [
    "import pandas as pd\n",
    "\n",
    "# Sample dataset\n",
    "data = {\n",
    "    \"Department\": [\"HR\", \"HR\", \"Finance\", \"Finance\", \"IT\", \"IT\"],\n",
    "    \"Salary\": [50000, 55000, 60000, 45000, 70000, 60000],\n",
    "    \"Experience\": [2, 3, 4, 1, 5, 7]\n",
    "}\n",
    "\n",
    "df = pd.DataFrame(data)\n",
    "\n",
    "print(\"Original DataFrame:\\n\", df, \"\\n\")\n",
    "\n",
    "# Group by Department and aggregate with multiple functions\n",
    "agg_df = df.groupby(\"Department\").agg({\n",
    "    \"Salary\": [\"mean\", \"sum\"],\n",
    "    \"Experience\": \"max\"\n",
    "}).reset_index()\n",
    "\n",
    "print(\"Aggregated DataFrame:\\n\", agg_df)"
   ]
  },
  {
   "cell_type": "code",
   "execution_count": null,
   "id": "e6dc3f7f",
   "metadata": {},
   "outputs": [],
   "source": []
  }
 ],
 "metadata": {
  "kernelspec": {
   "display_name": "Python 3",
   "language": "python",
   "name": "python3"
  },
  "language_info": {
   "codemirror_mode": {
    "name": "ipython",
    "version": 3
   },
   "file_extension": ".py",
   "mimetype": "text/x-python",
   "name": "python",
   "nbconvert_exporter": "python",
   "pygments_lexer": "ipython3",
   "version": "3.13.7"
  }
 },
 "nbformat": 4,
 "nbformat_minor": 5
}
