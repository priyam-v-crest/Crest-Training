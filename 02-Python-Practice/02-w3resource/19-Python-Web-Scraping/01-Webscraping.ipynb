{
 "cells": [
  {
   "cell_type": "markdown",
   "id": "012b8aa3",
   "metadata": {},
   "source": [
    "## Display the name of the most recently added dataset on data.gov"
   ]
  },
  {
   "cell_type": "code",
   "execution_count": 1,
   "id": "be36c5d5",
   "metadata": {},
   "outputs": [
    {
     "name": "stdout",
     "output_type": "stream",
     "text": [
      "The name of the most recently added dataset on data.gov:\n",
      "(SECOORA) Glider - SECOORA Glider Observatory - bass-20250203T0000\n"
     ]
    }
   ],
   "source": [
    "from lxml import html\n",
    "import requests\n",
    "response = requests.get('http://catalog.data.gov/dataset?q=&sort=metadata_created+desc')\n",
    "doc = html.fromstring(response.text)\n",
    "title = doc.cssselect('h3.dataset-heading')[0].text_content()\n",
    "print(\"The name of the most recently added dataset on data.gov:\")\n",
    "print(title.strip())"
   ]
  },
  {
   "cell_type": "code",
   "execution_count": null,
   "id": "46b16cab",
   "metadata": {},
   "outputs": [],
   "source": []
  }
 ],
 "metadata": {
  "kernelspec": {
   "display_name": "base",
   "language": "python",
   "name": "python3"
  },
  "language_info": {
   "codemirror_mode": {
    "name": "ipython",
    "version": 3
   },
   "file_extension": ".py",
   "mimetype": "text/x-python",
   "name": "python",
   "nbconvert_exporter": "python",
   "pygments_lexer": "ipython3",
   "version": "3.13.5"
  }
 },
 "nbformat": 4,
 "nbformat_minor": 5
}
