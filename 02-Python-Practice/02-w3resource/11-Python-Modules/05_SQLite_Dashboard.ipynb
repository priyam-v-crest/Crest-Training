{
 "cells": [
  {
   "cell_type": "markdown",
   "id": "f1628a80",
   "metadata": {},
   "source": [
    "## Create Table and Insert Records"
   ]
  },
  {
   "cell_type": "code",
   "execution_count": 2,
   "id": "77ba9acd",
   "metadata": {},
   "outputs": [
    {
     "name": "stdout",
     "output_type": "stream",
     "text": [
      "Agent details:\n",
      "(5001, 'James Hoog', 'New York', 0.15)\n",
      "(5002, 'Nail Knite', 'Paris', 0.25)\n",
      "(5003, 'Pit Alex', 'London', 0.15)\n",
      "(5004, 'Mc Lyon', 'Paris', 0.35)\n",
      "(5005, 'Paul Adam', 'Rome', 0.45)\n",
      "\n",
      "The SQLite connection is closed.\n"
     ]
    }
   ],
   "source": [
    "import sqlite3\n",
    " \n",
    "from sqlite3 import Error\n",
    " \n",
    "def sql_connection():\n",
    "   try:\n",
    "     conn = sqlite3.connect('mydatabase.db')\n",
    "     return conn\n",
    "   except Error:\n",
    "     print(Error)\n",
    " \n",
    "def sql_table(conn):\n",
    "   cursorObj = conn.cursor()\n",
    "   cursorObj.execute(\"CREATE TABLE salesman(salesman_id n(5), name char(30), city char(35), commission decimal(7,2));\")\n",
    "   cursorObj.executescript(\"\"\"\n",
    "   INSERT INTO salesman VALUES(5001,'James Hoog', 'New York', 0.15);\n",
    "   INSERT INTO salesman VALUES(5002,'Nail Knite', 'Paris', 0.25);\n",
    "   INSERT INTO salesman VALUES(5003,'Pit Alex', 'London', 0.15);\n",
    "   INSERT INTO salesman VALUES(5004,'Mc Lyon', 'Paris', 0.35);\n",
    "   INSERT INTO salesman VALUES(5005,'Paul Adam', 'Rome', 0.45);\n",
    "   \"\"\")\n",
    "   conn.commit()\n",
    "   cursorObj.execute(\"SELECT * FROM salesman\")\n",
    "   rows = cursorObj.fetchall()\n",
    "   print(\"Agent details:\")\n",
    "   for row in rows:\n",
    "       print(row)\n",
    "sqllite_conn = sql_connection()\n",
    "sql_table(sqllite_conn)\n",
    "if (sqllite_conn):\n",
    " sqllite_conn.close()\n",
    " print(\"\\nThe SQLite connection is closed.\")"
   ]
  },
  {
   "cell_type": "code",
   "execution_count": null,
   "id": "54c610aa",
   "metadata": {},
   "outputs": [],
   "source": []
  }
 ],
 "metadata": {
  "kernelspec": {
   "display_name": "base",
   "language": "python",
   "name": "python3"
  },
  "language_info": {
   "codemirror_mode": {
    "name": "ipython",
    "version": 3
   },
   "file_extension": ".py",
   "mimetype": "text/x-python",
   "name": "python",
   "nbconvert_exporter": "python",
   "pygments_lexer": "ipython3",
   "version": "3.13.5"
  }
 },
 "nbformat": 4,
 "nbformat_minor": 5
}
