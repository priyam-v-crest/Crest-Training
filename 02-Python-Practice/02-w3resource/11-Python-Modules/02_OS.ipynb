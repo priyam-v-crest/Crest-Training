{
 "cells": [
  {
   "cell_type": "markdown",
   "id": "89f9687e",
   "metadata": {},
   "source": [
    "## OS Info and Directory Listing"
   ]
  },
  {
   "cell_type": "code",
   "execution_count": 2,
   "id": "3b945c63",
   "metadata": {},
   "outputs": [
    {
     "name": "stdout",
     "output_type": "stream",
     "text": [
      "Operating System: nt\n",
      "\n",
      "os.uname() is not available on this OS.\n",
      "\n",
      "Current Working Directory: c:\\Users\\PrivamVyas\\Desktop\\Crest-Training\\02-Python-Practice\\02-w3resource\\11-Python-Modules\n",
      "\n",
      "List of files and directories in the current directory:\n",
      "['01_Builtin.ipynb', '02_OS.ipynb', '03_Math.ipynb', '04_Requests.ipynb', '05_SQLite_Dashboard.ipynb']\n",
      "\n",
      "Test if a specified file exists or not:\n",
      "\n",
      "File 'abc.txt' does not exist or could not be read.\n"
     ]
    }
   ],
   "source": [
    "import os\n",
    "\n",
    "print(\"Operating System:\", os.name)\n",
    "\n",
    "if hasattr(os, 'uname'):\n",
    "    print(\"\\nInformation of current operating system:\", os.uname())\n",
    "else:\n",
    "    print(\"\\nos.uname() is not available on this OS.\")\n",
    "\n",
    "print(\"\\nCurrent Working Directory:\", os.getcwd())\n",
    "\n",
    "print(\"\\nList of files and directories in the current directory:\")\n",
    "print(os.listdir('.'))\n",
    "\n",
    "print(\"\\nTest if a specified file exists or not:\")\n",
    "filename = 'abc.txt'\n",
    "try:\n",
    "    with open(filename, 'r') as f:\n",
    "        text = f.read()\n",
    "        print(f\"\\nContents of '{filename}':\\n{text}\")\n",
    "except IOError:\n",
    "    print(f\"\\nFile '{filename}' does not exist or could not be read.\")\n"
   ]
  },
  {
   "cell_type": "code",
   "execution_count": null,
   "id": "87d1a436",
   "metadata": {},
   "outputs": [],
   "source": []
  }
 ],
 "metadata": {
  "kernelspec": {
   "display_name": "base",
   "language": "python",
   "name": "python3"
  },
  "language_info": {
   "codemirror_mode": {
    "name": "ipython",
    "version": 3
   },
   "file_extension": ".py",
   "mimetype": "text/x-python",
   "name": "python",
   "nbconvert_exporter": "python",
   "pygments_lexer": "ipython3",
   "version": "3.13.5"
  }
 },
 "nbformat": 4,
 "nbformat_minor": 5
}
