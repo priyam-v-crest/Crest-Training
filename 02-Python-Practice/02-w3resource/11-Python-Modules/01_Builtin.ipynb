{
 "cells": [
  {
   "cell_type": "markdown",
   "id": "f15cc017",
   "metadata": {},
   "source": [
    "## Floor and Ceiling Rounding"
   ]
  },
  {
   "cell_type": "code",
   "execution_count": 1,
   "id": "5751c70e",
   "metadata": {},
   "outputs": [
    {
     "name": "stdout",
     "output_type": "stream",
     "text": [
      "Configure the rounding to round to the floor:\n",
      "3.333\n",
      "\n",
      "Configure the rounding to round to the ceiling:\n",
      "3.334\n"
     ]
    }
   ],
   "source": [
    "import decimal\n",
    "print(\"Configure the rounding to round to the floor:\")\n",
    "decimal.getcontext().prec = 4\n",
    "decimal.getcontext().rounding = decimal.ROUND_FLOOR\n",
    "print(decimal.Decimal(20) / decimal.Decimal(6))\n",
    "print(\"\\nConfigure the rounding to round to the ceiling:\")\n",
    "decimal.getcontext().prec = 4\n",
    "decimal.getcontext().rounding = decimal.ROUND_CEILING\n",
    "print(decimal.Decimal(20) / decimal.Decimal(6))"
   ]
  },
  {
   "cell_type": "markdown",
   "id": "d6a69a6f",
   "metadata": {},
   "source": [
    "## Generator Function Checker"
   ]
  },
  {
   "cell_type": "code",
   "execution_count": 1,
   "id": "ac0e6f90",
   "metadata": {},
   "outputs": [
    {
     "name": "stdout",
     "output_type": "stream",
     "text": [
      "True\n",
      "False\n",
      "False\n"
     ]
    }
   ],
   "source": [
    "import types\n",
    "def a(x):\n",
    "    yield x\n",
    "        \n",
    "def b(x):\n",
    "    return x\n",
    "\n",
    "def add(x, y):\n",
    "    return x + y\n",
    "\n",
    "print(isinstance(a(456), types.GeneratorType))\n",
    "print(isinstance(b(823), types.GeneratorType))\n",
    "print(isinstance(add(8,2), types.GeneratorType))"
   ]
  },
  {
   "cell_type": "code",
   "execution_count": null,
   "id": "365ed7fc",
   "metadata": {},
   "outputs": [],
   "source": []
  }
 ],
 "metadata": {
  "kernelspec": {
   "display_name": "base",
   "language": "python",
   "name": "python3"
  },
  "language_info": {
   "codemirror_mode": {
    "name": "ipython",
    "version": 3
   },
   "file_extension": ".py",
   "mimetype": "text/x-python",
   "name": "python",
   "nbconvert_exporter": "python",
   "pygments_lexer": "ipython3",
   "version": "3.13.5"
  }
 },
 "nbformat": 4,
 "nbformat_minor": 5
}
