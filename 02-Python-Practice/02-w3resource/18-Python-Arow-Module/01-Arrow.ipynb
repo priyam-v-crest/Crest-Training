{
 "cells": [
  {
   "cell_type": "markdown",
   "id": "a89e7ac1",
   "metadata": {},
   "source": [
    "## Convert timezone from local to utc, utc to local or specified zones"
   ]
  },
  {
   "cell_type": "code",
   "execution_count": 3,
   "id": "cd3dbb26",
   "metadata": {},
   "outputs": [
    {
     "name": "stdout",
     "output_type": "stream",
     "text": [
      "utc:\n",
      "2025-07-28T08:51:52.824453+00:00\n",
      "\n",
      "utc to local:\n",
      "2025-07-28T14:21:52.824453+05:30\n",
      "\n",
      "local to utc:\n",
      "2025-07-28T08:51:52.824453+00:00\n",
      "\n",
      "utc to specific location:\n",
      "2025-07-28T01:51:52.824453-07:00\n"
     ]
    }
   ],
   "source": [
    "import arrow\n",
    "utc = arrow.utcnow()\n",
    "print(\"utc:\")\n",
    "print(utc)\n",
    "print(\"\\nutc to local:\")\n",
    "print(utc.to('local'))\n",
    "print(\"\\nlocal to utc:\")\n",
    "print(utc.to('local').to('utc'))\n",
    "print(\"\\nutc to specific location:\")\n",
    "print(utc.to('US/Pacific'))"
   ]
  },
  {
   "cell_type": "code",
   "execution_count": null,
   "id": "95f1f905",
   "metadata": {},
   "outputs": [],
   "source": []
  }
 ],
 "metadata": {
  "kernelspec": {
   "display_name": "base",
   "language": "python",
   "name": "python3"
  },
  "language_info": {
   "codemirror_mode": {
    "name": "ipython",
    "version": 3
   },
   "file_extension": ".py",
   "mimetype": "text/x-python",
   "name": "python",
   "nbconvert_exporter": "python",
   "pygments_lexer": "ipython3",
   "version": "3.13.5"
  }
 },
 "nbformat": 4,
 "nbformat_minor": 5
}
