{
 "cells": [
  {
   "cell_type": "markdown",
   "id": "32c9fc80",
   "metadata": {},
   "source": [
    "## Check for Leap Year:"
   ]
  },
  {
   "cell_type": "code",
   "execution_count": 2,
   "id": "4e533a67",
   "metadata": {},
   "outputs": [
    {
     "name": "stdout",
     "output_type": "stream",
     "text": [
      "Requirement already satisfied: pendulum in c:\\users\\privamvyas\\anaconda3\\lib\\site-packages (3.1.0)\n",
      "Requirement already satisfied: python-dateutil>=2.6 in c:\\users\\privamvyas\\anaconda3\\lib\\site-packages (from pendulum) (2.9.0.post0)\n",
      "Requirement already satisfied: tzdata>=2020.1 in c:\\users\\privamvyas\\anaconda3\\lib\\site-packages (from pendulum) (2025.2)\n",
      "Requirement already satisfied: six>=1.5 in c:\\users\\privamvyas\\anaconda3\\lib\\site-packages (from python-dateutil>=2.6->pendulum) (1.17.0)\n"
     ]
    }
   ],
   "source": [
    "!pip install pendulum\n",
    "import pendulum"
   ]
  },
  {
   "cell_type": "code",
   "execution_count": null,
   "id": "3dd156a1",
   "metadata": {},
   "outputs": [
    {
     "name": "stdout",
     "output_type": "stream",
     "text": [
      "2025 is not a leap year.\n"
     ]
    }
   ],
   "source": [
    "import calendar\n",
    "\n",
    "current_year = pendulum.now().year\n",
    "\n",
    "is_leap_year = calendar.isleap(current_year)\n",
    "\n",
    "if is_leap_year:\n",
    "    print(f\"{current_year} is a leap year.\")\n",
    "else:\n",
    "    print(f\"{current_year} is not a leap year.\")\n"
   ]
  },
  {
   "cell_type": "markdown",
   "id": "b065c99e",
   "metadata": {},
   "source": [
    "## Is it Weekday or Weekend?"
   ]
  },
  {
   "cell_type": "code",
   "execution_count": 19,
   "id": "fbf95601",
   "metadata": {},
   "outputs": [
    {
     "name": "stdout",
     "output_type": "stream",
     "text": [
      "It's a weekday lil bro.\n"
     ]
    }
   ],
   "source": [
    "def isweekend(d):\n",
    "    if d >= 1 and d <= 5:\n",
    "        print(\"It's a weekday lil bro.\")\n",
    "    else:\n",
    "        print(\"Enjoy the weekend lil bro!\")\n",
    "\n",
    "isweekend(pendulum.now().day_of_week)"
   ]
  },
  {
   "cell_type": "code",
   "execution_count": null,
   "id": "7581b26a",
   "metadata": {},
   "outputs": [],
   "source": []
  }
 ],
 "metadata": {
  "kernelspec": {
   "display_name": "base",
   "language": "python",
   "name": "python3"
  },
  "language_info": {
   "codemirror_mode": {
    "name": "ipython",
    "version": 3
   },
   "file_extension": ".py",
   "mimetype": "text/x-python",
   "name": "python",
   "nbconvert_exporter": "python",
   "pygments_lexer": "ipython3",
   "version": "3.13.5"
  }
 },
 "nbformat": 4,
 "nbformat_minor": 5
}
