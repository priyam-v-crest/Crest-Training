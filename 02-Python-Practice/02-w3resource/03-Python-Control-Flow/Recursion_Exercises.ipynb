{
 "cells": [
  {
   "cell_type": "markdown",
   "id": "ee00f652",
   "metadata": {},
   "source": [
    "## Ex - 1: Integer to String Conversion in Any Base Using Recursion"
   ]
  },
  {
   "cell_type": "code",
   "execution_count": 1,
   "id": "9fbaadb9",
   "metadata": {},
   "outputs": [
    {
     "name": "stdout",
     "output_type": "stream",
     "text": [
      "FF\n"
     ]
    }
   ],
   "source": [
    "def int_to_base(n, base):\n",
    "    digits = \"0123456789ABCDEFGHIJKLMNOPQRSTUVWXYZ\"\n",
    "\n",
    "    if n < base:\n",
    "        return digits[n]\n",
    "    else:\n",
    "        return int_to_base(n // base, base) + digits[n % base]\n",
    "\n",
    "print(int_to_base(255, 16))"
   ]
  },
  {
   "cell_type": "markdown",
   "id": "35d11c8d",
   "metadata": {},
   "source": [
    "## Ex - 2: Sum of Digits of an Integer Using Recursion"
   ]
  },
  {
   "cell_type": "code",
   "execution_count": 5,
   "id": "dd32cf89",
   "metadata": {},
   "outputs": [
    {
     "data": {
      "text/plain": [
       "8"
      ]
     },
     "execution_count": 5,
     "metadata": {},
     "output_type": "execute_result"
    }
   ],
   "source": [
    "def sum_of_digits(n):\n",
    "    if n == 0:\n",
    "        return 0\n",
    "    return n%10 + sum_of_digits(n//10)\n",
    "\n",
    "digits = 143\n",
    "sum_of_digits(digits)"
   ]
  },
  {
   "cell_type": "code",
   "execution_count": null,
   "id": "0be0c99a",
   "metadata": {},
   "outputs": [],
   "source": []
  }
 ],
 "metadata": {
  "kernelspec": {
   "display_name": "base",
   "language": "python",
   "name": "python3"
  },
  "language_info": {
   "codemirror_mode": {
    "name": "ipython",
    "version": 3
   },
   "file_extension": ".py",
   "mimetype": "text/x-python",
   "name": "python",
   "nbconvert_exporter": "python",
   "pygments_lexer": "ipython3",
   "version": "3.13.5"
  }
 },
 "nbformat": 4,
 "nbformat_minor": 5
}
