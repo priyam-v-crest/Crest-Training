{
 "cells": [
  {
   "cell_type": "code",
   "execution_count": 1,
   "id": "cf1bd98d",
   "metadata": {},
   "outputs": [
    {
     "name": "stdout",
     "output_type": "stream",
     "text": [
      "Original array\n",
      "[ 1.  0. nan inf]\n",
      "Test element-wise for NaN:\n",
      "[False False  True False]\n"
     ]
    }
   ],
   "source": [
    "import numpy as np\n",
    "\n",
    "# Original array\n",
    "arr = np.array([1, 0, np.nan, np.inf])\n",
    "print(\"Original array\")\n",
    "print(arr)\n",
    "\n",
    "# Test element-wise for NaN\n",
    "nan_test = np.isnan(arr)\n",
    "print(\"Test element-wise for NaN:\")\n",
    "print(nan_test)"
   ]
  }
 ],
 "metadata": {
  "kernelspec": {
   "display_name": "Python 3",
   "language": "python",
   "name": "python3"
  },
  "language_info": {
   "codemirror_mode": {
    "name": "ipython",
    "version": 3
   },
   "file_extension": ".py",
   "mimetype": "text/x-python",
   "name": "python",
   "nbconvert_exporter": "python",
   "pygments_lexer": "ipython3",
   "version": "3.13.7"
  }
 },
 "nbformat": 4,
 "nbformat_minor": 5
}
