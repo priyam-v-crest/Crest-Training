{
 "cells": [
  {
   "cell_type": "code",
   "execution_count": 1,
   "id": "93600bf9",
   "metadata": {},
   "outputs": [
    {
     "name": "stdout",
     "output_type": "stream",
     "text": [
      "Original array:\n",
      "[0.86575213 0.43697433 0.92001121 0.65726326 0.64128637 0.21030929\n",
      " 0.00318053 0.6257182  0.69769556 0.79872924]\n",
      "\n",
      "Sorted array:\n",
      "[0.00318053 0.21030929 0.43697433 0.6257182  0.64128637 0.65726326\n",
      " 0.69769556 0.79872924 0.86575213 0.92001121]\n"
     ]
    }
   ],
   "source": [
    "import numpy as np\n",
    "\n",
    "# Create random vector of size 10\n",
    "arr = np.random.random(10)\n",
    "print(\"Original array:\")\n",
    "print(arr)\n",
    "\n",
    "# Sort the array\n",
    "sorted_arr = np.sort(arr)\n",
    "print(\"\\nSorted array:\")\n",
    "print(sorted_arr)"
   ]
  },
  {
   "cell_type": "code",
   "execution_count": null,
   "id": "2e62334c",
   "metadata": {},
   "outputs": [],
   "source": []
  }
 ],
 "metadata": {
  "kernelspec": {
   "display_name": "Python 3",
   "language": "python",
   "name": "python3"
  },
  "language_info": {
   "codemirror_mode": {
    "name": "ipython",
    "version": 3
   },
   "file_extension": ".py",
   "mimetype": "text/x-python",
   "name": "python",
   "nbconvert_exporter": "python",
   "pygments_lexer": "ipython3",
   "version": "3.13.7"
  }
 },
 "nbformat": 4,
 "nbformat_minor": 5
}
