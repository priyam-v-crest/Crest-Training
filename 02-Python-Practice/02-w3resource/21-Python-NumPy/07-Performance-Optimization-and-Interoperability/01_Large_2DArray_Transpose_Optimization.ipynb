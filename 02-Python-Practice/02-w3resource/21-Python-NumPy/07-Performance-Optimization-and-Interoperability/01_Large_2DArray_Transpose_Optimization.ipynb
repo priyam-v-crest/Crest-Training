{
 "cells": [
  {
   "cell_type": "code",
   "execution_count": 1,
   "id": "844a1ad1",
   "metadata": {},
   "outputs": [
    {
     "ename": "NameError",
     "evalue": "name 'transpose_for_loop' is not defined",
     "output_type": "error",
     "traceback": [
      "\u001b[31m---------------------------------------------------------------------------\u001b[39m",
      "\u001b[31mNameError\u001b[39m                                 Traceback (most recent call last)",
      "\u001b[36mCell\u001b[39m\u001b[36m \u001b[39m\u001b[32mIn[1]\u001b[39m\u001b[32m, line 8\u001b[39m\n\u001b[32m      5\u001b[39m arr = np.random.rand(\u001b[32m1000\u001b[39m, \u001b[32m1000\u001b[39m)\n\u001b[32m      7\u001b[39m \u001b[38;5;66;03m# Transpose using for loop\u001b[39;00m\n\u001b[32m----> \u001b[39m\u001b[32m8\u001b[39m transposed_loop = \u001b[43mtranspose_for_loop\u001b[49m(arr)\n\u001b[32m     10\u001b[39m \u001b[38;5;66;03m# Transpose using NumPy's optimized method\u001b[39;00m\n\u001b[32m     11\u001b[39m transposed_numpy = transpose_numpy(arr)\n",
      "\u001b[31mNameError\u001b[39m: name 'transpose_for_loop' is not defined"
     ]
    }
   ],
   "source": [
    "import numpy as np\n",
    "\n",
    "# Create a large random 2D array\n",
    "np.random.seed(0)\n",
    "arr = np.random.rand(1000, 1000)\n",
    "\n",
    "# Transpose using for loop\n",
    "transposed_loop = transpose_for_loop(arr)\n",
    "\n",
    "# Transpose using NumPy's optimized method\n",
    "transposed_numpy = transpose_numpy(arr)\n",
    "\n",
    "# Show first 5x5 block for verification\n",
    "print(\"Transposed array using for loop (first 5x5 block):\")\n",
    "print(transposed_loop[:5, :5])\n",
    "\n",
    "print(\"\\nTransposed array using NumPy's transpose() function (first 5x5 block):\")\n",
    "print(transposed_numpy[:5, :5])\n"
   ]
  },
  {
   "cell_type": "code",
   "execution_count": null,
   "id": "07258114",
   "metadata": {},
   "outputs": [],
   "source": []
  }
 ],
 "metadata": {
  "kernelspec": {
   "display_name": "Python 3",
   "language": "python",
   "name": "python3"
  },
  "language_info": {
   "codemirror_mode": {
    "name": "ipython",
    "version": 3
   },
   "file_extension": ".py",
   "mimetype": "text/x-python",
   "name": "python",
   "nbconvert_exporter": "python",
   "pygments_lexer": "ipython3",
   "version": "3.13.7"
  }
 },
 "nbformat": 4,
 "nbformat_minor": 5
}
