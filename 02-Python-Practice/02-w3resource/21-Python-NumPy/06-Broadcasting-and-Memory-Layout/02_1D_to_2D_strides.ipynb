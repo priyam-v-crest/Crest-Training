{
 "cells": [
  {
   "cell_type": "code",
   "execution_count": 1,
   "id": "71e42fbe",
   "metadata": {},
   "outputs": [
    {
     "name": "stdout",
     "output_type": "stream",
     "text": [
      "Original 1D array:\n",
      "[ 0  1  2  3  4  5  6  7  8  9 10 11]\n",
      "\n",
      "Reshaped 2D array (3x4):\n",
      "[[ 0  1  2  3]\n",
      " [ 4  5  6  7]\n",
      " [ 8  9 10 11]]\n",
      "\n",
      "Strides of the reshaped array:\n",
      "(32, 8)\n"
     ]
    }
   ],
   "source": [
    "import numpy as np\n",
    "\n",
    "# Create a 1D array with 12 elements\n",
    "arr = np.arange(12)\n",
    "print(\"Original 1D array:\")\n",
    "print(arr)\n",
    "\n",
    "# Reshape into 2D array of shape (3, 4)\n",
    "reshaped = arr.reshape(3, 4)\n",
    "print(\"\\nReshaped 2D array (3x4):\")\n",
    "print(reshaped)\n",
    "\n",
    "# Print strides\n",
    "print(\"\\nStrides of the reshaped array:\")\n",
    "print(reshaped.strides)"
   ]
  },
  {
   "cell_type": "code",
   "execution_count": null,
   "id": "f3e58e91",
   "metadata": {},
   "outputs": [],
   "source": []
  }
 ],
 "metadata": {
  "kernelspec": {
   "display_name": "Python 3",
   "language": "python",
   "name": "python3"
  },
  "language_info": {
   "codemirror_mode": {
    "name": "ipython",
    "version": 3
   },
   "file_extension": ".py",
   "mimetype": "text/x-python",
   "name": "python",
   "nbconvert_exporter": "python",
   "pygments_lexer": "ipython3",
   "version": "3.13.7"
  }
 },
 "nbformat": 4,
 "nbformat_minor": 5
}
