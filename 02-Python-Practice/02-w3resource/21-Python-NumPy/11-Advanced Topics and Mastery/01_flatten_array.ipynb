{
 "cells": [
  {
   "cell_type": "code",
   "execution_count": 1,
   "id": "7aa675fd",
   "metadata": {},
   "outputs": [
    {
     "name": "stdout",
     "output_type": "stream",
     "text": [
      "3x3x3 Array:\n",
      " [[[0.37454012 0.95071431 0.73199394]\n",
      "  [0.59865848 0.15601864 0.15599452]\n",
      "  [0.05808361 0.86617615 0.60111501]]\n",
      "\n",
      " [[0.70807258 0.02058449 0.96990985]\n",
      "  [0.83244264 0.21233911 0.18182497]\n",
      "  [0.18340451 0.30424224 0.52475643]]\n",
      "\n",
      " [[0.43194502 0.29122914 0.61185289]\n",
      "  [0.13949386 0.29214465 0.36636184]\n",
      "  [0.45606998 0.78517596 0.19967378]]]\n",
      "\n",
      "Flattened 1D Array:\n",
      " [0.37454012 0.95071431 0.73199394 0.59865848 0.15601864 0.15599452\n",
      " 0.05808361 0.86617615 0.60111501 0.70807258 0.02058449 0.96990985\n",
      " 0.83244264 0.21233911 0.18182497 0.18340451 0.30424224 0.52475643\n",
      " 0.43194502 0.29122914 0.61185289 0.13949386 0.29214465 0.36636184\n",
      " 0.45606998 0.78517596 0.19967378]\n"
     ]
    }
   ],
   "source": [
    "import numpy as np\n",
    "\n",
    "# Seed for reproducibility (so values match consistently)\n",
    "np.random.seed(42)\n",
    "\n",
    "# Create a 3x3x3 array with random values\n",
    "arr = np.random.rand(3, 3, 3)\n",
    "\n",
    "print(\"3x3x3 Array:\\n\", arr)\n",
    "\n",
    "# Flatten to 1D array\n",
    "flat_arr = arr.flatten()\n",
    "\n",
    "print(\"\\nFlattened 1D Array:\\n\", flat_arr)\n"
   ]
  }
 ],
 "metadata": {
  "kernelspec": {
   "display_name": "Python 3",
   "language": "python",
   "name": "python3"
  },
  "language_info": {
   "codemirror_mode": {
    "name": "ipython",
    "version": 3
   },
   "file_extension": ".py",
   "mimetype": "text/x-python",
   "name": "python",
   "nbconvert_exporter": "python",
   "pygments_lexer": "ipython3",
   "version": "3.13.7"
  }
 },
 "nbformat": 4,
 "nbformat_minor": 5
}
