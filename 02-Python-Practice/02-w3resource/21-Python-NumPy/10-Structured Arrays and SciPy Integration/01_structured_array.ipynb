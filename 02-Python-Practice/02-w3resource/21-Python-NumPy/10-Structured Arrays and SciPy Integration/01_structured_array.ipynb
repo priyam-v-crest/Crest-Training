{
 "cells": [
  {
   "cell_type": "code",
   "execution_count": 1,
   "id": "6c41e3f4",
   "metadata": {},
   "outputs": [
    {
     "name": "stdout",
     "output_type": "stream",
     "text": [
      "[('Lehi Piero', 25, 5.5) ('Albin Acha', 30, 5.8) ('Zerach Hav', 35, 6.1)\n",
      " ('Edmund Ter', 40, 5.9) ('Laura Feli', 28, 5.7)]\n"
     ]
    }
   ],
   "source": [
    "import numpy as np\n",
    "\n",
    "# Define the structured data type\n",
    "person_dtype = np.dtype([\n",
    "    ('name', 'U20'),   # Unicode string, up to 20 characters\n",
    "    ('age', 'i4'),     # 32-bit integer\n",
    "    ('height', 'f4')   # 32-bit float\n",
    "])\n",
    "\n",
    "# Create structured array with sample data\n",
    "people = np.array([\n",
    "    ('Lehi Piero', 25, 5.5),\n",
    "    ('Albin Acha', 30, 5.8),\n",
    "    ('Zerach Hav', 35, 6.1),\n",
    "    ('Edmund Ter', 40, 5.9),\n",
    "    ('Laura Feli', 28, 5.7)\n",
    "], dtype=person_dtype)\n",
    "\n",
    "# Print the structured array\n",
    "print(people)"
   ]
  }
 ],
 "metadata": {
  "kernelspec": {
   "display_name": "Python 3",
   "language": "python",
   "name": "python3"
  },
  "language_info": {
   "codemirror_mode": {
    "name": "ipython",
    "version": 3
   },
   "file_extension": ".py",
   "mimetype": "text/x-python",
   "name": "python",
   "nbconvert_exporter": "python",
   "pygments_lexer": "ipython3",
   "version": "3.13.7"
  }
 },
 "nbformat": 4,
 "nbformat_minor": 5
}
