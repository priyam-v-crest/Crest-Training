{
 "cells": [
  {
   "cell_type": "code",
   "execution_count": 1,
   "id": "30084af3",
   "metadata": {},
   "outputs": [
    {
     "name": "stdout",
     "output_type": "stream",
     "text": [
      "Two-sample t-test results:\n",
      "t-statistic: -4.513, p-value: 0.000\n",
      "\n",
      "Chi-square test results:\n",
      "chi2-statistic: 10.000, p-value: 0.007\n"
     ]
    }
   ],
   "source": [
    "import numpy as np\n",
    "from scipy import stats\n",
    "\n",
    "# Seed for reproducibility\n",
    "np.random.seed(42)\n",
    "\n",
    "# Generate synthetic data for t-test\n",
    "group1 = np.random.normal(loc=50, scale=5, size=30)  # mean=50\n",
    "group2 = np.random.normal(loc=55, scale=5, size=30)  # mean=55\n",
    "\n",
    "# Perform independent two-sample t-test\n",
    "t_stat, p_val_t = stats.ttest_ind(group1, group2)\n",
    "\n",
    "print(\"Two-sample t-test results:\")\n",
    "print(f\"t-statistic: {t_stat:.3f}, p-value: {p_val_t:.3f}\")\n",
    "\n",
    "# Generate synthetic data for chi-square test\n",
    "observed = np.array([10, 20, 30])\n",
    "expected = np.array([20, 20, 20])\n",
    "\n",
    "# Perform chi-square test\n",
    "chi2_stat, p_val_chi = stats.chisquare(f_obs=observed, f_exp=expected)\n",
    "\n",
    "print(\"\\nChi-square test results:\")\n",
    "print(f\"chi2-statistic: {chi2_stat:.3f}, p-value: {p_val_chi:.3f}\")"
   ]
  }
 ],
 "metadata": {
  "kernelspec": {
   "display_name": "Python 3",
   "language": "python",
   "name": "python3"
  },
  "language_info": {
   "codemirror_mode": {
    "name": "ipython",
    "version": 3
   },
   "file_extension": ".py",
   "mimetype": "text/x-python",
   "name": "python",
   "nbconvert_exporter": "python",
   "pygments_lexer": "ipython3",
   "version": "3.13.7"
  }
 },
 "nbformat": 4,
 "nbformat_minor": 5
}
