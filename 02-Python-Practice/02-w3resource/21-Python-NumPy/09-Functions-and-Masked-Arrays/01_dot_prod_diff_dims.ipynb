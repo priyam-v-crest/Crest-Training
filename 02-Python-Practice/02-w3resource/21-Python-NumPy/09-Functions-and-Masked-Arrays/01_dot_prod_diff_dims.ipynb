{
 "cells": [
  {
   "cell_type": "code",
   "execution_count": 1,
   "id": "ceb359ca",
   "metadata": {},
   "outputs": [
    {
     "name": "stdout",
     "output_type": "stream",
     "text": [
      "Original arrays:\n",
      "[[1 2]\n",
      " [3 4]\n",
      " [5 6]]\n",
      "[7 8]\n",
      "\n",
      "Dot product of the said two arrays:\n",
      "[23 53 83]\n"
     ]
    }
   ],
   "source": [
    "import numpy as np\n",
    "\n",
    "# Original arrays\n",
    "A = np.array([[1, 2],\n",
    "              [3, 4],\n",
    "              [5, 6]])\n",
    "B = np.array([7, 8])\n",
    "\n",
    "print(\"Original arrays:\")\n",
    "print(A)\n",
    "print(B)\n",
    "\n",
    "# Dot product\n",
    "dot_result = np.dot(A, B)\n",
    "print(\"\\nDot product of the said two arrays:\")\n",
    "print(dot_result)"
   ]
  },
  {
   "cell_type": "code",
   "execution_count": null,
   "id": "9d73508a",
   "metadata": {},
   "outputs": [],
   "source": []
  }
 ],
 "metadata": {
  "kernelspec": {
   "display_name": "Python 3",
   "language": "python",
   "name": "python3"
  },
  "language_info": {
   "codemirror_mode": {
    "name": "ipython",
    "version": 3
   },
   "file_extension": ".py",
   "mimetype": "text/x-python",
   "name": "python",
   "nbconvert_exporter": "python",
   "pygments_lexer": "ipython3",
   "version": "3.13.7"
  }
 },
 "nbformat": 4,
 "nbformat_minor": 5
}
