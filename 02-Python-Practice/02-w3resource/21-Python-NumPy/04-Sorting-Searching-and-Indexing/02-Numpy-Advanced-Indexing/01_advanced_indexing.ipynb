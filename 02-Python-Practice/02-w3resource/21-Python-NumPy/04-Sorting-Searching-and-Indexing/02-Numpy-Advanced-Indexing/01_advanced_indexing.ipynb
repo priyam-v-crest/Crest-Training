{
 "cells": [
  {
   "cell_type": "code",
   "execution_count": 1,
   "id": "820c47b9",
   "metadata": {},
   "outputs": [
    {
     "name": "stdout",
     "output_type": "stream",
     "text": [
      "Original 3D array:\n",
      " [[[44 47 64 67 67]\n",
      "  [ 9 83 21 36 87]\n",
      "  [70 88 88 12 58]\n",
      "  [65 39 87 46 88]]\n",
      "\n",
      " [[81 37 25 77 72]\n",
      "  [ 9 20 80 69 79]\n",
      "  [47 64 82 99 88]\n",
      "  [49 29 19 19 14]]\n",
      "\n",
      " [[39 32 65  9 57]\n",
      "  [32 31 74 23 35]\n",
      "  [75 55 28 34  0]\n",
      "  [ 0 36 53  5 38]]]\n",
      "\n",
      "Row indices:\n",
      "[0 1 2]\n",
      "Column indices:\n",
      "[1 2 3]\n",
      "\n",
      "Selected elements:\n",
      "[[[ 9 83 21 36 87]\n",
      "  [70 88 88 12 58]\n",
      "  [65 39 87 46 88]]\n",
      "\n",
      " [[ 9 20 80 69 79]\n",
      "  [47 64 82 99 88]\n",
      "  [49 29 19 19 14]]\n",
      "\n",
      " [[32 31 74 23 35]\n",
      "  [75 55 28 34  0]\n",
      "  [ 0 36 53  5 38]]]\n"
     ]
    }
   ],
   "source": [
    "import numpy as np\n",
    "\n",
    "# Create a reproducible random 3D array\n",
    "np.random.seed(0)\n",
    "arr = np.random.randint(0, 100, size=(3, 4, 5))\n",
    "print(\"Original 3D array:\\n\", arr)\n",
    "\n",
    "# Row and column indices for fancy indexing\n",
    "row_indices = np.array([0, 1, 2])\n",
    "col_indices = np.array([1, 2, 3])\n",
    "\n",
    "print(\"\\nRow indices:\")\n",
    "print(row_indices)\n",
    "print(\"Column indices:\")\n",
    "print(col_indices)\n",
    "\n",
    "# Select elements: for each slice, pick given rows and columns\n",
    "selected = arr[np.arange(arr.shape[0])[:, None], col_indices]\n",
    "\n",
    "print(\"\\nSelected elements:\")\n",
    "print(selected)"
   ]
  }
 ],
 "metadata": {
  "kernelspec": {
   "display_name": "Python 3",
   "language": "python",
   "name": "python3"
  },
  "language_info": {
   "codemirror_mode": {
    "name": "ipython",
    "version": 3
   },
   "file_extension": ".py",
   "mimetype": "text/x-python",
   "name": "python",
   "nbconvert_exporter": "python",
   "pygments_lexer": "ipython3",
   "version": "3.13.7"
  }
 },
 "nbformat": 4,
 "nbformat_minor": 5
}
