{
 "cells": [
  {
   "cell_type": "code",
   "execution_count": 1,
   "id": "58556c0f",
   "metadata": {},
   "outputs": [
    {
     "name": "stdout",
     "output_type": "stream",
     "text": [
      "Original array:\n",
      "[1023 5202 6230 1671 1682 5241 4532]\n",
      "Indices of the sorted elements of a given array:\n",
      "[0 3 4 6 1 5 2]\n"
     ]
    }
   ],
   "source": [
    "import numpy as np\n",
    "\n",
    "# Original array\n",
    "arr = np.array([1023, 5202, 6230, 1671, 1682, 5241, 4532])\n",
    "print(\"Original array:\")\n",
    "print(arr)\n",
    "\n",
    "# Indices of sorted elements\n",
    "indices = np.argsort(arr)\n",
    "print(\"Indices of the sorted elements of a given array:\")\n",
    "print(indices)"
   ]
  }
 ],
 "metadata": {
  "kernelspec": {
   "display_name": "Python 3",
   "language": "python",
   "name": "python3"
  },
  "language_info": {
   "codemirror_mode": {
    "name": "ipython",
    "version": 3
   },
   "file_extension": ".py",
   "mimetype": "text/x-python",
   "name": "python",
   "nbconvert_exporter": "python",
   "pygments_lexer": "ipython3",
   "version": "3.13.7"
  }
 },
 "nbformat": 4,
 "nbformat_minor": 5
}
