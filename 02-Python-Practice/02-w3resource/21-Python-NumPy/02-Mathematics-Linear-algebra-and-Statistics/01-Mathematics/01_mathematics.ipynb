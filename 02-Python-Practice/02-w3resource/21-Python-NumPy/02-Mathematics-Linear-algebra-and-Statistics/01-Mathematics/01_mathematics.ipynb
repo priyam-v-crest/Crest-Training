{
 "cells": [
  {
   "cell_type": "code",
   "execution_count": 1,
   "id": "dafe6544",
   "metadata": {},
   "outputs": [
    {
     "name": "stdout",
     "output_type": "stream",
     "text": [
      "Matrices and vectors.\n",
      "x:\n",
      "[1. 4. 0.]\n",
      "y:\n",
      "[2. 2. 1.]\n",
      "\n",
      "Inner product of x and y:\n",
      "10.0\n",
      "\n",
      "Outer product of x and y:\n",
      "[[2. 2. 1.]\n",
      " [8. 8. 4.]\n",
      " [0. 0. 0.]]\n",
      "\n",
      "Cross product of x and y:\n",
      "[ 4. -1. -6.]\n"
     ]
    }
   ],
   "source": [
    "import numpy as np\n",
    "\n",
    "# Define vectors\n",
    "x = np.array([1., 4., 0.])\n",
    "y = np.array([2., 2., 1.])\n",
    "\n",
    "print(\"Matrices and vectors.\")\n",
    "print(\"x:\")\n",
    "print(x)\n",
    "print(\"y:\")\n",
    "print(y)\n",
    "\n",
    "# Inner product\n",
    "inner = np.inner(x, y)\n",
    "print(\"\\nInner product of x and y:\")\n",
    "print(inner)\n",
    "\n",
    "# Outer product\n",
    "outer = np.outer(x, y)\n",
    "print(\"\\nOuter product of x and y:\")\n",
    "print(outer)\n",
    "\n",
    "# Cross product\n",
    "cross = np.cross(x, y)\n",
    "print(\"\\nCross product of x and y:\")\n",
    "print(cross)"
   ]
  },
  {
   "cell_type": "code",
   "execution_count": null,
   "id": "52e0d2cc",
   "metadata": {},
   "outputs": [],
   "source": []
  }
 ],
 "metadata": {
  "kernelspec": {
   "display_name": "Python 3",
   "language": "python",
   "name": "python3"
  },
  "language_info": {
   "codemirror_mode": {
    "name": "ipython",
    "version": 3
   },
   "file_extension": ".py",
   "mimetype": "text/x-python",
   "name": "python",
   "nbconvert_exporter": "python",
   "pygments_lexer": "ipython3",
   "version": "3.13.7"
  }
 },
 "nbformat": 4,
 "nbformat_minor": 5
}
