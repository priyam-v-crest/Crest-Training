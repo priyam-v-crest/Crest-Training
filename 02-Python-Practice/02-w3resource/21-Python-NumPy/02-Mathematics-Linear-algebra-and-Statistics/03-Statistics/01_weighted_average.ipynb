{
 "cells": [
  {
   "cell_type": "code",
   "execution_count": null,
   "id": "983ba96e",
   "metadata": {},
   "outputs": [
    {
     "name": "stdout",
     "output_type": "stream",
     "text": [
      "Original array:\n",
      "[10 20 30 40]\n",
      "Weights:\n",
      "[1 2 3 4]\n",
      "\n",
      "Weighted average of the array:\n",
      "30.0\n"
     ]
    }
   ],
   "source": [
    "import numpy as np\n",
    "\n",
    "# Original array\n",
    "arr = np.array([10, 20, 30, 40])\n",
    "weights = np.array([1, 2, 3, 4]) \n",
    "\n",
    "print(\"Original array:\")\n",
    "print(arr)\n",
    "print(\"Weights:\")\n",
    "print(weights)\n",
    "\n",
    "# Weighted average\n",
    "weighted_avg = np.average(arr, weights=weights)\n",
    "print(\"\\nWeighted average of the array:\")\n",
    "print(weighted_avg)\n"
   ]
  },
  {
   "cell_type": "code",
   "execution_count": null,
   "id": "7795fd9e",
   "metadata": {},
   "outputs": [],
   "source": []
  }
 ],
 "metadata": {
  "kernelspec": {
   "display_name": "Python 3",
   "language": "python",
   "name": "python3"
  },
  "language_info": {
   "codemirror_mode": {
    "name": "ipython",
    "version": 3
   },
   "file_extension": ".py",
   "mimetype": "text/x-python",
   "name": "python",
   "nbconvert_exporter": "python",
   "pygments_lexer": "ipython3",
   "version": "3.13.7"
  }
 },
 "nbformat": 4,
 "nbformat_minor": 5
}
