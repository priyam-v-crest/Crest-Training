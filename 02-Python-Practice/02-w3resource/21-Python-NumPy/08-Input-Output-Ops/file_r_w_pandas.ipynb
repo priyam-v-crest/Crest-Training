{
 "cells": [
  {
   "cell_type": "code",
   "execution_count": 1,
   "id": "f6a08720",
   "metadata": {},
   "outputs": [
    {
     "name": "stdout",
     "output_type": "stream",
     "text": [
      "Original NumPy Array:\n",
      "[[10 20 30]\n",
      " [40 50 60]\n",
      " [70 80 90]]\n",
      "\n",
      "Loaded NumPy Array from Excel File:\n",
      "[[10 20 30]\n",
      " [40 50 60]\n",
      " [70 80 90]]\n"
     ]
    }
   ],
   "source": [
    "import numpy as np\n",
    "import pandas as pd\n",
    "\n",
    "# Original NumPy array\n",
    "arr = np.array([[10, 20, 30],\n",
    "                [40, 50, 60],\n",
    "                [70, 80, 90]])\n",
    "print(\"Original NumPy Array:\")\n",
    "print(arr)\n",
    "\n",
    "# Convert to DataFrame\n",
    "df = pd.DataFrame(arr)\n",
    "\n",
    "# Write to Excel file\n",
    "excel_file = \"array_to_excel.xlsx\"\n",
    "df.to_excel(excel_file, index=False, header=False)\n",
    "\n",
    "# Read back from Excel file\n",
    "df_loaded = pd.read_excel(excel_file, header=None)\n",
    "arr_loaded = df_loaded.to_numpy()\n",
    "\n",
    "print(\"\\nLoaded NumPy Array from Excel File:\")\n",
    "print(arr_loaded)"
   ]
  },
  {
   "cell_type": "code",
   "execution_count": null,
   "id": "b3652445",
   "metadata": {},
   "outputs": [],
   "source": []
  }
 ],
 "metadata": {
  "kernelspec": {
   "display_name": "Python 3",
   "language": "python",
   "name": "python3"
  },
  "language_info": {
   "codemirror_mode": {
    "name": "ipython",
    "version": 3
   },
   "file_extension": ".py",
   "mimetype": "text/x-python",
   "name": "python",
   "nbconvert_exporter": "python",
   "pygments_lexer": "ipython3",
   "version": "3.13.7"
  }
 },
 "nbformat": 4,
 "nbformat_minor": 5
}
