{
 "cells": [
  {
   "cell_type": "code",
   "execution_count": 1,
   "id": "1007f4a9",
   "metadata": {},
   "outputs": [
    {
     "name": "stdout",
     "output_type": "stream",
     "text": [
      "Current date:\n",
      "2017-04-01T08:01:12.722055\n",
      "Timestamp:\n",
      "1491033672.72\n",
      "UTC from Timestamp:\n",
      "2017-04-01 08:01:12.722055\n"
     ]
    },
    {
     "name": "stderr",
     "output_type": "stream",
     "text": [
      "C:\\Users\\PriyamVyas\\AppData\\Local\\Temp\\ipykernel_8252\\880310192.py:15: DeprecationWarning: datetime.datetime.utcfromtimestamp() is deprecated and scheduled for removal in a future version. Use timezone-aware objects to represent datetimes in UTC: datetime.datetime.fromtimestamp(timestamp, datetime.UTC).\n",
      "  utc_time = datetime.datetime.utcfromtimestamp(ts)\n"
     ]
    }
   ],
   "source": [
    "import numpy as np\n",
    "import datetime\n",
    "\n",
    "# Current datetime64\n",
    "dt64 = np.datetime64('2017-04-01T08:01:12.722055')\n",
    "print(\"Current date:\")\n",
    "print(dt64)\n",
    "\n",
    "# Convert to Timestamp (POSIX seconds since epoch)\n",
    "ts = dt64.astype('datetime64[ns]').astype('int64') / 1e9\n",
    "print(\"Timestamp:\")\n",
    "print(round(ts, 2))\n",
    "\n",
    "# Convert back from timestamp to UTC datetime\n",
    "utc_time = datetime.datetime.utcfromtimestamp(ts)\n",
    "print(\"UTC from Timestamp:\")\n",
    "print(utc_time)"
   ]
  },
  {
   "cell_type": "code",
   "execution_count": null,
   "id": "15f17a70",
   "metadata": {},
   "outputs": [],
   "source": []
  }
 ],
 "metadata": {
  "kernelspec": {
   "display_name": "Python 3",
   "language": "python",
   "name": "python3"
  },
  "language_info": {
   "codemirror_mode": {
    "name": "ipython",
    "version": 3
   },
   "file_extension": ".py",
   "mimetype": "text/x-python",
   "name": "python",
   "nbconvert_exporter": "python",
   "pygments_lexer": "ipython3",
   "version": "3.13.7"
  }
 },
 "nbformat": 4,
 "nbformat_minor": 5
}
