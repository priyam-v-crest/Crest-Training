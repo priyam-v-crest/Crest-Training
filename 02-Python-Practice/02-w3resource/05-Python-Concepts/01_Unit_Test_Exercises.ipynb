{
 "cells": [
  {
   "cell_type": "markdown",
   "id": "ef054105",
   "metadata": {},
   "source": [
    "## Unit Test for Sorted List in Ascending Order"
   ]
  },
  {
   "cell_type": "code",
   "execution_count": 5,
   "id": "7b25dc46",
   "metadata": {},
   "outputs": [
    {
     "name": "stderr",
     "output_type": "stream",
     "text": [
      ".....\n",
      "----------------------------------------------------------------------\n",
      "Ran 5 tests in 0.007s\n",
      "\n",
      "OK\n"
     ]
    },
    {
     "data": {
      "text/plain": [
       "<unittest.main.TestProgram at 0x2c2b126c2b0>"
      ]
     },
     "execution_count": 5,
     "metadata": {},
     "output_type": "execute_result"
    }
   ],
   "source": [
    "import unittest\n",
    "\n",
    "def is_sorted_ascending(lst):\n",
    "    return all(lst[i] <= lst[i + 1] for i in range(len(lst) - 1))\n",
    "\n",
    "class TestSortedList(unittest.TestCase):\n",
    "    def test_sorted_list(self):\n",
    "        self.assertTrue(is_sorted_ascending([1, 2, 3, 4, 5]))\n",
    "\n",
    "    def test_unsorted_list(self):\n",
    "        self.assertFalse(is_sorted_ascending([5, 3, 1, 4, 2]))\n",
    "\n",
    "    def test_empty_list(self):\n",
    "        self.assertTrue(is_sorted_ascending([]))\n",
    "\n",
    "    def test_single_element(self):\n",
    "        self.assertTrue(is_sorted_ascending([42]))\n",
    "\n",
    "    def test_duplicates(self):\n",
    "        self.assertTrue(is_sorted_ascending([1, 2, 2, 3, 4]))\n",
    "\n",
    "unittest.main(argv=['first-arg-is-ignored'], exit=False)\n"
   ]
  },
  {
   "cell_type": "code",
   "execution_count": null,
   "id": "4377583a",
   "metadata": {},
   "outputs": [],
   "source": []
  }
 ],
 "metadata": {
  "kernelspec": {
   "display_name": "base",
   "language": "python",
   "name": "python3"
  },
  "language_info": {
   "codemirror_mode": {
    "name": "ipython",
    "version": 3
   },
   "file_extension": ".py",
   "mimetype": "text/x-python",
   "name": "python",
   "nbconvert_exporter": "python",
   "pygments_lexer": "ipython3",
   "version": "3.13.5"
  }
 },
 "nbformat": 4,
 "nbformat_minor": 5
}
