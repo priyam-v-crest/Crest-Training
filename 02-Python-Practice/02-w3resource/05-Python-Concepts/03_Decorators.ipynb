{
 "cells": [
  {
   "cell_type": "markdown",
   "id": "d9fe393f",
   "metadata": {},
   "source": [
    "## Create a Decorator to Measure Function Execution Time"
   ]
  },
  {
   "cell_type": "code",
   "execution_count": 2,
   "id": "5ec30f02",
   "metadata": {},
   "outputs": [],
   "source": [
    "import time\n",
    "def measure_time(func):\n",
    "    def wrapper(*args, **kwargs):\n",
    "        start_time = time.time()         \n",
    "        result = func(*args, **kwargs)   \n",
    "        end_time = time.time()           \n",
    "        execution_time = end_time - start_time\n",
    "        print(f\"Function '{func.__name__}' executed in {execution_time:.4f} seconds\")\n",
    "        return result\n",
    "    return wrapper"
   ]
  },
  {
   "cell_type": "code",
   "execution_count": null,
   "id": "248c6010",
   "metadata": {},
   "outputs": [
    {
     "name": "stdout",
     "output_type": "stream",
     "text": [
      "Finished Execution\n",
      "Function 'slow_function' executed in 2.0003 seconds\n"
     ]
    }
   ],
   "source": [
    "@measure_time\n",
    "def slow_function():\n",
    "    time.sleep(2)\n",
    "    print(\"Finished Execution\")\n",
    "slow_function()"
   ]
  },
  {
   "cell_type": "code",
   "execution_count": null,
   "id": "32ac3291",
   "metadata": {},
   "outputs": [],
   "source": []
  }
 ],
 "metadata": {
  "kernelspec": {
   "display_name": "base",
   "language": "python",
   "name": "python3"
  },
  "language_info": {
   "codemirror_mode": {
    "name": "ipython",
    "version": 3
   },
   "file_extension": ".py",
   "mimetype": "text/x-python",
   "name": "python",
   "nbconvert_exporter": "python",
   "pygments_lexer": "ipython3",
   "version": "3.13.5"
  }
 },
 "nbformat": 4,
 "nbformat_minor": 5
}
