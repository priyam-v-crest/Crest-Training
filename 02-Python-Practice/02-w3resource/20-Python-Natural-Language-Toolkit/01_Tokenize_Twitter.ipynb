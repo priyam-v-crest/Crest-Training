{
 "cells": [
  {
   "cell_type": "code",
   "execution_count": 1,
   "id": "58ccf42a",
   "metadata": {},
   "outputs": [
    {
     "name": "stderr",
     "output_type": "stream",
     "text": [
      "[nltk_data] Downloading package punkt to\n",
      "[nltk_data]     C:\\Users\\PriyamVyas\\AppData\\Roaming\\nltk_data...\n",
      "[nltk_data]   Package punkt is already up-to-date!\n"
     ]
    },
    {
     "name": "stdout",
     "output_type": "stream",
     "text": [
      "Original Tweet:\n",
      "@abcd @pqrs NoSQL introduction - w3resource http://bit.ly/1ngHC5F  #nosql #database #webdev\n",
      "\n",
      "Cleaned & Tokenized Tweet:\n",
      "['NoSQL', 'introduction', '-', 'w3resource', 'http', ':', '//bit.ly/1ngHC5F', '#', 'nosql', '#', 'database', '#', 'webdev']\n"
     ]
    }
   ],
   "source": [
    "import re\n",
    "import nltk\n",
    "from nltk.tokenize import word_tokenize\n",
    "\n",
    "# Download NLTK punkt tokenizer (only needed first time)\n",
    "nltk.download('punkt')\n",
    "\n",
    "# Original tweet\n",
    "tweet = \"@abcd @pqrs NoSQL introduction - w3resource http://bit.ly/1ngHC5F  #nosql #database #webdev\"\n",
    "\n",
    "# Remove Twitter handles (@username)\n",
    "clean_tweet = re.sub(r'@\\w+', '', tweet)\n",
    "\n",
    "# Tokenize the cleaned text\n",
    "tokens = word_tokenize(clean_tweet)\n",
    "\n",
    "print(\"Original Tweet:\")\n",
    "print(tweet)\n",
    "print(\"\\nCleaned & Tokenized Tweet:\")\n",
    "print(tokens)"
   ]
  },
  {
   "cell_type": "code",
   "execution_count": null,
   "id": "29ff7447",
   "metadata": {},
   "outputs": [],
   "source": []
  }
 ],
 "metadata": {
  "kernelspec": {
   "display_name": "Python 3",
   "language": "python",
   "name": "python3"
  },
  "language_info": {
   "codemirror_mode": {
    "name": "ipython",
    "version": 3
   },
   "file_extension": ".py",
   "mimetype": "text/x-python",
   "name": "python",
   "nbconvert_exporter": "python",
   "pygments_lexer": "ipython3",
   "version": "3.13.7"
  }
 },
 "nbformat": 4,
 "nbformat_minor": 5
}
