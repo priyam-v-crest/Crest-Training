{
 "cells": [
  {
   "cell_type": "markdown",
   "id": "3396003f",
   "metadata": {},
   "source": [
    "## Parse tree into a nicely formatted Unicode string, with a separate line for each HTML/XML tag and string"
   ]
  },
  {
   "cell_type": "code",
   "execution_count": 1,
   "id": "40d881a2",
   "metadata": {},
   "outputs": [
    {
     "name": "stdout",
     "output_type": "stream",
     "text": [
      "Original string:\n",
      "<p>Some<b>bad<i>HTML Code</i></b></p>\n",
      "\n",
      "Formatted Unicode string:\n",
      "<?xml version=\"1.0\" encoding=\"utf-8\"?>\n",
      "<p>\n",
      " Some\n",
      " <b>\n",
      "  bad\n",
      "  <i>\n",
      "   HTML Code\n",
      "  </i>\n",
      " </b>\n",
      "</p>\n",
      "\n"
     ]
    }
   ],
   "source": [
    "from bs4 import BeautifulSoup\n",
    "str1 = \"<p>Some<b>bad<i>HTML Code</i></b></p>\"\n",
    "print(\"Original string:\")\n",
    "print(str1)\n",
    "soup = BeautifulSoup(\"<p>Some<b>bad<i>HTML Code</i></b></p>\", \"xml\")\n",
    "print(\"\\nFormatted Unicode string:\")\n",
    "print(soup.prettify())"
   ]
  },
  {
   "cell_type": "code",
   "execution_count": null,
   "id": "3986ad36",
   "metadata": {},
   "outputs": [],
   "source": []
  }
 ],
 "metadata": {
  "kernelspec": {
   "display_name": "base",
   "language": "python",
   "name": "python3"
  },
  "language_info": {
   "codemirror_mode": {
    "name": "ipython",
    "version": 3
   },
   "file_extension": ".py",
   "mimetype": "text/x-python",
   "name": "python",
   "nbconvert_exporter": "python",
   "pygments_lexer": "ipython3",
   "version": "3.13.5"
  }
 },
 "nbformat": 4,
 "nbformat_minor": 5
}
