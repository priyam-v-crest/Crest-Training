{
 "cells": [
  {
   "cell_type": "markdown",
   "id": "ca5749a2",
   "metadata": {},
   "source": [
    "## Python function “generate_function” that takes a function name and a body as strings, and returns a dynamically generated function."
   ]
  },
  {
   "cell_type": "code",
   "execution_count": null,
   "id": "472e6cdc",
   "metadata": {},
   "outputs": [
    {
     "name": "stdout",
     "output_type": "stream",
     "text": [
      "Hello from the dynamically generated function!\n"
     ]
    }
   ],
   "source": [
    "def generate_function(name, body):\n",
    "    local_namespace = {}\n",
    "    exec(f\"def {name}():\\n    {body}\", {}, local_namespace)\n",
    "    return local_namespace[name]\n",
    "\n",
    "function_name = 'dynamic_function'\n",
    "function_body = \"print('Hello from the dynamically generated function!')\"\n",
    "\n",
    "dynamic_func = generate_function(function_name, function_body)\n",
    "\n",
    "dynamic_func()"
   ]
  },
  {
   "cell_type": "code",
   "execution_count": null,
   "id": "9210c306",
   "metadata": {},
   "outputs": [],
   "source": []
  }
 ],
 "metadata": {
  "kernelspec": {
   "display_name": "base",
   "language": "python",
   "name": "python3"
  },
  "language_info": {
   "codemirror_mode": {
    "name": "ipython",
    "version": 3
   },
   "file_extension": ".py",
   "mimetype": "text/x-python",
   "name": "python",
   "nbconvert_exporter": "python",
   "pygments_lexer": "ipython3",
   "version": "3.13.5"
  }
 },
 "nbformat": 4,
 "nbformat_minor": 5
}
