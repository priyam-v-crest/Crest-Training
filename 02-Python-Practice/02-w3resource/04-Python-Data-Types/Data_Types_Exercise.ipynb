{
 "cells": [
  {
   "cell_type": "markdown",
   "id": "6229b987",
   "metadata": {},
   "source": [
    "## Collections: Find Most Common Elements and Counts in a Text"
   ]
  },
  {
   "cell_type": "code",
   "execution_count": null,
   "id": "460e3fe0",
   "metadata": {},
   "outputs": [
    {
     "data": {
      "text/plain": [
       "[('s', 4), ('e', 3), ('f', 3)]"
      ]
     },
     "execution_count": 8,
     "metadata": {},
     "output_type": "execute_result"
    }
   ],
   "source": [
    "from collections import Counter\n",
    "\n",
    "def most_common(s):\n",
    "    return Counter(s).most_common(3)\n",
    "\n",
    "s = \"lkseropewdssafsdfafkpwe\"\n",
    "most_common(s)"
   ]
  },
  {
   "cell_type": "markdown",
   "id": "577c3c95",
   "metadata": {},
   "source": [
    "## JSON: Convert Python Dictionary (Sorted by Key) to JSON Data"
   ]
  },
  {
   "cell_type": "code",
   "execution_count": 6,
   "id": "6a9c4480",
   "metadata": {},
   "outputs": [
    {
     "data": {
      "text/plain": [
       "'{\"apple\": 5, \"banana\": 3, \"cherry\": 2}'"
      ]
     },
     "execution_count": 6,
     "metadata": {},
     "output_type": "execute_result"
    }
   ],
   "source": [
    "import json\n",
    "\n",
    "def dic_to_json_sorted(dic):\n",
    "    return json.dumps(data, sort_keys=True)\n",
    "\n",
    "data = {\n",
    "    \"banana\": 3,\n",
    "    \"apple\": 5,\n",
    "    \"cherry\": 2\n",
    "}\n",
    "\n",
    "dic_to_json_sorted(data)"
   ]
  },
  {
   "cell_type": "markdown",
   "id": "1df6869b",
   "metadata": {},
   "source": [
    "## Array: Count occurrences of a specified element in an array"
   ]
  },
  {
   "cell_type": "code",
   "execution_count": 17,
   "id": "1bf2109e",
   "metadata": {},
   "outputs": [
    {
     "data": {
      "text/plain": [
       "3"
      ]
     },
     "execution_count": 17,
     "metadata": {},
     "output_type": "execute_result"
    }
   ],
   "source": [
    "def count_occur(l,k):\n",
    "    return l.count(k)\n",
    "    \n",
    "array = [1, 3, 5, 3, 7, 9, 3]\n",
    "key = 3\n",
    "\n",
    "count_occur(array,key)"
   ]
  },
  {
   "cell_type": "markdown",
   "id": "983ff62d",
   "metadata": {},
   "source": [
    "## Enum: Display Enum member names ordered by their values"
   ]
  },
  {
   "cell_type": "code",
   "execution_count": 18,
   "id": "523fdefb",
   "metadata": {},
   "outputs": [
    {
     "name": "stdout",
     "output_type": "stream",
     "text": [
      "Country Name ordered by Country Code:\n",
      "  Afghanistan\n",
      "  Algeria\n",
      "  Angola\n",
      "  Albania\n",
      "  Andorra\n",
      "  Antarctica\n"
     ]
    }
   ],
   "source": [
    "import enum\n",
    "class Country(enum.IntEnum):\n",
    "    Afghanistan = 93\n",
    "    Albania = 355\n",
    "    Algeria = 213\n",
    "    Andorra = 376\n",
    "    Angola = 244\n",
    "    Antarctica = 672\n",
    "print('Country Name ordered by Country Code:')\n",
    "print('\\n'.join('  ' + c.name for c in sorted(Country)))"
   ]
  },
  {
   "cell_type": "code",
   "execution_count": null,
   "id": "ad49a0f7",
   "metadata": {},
   "outputs": [],
   "source": []
  }
 ],
 "metadata": {
  "kernelspec": {
   "display_name": "base",
   "language": "python",
   "name": "python3"
  },
  "language_info": {
   "codemirror_mode": {
    "name": "ipython",
    "version": 3
   },
   "file_extension": ".py",
   "mimetype": "text/x-python",
   "name": "python",
   "nbconvert_exporter": "python",
   "pygments_lexer": "ipython3",
   "version": "3.13.5"
  }
 },
 "nbformat": 4,
 "nbformat_minor": 5
}
