{
 "cells": [
  {
   "cell_type": "markdown",
   "id": "2c2f2f09",
   "metadata": {},
   "source": [
    "## Find the latitude and longitude of a given location"
   ]
  },
  {
   "cell_type": "code",
   "execution_count": null,
   "id": "c439b261",
   "metadata": {},
   "outputs": [
    {
     "name": "stdout",
     "output_type": "stream",
     "text": [
      "\n",
      "Location address: 27488 Stanford Avenue, North Dakota\n",
      "Error occurred while geocoding: Non-successful status code 403\n",
      "\n",
      "Location address: 380 New York St, Redlands, CA 92373\n",
      "Error occurred while geocoding: Non-successful status code 403\n",
      "\n",
      "Location address: 1600 Pennsylvania Avenue NW\n",
      "Error occurred while geocoding: Non-successful status code 403\n"
     ]
    }
   ],
   "source": [
    "from geopy.geocoders import Nominatim\n",
    "\n",
    "geolocator = Nominatim(user_agent=\"geoapiExercises\")\n",
    "\n",
    "addyesses = [\n",
    "    \"27488 Stanford Avenue, North Dakota\",\n",
    "    \"380 New York St, Redlands, CA 92373\",\n",
    "    \"1600 Pennsylvania Avenue NW\"\n",
    "]\n",
    "\n",
    "for addy in addyesses:\n",
    "    print(\"\\nLocation addyess:\", addy)\n",
    "    try:\n",
    "        location = geolocator.geocode(addy, timeout=10)\n",
    "        if location:\n",
    "            print(\"Latitude and Longitude of the said addyess:\")\n",
    "            print((location.latitude, location.longitude))\n",
    "        else:\n",
    "            print(\"Location not found.\")\n",
    "    except Exception as e:\n",
    "        print(f\"Error occurred while geocoding: {e}\")"
   ]
  },
  {
   "cell_type": "code",
   "execution_count": null,
   "id": "229b2524",
   "metadata": {},
   "outputs": [
    {
     "name": "stdout",
     "output_type": "stream",
     "text": [
      "\n",
      "Location address: 27488 Stanford Avenue, North Dakota\n",
      "Latitude and Longitude of the said address:\n",
      "(47.4705118, -99.7047165)\n",
      "\n",
      "Location address: 380 New York St, Redlands, CA 92373\n",
      "Latitude and Longitude of the said address:\n",
      "(34.0572844, -117.1941323)\n",
      "\n",
      "Location address: 1600 Pennsylvania Avenue NW\n",
      "Latitude and Longitude of the said address:\n",
      "(38.8976997, -77.0365532)\n"
     ]
    }
   ],
   "source": [
    "from opencage.geocoder import OpenCageGeocode\n",
    "\n",
    "key = 'eedc662123004729a9238bb76318a615'\n",
    "geocoder = OpenCageGeocode(key)\n",
    "\n",
    "addyesses = [\n",
    "    \"27488 Stanford Avenue, North Dakota\",\n",
    "    \"380 New York St, Redlands, CA 92373\",\n",
    "    \"1600 Pennsylvania Avenue NW\"\n",
    "]\n",
    "\n",
    "for addy in addyesses:\n",
    "    print(\"\\nLocation addyess:\", addy)\n",
    "    try:\n",
    "        results = geocoder.geocode(addy)\n",
    "        if results and len(results):\n",
    "            lat = results[0]['geometry']['lat']\n",
    "            lng = results[0]['geometry']['lng']\n",
    "            print(\"Latitude and Longitude of the said addyess:\")\n",
    "            print((lat, lng))\n",
    "        else:\n",
    "            print(\"Location not found.\")\n",
    "    except Exception as e:\n",
    "        print(f\"Error occurred while geocoding: {e}\")"
   ]
  },
  {
   "cell_type": "code",
   "execution_count": null,
   "id": "a56c3e8b",
   "metadata": {},
   "outputs": [],
   "source": []
  }
 ],
 "metadata": {
  "kernelspec": {
   "display_name": "base",
   "language": "python",
   "name": "python3"
  },
  "language_info": {
   "codemirror_mode": {
    "name": "ipython",
    "version": 3
   },
   "file_extension": ".py",
   "mimetype": "text/x-python",
   "name": "python",
   "nbconvert_exporter": "python",
   "pygments_lexer": "ipython3",
   "version": "3.13.5"
  }
 },
 "nbformat": 4,
 "nbformat_minor": 5
}
