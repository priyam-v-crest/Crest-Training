{
 "cells": [
  {
   "cell_type": "markdown",
   "id": "78604cc3",
   "metadata": {},
   "source": [
    "## Perform some simple statistics on a list of values"
   ]
  },
  {
   "cell_type": "code",
   "execution_count": null,
   "id": "75913667",
   "metadata": {},
   "outputs": [
    {
     "name": "stdout",
     "output_type": "stream",
     "text": [
      "Mean\t\t\t 9.5\n",
      "Median\t\t\t 8.5\n",
      "Mode\t\t\t 6\n",
      "Harmonic Mean\t\t 8.040729183774019\n",
      "Geometric Mean\t\t 8.707493275629826\n",
      "Standard Deviation\t 4.375255094603872\n",
      "Popu Standard Deviation\t 4.092676385936225\n",
      "Variance\t\t 19.142857142857142\n",
      "Population Variance\t 16.75\n"
     ]
    }
   ],
   "source": [
    "import statistics as Stats\n",
    "lst     = [6, 6, 10, 15 , 9 , 8, 17, 5]\n",
    "\n",
    "\n",
    "print(\"Mean\\t\\t\\t\", Stats.mean(lst))\n",
    "print(\"Median\\t\\t\\t\", Stats.median(lst))\n",
    "print(\"Mode\\t\\t\\t\", Stats.mode(lst))\n",
    "print(\"Harmonic Mean\\t\\t\", Stats.harmonic_mean(lst))\n",
    "print(\"Geometric Mean\\t\\t\", Stats.geometric_mean(lst))\n",
    "print(\"Standard Deviation\\t\", Stats.stdev(lst))\n",
    "print(\"Popu Standard Deviation\\t\", Stats.pstdev(lst))\n",
    "print(\"Variance\\t\\t\", Stats.variance(lst))\n",
    "print(\"Population Variance\\t\", Stats.pvariance(lst))"
   ]
  },
  {
   "cell_type": "code",
   "execution_count": null,
   "id": "84eb2e10",
   "metadata": {},
   "outputs": [],
   "source": []
  }
 ],
 "metadata": {
  "kernelspec": {
   "display_name": "base",
   "language": "python",
   "name": "python3"
  },
  "language_info": {
   "codemirror_mode": {
    "name": "ipython",
    "version": 3
   },
   "file_extension": ".py",
   "mimetype": "text/x-python",
   "name": "python",
   "nbconvert_exporter": "python",
   "pygments_lexer": "ipython3",
   "version": "3.13.5"
  }
 },
 "nbformat": 4,
 "nbformat_minor": 5
}
