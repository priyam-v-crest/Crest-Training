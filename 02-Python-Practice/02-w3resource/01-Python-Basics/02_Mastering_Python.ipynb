{
 "cells": [
  {
   "cell_type": "markdown",
   "id": "d733890d",
   "metadata": {},
   "source": [
    "## Ex - 1: Merge two lists into a dictionary, using one as keys and the other as values."
   ]
  },
  {
   "cell_type": "code",
   "execution_count": null,
   "id": "7692e798",
   "metadata": {},
   "outputs": [
    {
     "data": {
      "text/plain": [
       "{'a': 1, 'b': 2, 'c': 3}"
      ]
     },
     "execution_count": 6,
     "metadata": {},
     "output_type": "execute_result"
    }
   ],
   "source": [
    "def merge_list_to_dict(k,v):\n",
    "    return dict(zip(keys, values))\n",
    "\n",
    "keys = ['a', 'b', 'c']\n",
    "values = [1, 2, 3]\n",
    "\n",
    "merge_list_to_dict(keys,values)"
   ]
  },
  {
   "cell_type": "markdown",
   "id": "2c4bb024",
   "metadata": {},
   "source": [
    "## Ex - 2: Replace all even numbers in a list with the next odd number."
   ]
  },
  {
   "cell_type": "code",
   "execution_count": 5,
   "id": "5983f242",
   "metadata": {},
   "outputs": [
    {
     "data": {
      "text/plain": [
       "[3, 5, 9, 13, 15]"
      ]
     },
     "execution_count": 5,
     "metadata": {},
     "output_type": "execute_result"
    }
   ],
   "source": [
    "def replace_even(l):\n",
    "\n",
    "    for i in range(len(l)):\n",
    "        if l[i] % 2 == 0: \n",
    "            l[i]+=1\n",
    "    return l\n",
    "\n",
    "l = [2, 5, 8, 12, 15]\n",
    "replace_even(l)"
   ]
  },
  {
   "cell_type": "code",
   "execution_count": null,
   "id": "a19fd6d3",
   "metadata": {},
   "outputs": [],
   "source": []
  }
 ],
 "metadata": {
  "kernelspec": {
   "display_name": "base",
   "language": "python",
   "name": "python3"
  },
  "language_info": {
   "codemirror_mode": {
    "name": "ipython",
    "version": 3
   },
   "file_extension": ".py",
   "mimetype": "text/x-python",
   "name": "python",
   "nbconvert_exporter": "python",
   "pygments_lexer": "ipython3",
   "version": "3.13.5"
  }
 },
 "nbformat": 4,
 "nbformat_minor": 5
}
