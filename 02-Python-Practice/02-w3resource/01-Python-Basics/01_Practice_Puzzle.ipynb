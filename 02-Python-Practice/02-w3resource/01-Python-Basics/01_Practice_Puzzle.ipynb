{
 "cells": [
  {
   "cell_type": "markdown",
   "id": "f17635b9",
   "metadata": {},
   "source": [
    "## Ex - 1: Vowel Between Consonants Substring"
   ]
  },
  {
   "cell_type": "code",
   "execution_count": null,
   "id": "aad8b02f",
   "metadata": {},
   "outputs": [
    {
     "data": {
      "text/plain": [
       "'rin'"
      ]
     },
     "execution_count": 5,
     "metadata": {},
     "output_type": "execute_result"
    }
   ],
   "source": [
    "def vowel_between_consonants(s):\n",
    "    vowels = ['a','e','i','o','u']\n",
    "    for i in range(len(s)-1):\n",
    "        if s[i] in vowels and s[i-1] not in vowels and s[i+1] not in vowels:\n",
    "            return s[i-1: i+2]\n",
    "    return -1 \n",
    "\n",
    "s = \"string\"\n",
    "vowel_between_consonants(s)"
   ]
  },
  {
   "cell_type": "markdown",
   "id": "1fbfb643",
   "metadata": {},
   "source": [
    "## Ex - 2: String with Most Unique Characters"
   ]
  },
  {
   "cell_type": "code",
   "execution_count": null,
   "id": "5129b75e",
   "metadata": {},
   "outputs": [
    {
     "data": {
      "text/plain": [
       "'abcdefhijklmnop'"
      ]
     },
     "execution_count": 14,
     "metadata": {},
     "output_type": "execute_result"
    }
   ],
   "source": [
    "from collections import Counter\n",
    "def most_unique(l):\n",
    "    max = 0\n",
    "    idx = 0\n",
    "    for i in range(len(l)):\n",
    "        dic = dict(Counter(l[i]))\n",
    "        if len(dic) > max:\n",
    "            idx = i\n",
    "            max = len(dic)\n",
    "    return l[idx]\n",
    "\n",
    "l = ['cat', 'catatatatctsa', 'abcdefhijklmnop', '124259239185125', '', 'foo', 'unique']\n",
    "most_unique(l)"
   ]
  },
  {
   "cell_type": "code",
   "execution_count": null,
   "id": "b66d7e6e",
   "metadata": {},
   "outputs": [],
   "source": []
  }
 ],
 "metadata": {
  "kernelspec": {
   "display_name": "base",
   "language": "python",
   "name": "python3"
  },
  "language_info": {
   "codemirror_mode": {
    "name": "ipython",
    "version": 3
   },
   "file_extension": ".py",
   "mimetype": "text/x-python",
   "name": "python",
   "nbconvert_exporter": "python",
   "pygments_lexer": "ipython3",
   "version": "3.13.5"
  }
 },
 "nbformat": 4,
 "nbformat_minor": 5
}
