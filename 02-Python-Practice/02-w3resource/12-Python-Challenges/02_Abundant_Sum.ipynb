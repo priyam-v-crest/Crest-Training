{
 "cells": [
  {
   "cell_type": "markdown",
   "id": "c5972210",
   "metadata": {},
   "source": [
    "## Find the sum of all the positive integers which cannot be written as the sum of two abundant numbers"
   ]
  },
  {
   "cell_type": "code",
   "execution_count": 1,
   "id": "ccc52f33",
   "metadata": {},
   "outputs": [
    {
     "name": "stdout",
     "output_type": "stream",
     "text": [
      "4179871\n"
     ]
    }
   ],
   "source": [
    "from functools import reduce\n",
    "from itertools import combinations_with_replacement as combinations\n",
    "MAX_NUM = 28123\n",
    "\n",
    "def divisors(x):\n",
    "    return set(reduce(list.__add__, [[div, x//div] for div in range(2, int(x**0.5) + 1) if x % div == 0] + [[1]]))\n",
    "\n",
    "def abundant(nums):\n",
    "    return sum(divisors(nums)) > nums\n",
    "\n",
    "abundant_nums = (n for n in range(1, MAX_NUM) if abundant(n))\n",
    "sum_of_two_abundants = set(a + b for a, b in combinations(abundant_nums, 2))\n",
    "not_abundant_nums = (x for x in range(MAX_NUM) if x not in sum_of_two_abundants)\n",
    "print(sum(not_abundant_nums))"
   ]
  },
  {
   "cell_type": "code",
   "execution_count": null,
   "id": "6c0b7fb2",
   "metadata": {},
   "outputs": [],
   "source": []
  }
 ],
 "metadata": {
  "kernelspec": {
   "display_name": "base",
   "language": "python",
   "name": "python3"
  },
  "language_info": {
   "codemirror_mode": {
    "name": "ipython",
    "version": 3
   },
   "file_extension": ".py",
   "mimetype": "text/x-python",
   "name": "python",
   "nbconvert_exporter": "python",
   "pygments_lexer": "ipython3",
   "version": "3.13.5"
  }
 },
 "nbformat": 4,
 "nbformat_minor": 5
}
