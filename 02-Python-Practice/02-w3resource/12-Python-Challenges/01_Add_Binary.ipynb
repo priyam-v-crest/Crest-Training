{
 "cells": [
  {
   "cell_type": "markdown",
   "id": "df87ec27",
   "metadata": {},
   "source": [
    "##  Add two binary numbers"
   ]
  },
  {
   "cell_type": "code",
   "execution_count": 2,
   "id": "1ab5278e",
   "metadata": {},
   "outputs": [
    {
     "name": "stdout",
     "output_type": "stream",
     "text": [
      "100\n",
      "100\n",
      "1110\n",
      "10000000\n"
     ]
    }
   ],
   "source": [
    "def add_binary_nums(x,y):\n",
    "        max_len = max(len(x), len(y))\n",
    "\n",
    "        x = x.zfill(max_len)\n",
    "        y = y.zfill(max_len)\n",
    "\n",
    "        result = ''\n",
    "        carry = 0\n",
    "\n",
    "        for i in range(max_len-1, -1, -1):\n",
    "            r = carry\n",
    "            r += 1 if x[i] == '1' else 0\n",
    "            r += 1 if y[i] == '1' else 0\n",
    "            result = ('1' if r % 2 == 1 else '0') + result\n",
    "            carry = 0 if r < 2 else 1       \n",
    "\n",
    "        if carry !=0: \n",
    "            result = '1' + result\n",
    "\n",
    "        return result.zfill(max_len)\n",
    "    \n",
    "print(add_binary_nums('11', '1'))\n",
    "print(add_binary_nums('10', '10'))\n",
    "print(add_binary_nums('111', '111'))\n",
    "print(add_binary_nums('1111111', '1'))"
   ]
  },
  {
   "cell_type": "code",
   "execution_count": null,
   "id": "807de522",
   "metadata": {},
   "outputs": [],
   "source": []
  }
 ],
 "metadata": {
  "kernelspec": {
   "display_name": "base",
   "language": "python",
   "name": "python3"
  },
  "language_info": {
   "codemirror_mode": {
    "name": "ipython",
    "version": 3
   },
   "file_extension": ".py",
   "mimetype": "text/x-python",
   "name": "python",
   "nbconvert_exporter": "python",
   "pygments_lexer": "ipython3",
   "version": "3.13.5"
  }
 },
 "nbformat": 4,
 "nbformat_minor": 5
}
