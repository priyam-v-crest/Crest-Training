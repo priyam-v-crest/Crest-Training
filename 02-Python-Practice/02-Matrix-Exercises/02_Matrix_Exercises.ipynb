{
 "cells": [
  {
   "cell_type": "markdown",
   "id": "78fdbe25",
   "metadata": {},
   "source": [
    "## Ex - 1 \n",
    "Given a Matrix, the task is to write a Python program that can sort its rows or columns on a measure of the number of values equal to its index number. For each row or column, count occurrences of equality of index number with value. After computation of this count for each row or column, sort the matrix on basis of the count extracted for each row or column in step 1."
   ]
  },
  {
   "cell_type": "code",
   "execution_count": null,
   "id": "7a452f56",
   "metadata": {},
   "outputs": [
    {
     "name": "stdout",
     "output_type": "stream",
     "text": [
      "The original list is : [[3, 1, 2, 5, 4], [0, 1, 2, 3, 4], [6, 5, 4, 3, 2], [0, 5, 4, 2]]\n",
      "Sorted List : [[6, 5, 4, 3, 2], [0, 5, 4, 2], [3, 1, 2, 5, 4], [0, 1, 2, 3, 4]]\n"
     ]
    }
   ],
   "source": [
    "def get_idx_ele_count(row):\n",
    "    return len([ele for idx, ele in enumerate(row) if ele == idx])\n",
    "\n",
    "test_list = [[3, 1, 2, 5, 4], [0, 1, 2, 3, 4], [6, 5, 4, 3, 2], [0, 5, 4, 2]]\n",
    "\n",
    "print(\"The original list is : \" + str(test_list))\n",
    "\n",
    "test_list.sort(key=get_idx_ele_count)\n",
    "\n",
    "print(\"Sorted List : \" + str(test_list))"
   ]
  },
  {
   "cell_type": "code",
   "execution_count": null,
   "id": "29491d71",
   "metadata": {},
   "outputs": [],
   "source": []
  }
 ],
 "metadata": {
  "kernelspec": {
   "display_name": "base",
   "language": "python",
   "name": "python3"
  },
  "language_info": {
   "codemirror_mode": {
    "name": "ipython",
    "version": 3
   },
   "file_extension": ".py",
   "mimetype": "text/x-python",
   "name": "python",
   "nbconvert_exporter": "python",
   "pygments_lexer": "ipython3",
   "version": "3.13.5"
  }
 },
 "nbformat": 4,
 "nbformat_minor": 5
}
